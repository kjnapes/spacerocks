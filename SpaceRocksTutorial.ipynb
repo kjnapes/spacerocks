{
 "cells": [
  {
   "cell_type": "markdown",
   "metadata": {},
   "source": [
    "# SpaceRocks\n",
    "\n",
    "### Vectorized coordinate transformation and ephemeris calculation with robust unit handling."
   ]
  },
  {
   "cell_type": "markdown",
   "metadata": {},
   "source": [
    "To install, simply `pip install spacerocks`"
   ]
  },
  {
   "cell_type": "code",
   "execution_count": null,
   "metadata": {},
   "outputs": [],
   "source": [
    "from spacerocks import Units, SpaceRock\n",
    "import pandas as pd\n",
    "import numpy as np\n",
    "import matplotlib.pyplot as plt\n",
    "from astropy.coordinates import SkyCoord\n",
    "from astropy.time import Time\n",
    "from astropy import units as u\n",
    "%matplotlib inline\n",
    "\n",
    "from astroquery.jplhorizons import Horizons"
   ]
  },
  {
   "cell_type": "code",
   "execution_count": null,
   "metadata": {},
   "outputs": [],
   "source": [
    "units = Units()\n",
    "units.timescale= 'utc'\n",
    "units.current()"
   ]
  },
  {
   "cell_type": "code",
   "execution_count": null,
   "metadata": {},
   "outputs": [],
   "source": [
    "#startdate = Time('2020-01-01', scale='utc', format='iso')\n",
    "startdate = Time(2459225.5, scale='utc', format='jd')\n",
    "testdates = Time(np.arange(startdate.jd, startdate.jd + 100*365.25, 30), scale='utc', format='jd' )\n",
    "tno_id = 'Ceres'\n",
    "TNO_Horizons = Horizons(id=tno_id, location='@ssb', \n",
    "                        epochs={'start':testdates[0].iso, 'stop':testdates[-1].iso, 'step':'30d'})\n",
    "elements = TNO_Horizons.elements()[0]\n",
    "ephem_Horizons = Horizons(id=tno_id, location='500',\n",
    "                          epochs={'start':testdates[0].iso, 'stop':testdates[-1].iso, 'step':'30d'}).ephemerides()\n",
    "\n",
    "units = Units()\n",
    "rock = SpaceRock(a=elements['a'],\n",
    "                  e=elements['e'],\n",
    "                  inc=elements['incl'],\n",
    "                  arg=elements['w'],\n",
    "                  node=elements['Omega'],\n",
    "                  M=elements['M'],\n",
    "                  #t_peri=elements['Tp_jd'],\n",
    "                  epoch=elements['datetime_jd'],\n",
    "                  name=[tno_id],\n",
    "                  units=units,\n",
    "                  frame='barycentric')\n",
    "\n",
    "\n",
    "#o = rock.observe(obscode=500)\n",
    "#o.ra.deg, o.dec.deg\n",
    "\n",
    "prop = rock.propagate(epochs=testdates.jd, model=2)\n",
    "obs = prop.observe(obscode=500)\n",
    "#p = Propagate(TNO, obsdates=testdates.jd, model=6, add_pluto=True, gr=True)\n",
    "#TNO_predict = Observe(p, obscode='W84')\n",
    "pos_Horizons = SkyCoord(ephem_Horizons['RA'], ephem_Horizons['DEC'], frame='icrs', unit=(u.deg, u.deg))\n",
    "pos_pred = SkyCoord(obs.ra.deg, obs.dec.deg, frame='icrs', unit=(u.deg, u.deg))\n",
    "sep = pos_pred.separation(pos_Horizons)\n",
    "\n",
    "fig, ax = plt.subplots(figsize=(18, 6))\n",
    "ax.scatter(np.linspace(testdates.jd.min(), testdates.jd.max(), len(testdates)), sep.arcsec, color='black', s=5)\n",
    "ax.set_xlabel('Year', fontsize=24, labelpad=30)\n",
    "ax.set_ylabel('Residual (arcsec)', fontsize=24, labelpad=30)\n",
    "ax.grid()\n",
    "ax.tick_params(labelsize=16)\n",
    "#ax.set_xlim([2020, 2022])\n",
    "#ax.set_xticks([2020, 2021, 2022])"
   ]
  },
  {
   "cell_type": "code",
   "execution_count": null,
   "metadata": {},
   "outputs": [],
   "source": [
    "elements"
   ]
  },
  {
   "cell_type": "code",
   "execution_count": null,
   "metadata": {},
   "outputs": [],
   "source": []
  },
  {
   "cell_type": "code",
   "execution_count": null,
   "metadata": {},
   "outputs": [],
   "source": [
    "from spacerocks import Units, SpaceRock\n",
    "import numpy as np\n",
    "import matplotlib.pyplot as plt\n",
    "%matplotlib inline"
   ]
  },
  {
   "cell_type": "code",
   "execution_count": null,
   "metadata": {},
   "outputs": [],
   "source": [
    "units = Units()\n",
    "rock = SpaceRock(a=4.487673062316562E+02,\n",
    "                 e=9.214543710796702E-01,\n",
    "                 inc=5.411068217470999E+01,\n",
    "                 arg=3.480587931444684E+02,\n",
    "                 node=1.352131434907198E+02,\n",
    "                 M=3.585441302379153E+02,\n",
    "                 epoch=2458982.500000000,\n",
    "                 H=4.4,\n",
    "                 rotation_period=0.3,\n",
    "                 delta_H=0.3,\n",
    "                 phi0=np.pi/2,\n",
    "                 name='2015 BP519',\n",
    "                 frame='barycentric',\n",
    "                 units=units)\n",
    "\n",
    "prop = rock.propagate(epochs=np.linspace(2458982.5, 2458982.5 + 10, 1000), model=2)"
   ]
  },
  {
   "cell_type": "code",
   "execution_count": null,
   "metadata": {},
   "outputs": [],
   "source": [
    "fig, ax = plt.subplots(figsize=(18, 6))\n",
    "ax.plot(prop.epoch.jd, prop.H, color='black')\n",
    "ax.tick_params(labelsize=16)\n",
    "ax.set_ylabel('H', fontsize=24, labelpad=30, rotation=0)\n",
    "ax.set_xlabel('JD', fontsize=24, labelpad=30, rotation=0)"
   ]
  },
  {
   "cell_type": "code",
   "execution_count": null,
   "metadata": {},
   "outputs": [],
   "source": [
    "Nyears = 100\n",
    "startdate = Time('2021-01-01', scale='utc', format='iso')\n",
    "testdates = Time(np.arange(startdate.jd, startdate.jd + Nyears*365.25, 10), scale='utc', format='jd' )\n",
    "tno_id = 'Ceres'\n",
    "TNO_Horizons = Horizons(id=tno_id, location='@ssb')\n",
    "elements = TNO_Horizons.elements()[0]\n",
    "ephem_Horizons = Horizons(id=tno_id, location='500',\n",
    "                          epochs={'start':testdates[0].iso, 'stop':testdates[-1].iso, 'step':'10d'}).ephemerides()"
   ]
  },
  {
   "cell_type": "code",
   "execution_count": null,
   "metadata": {},
   "outputs": [],
   "source": [
    "units = Units()\n",
    "TNO = SpaceRock(a=elements['a'],\n",
    "                e=elements['e'],\n",
    "                inc=elements['incl'],\n",
    "                arg=elements['w'],\n",
    "                node=elements['Omega'],\n",
    "                M=elements['M'],\n",
    "                epoch=elements['datetime_jd'],\n",
    "                name=[tno_id],\n",
    "                input_frame='barycentric',\n",
    "                units=units)\n",
    "\n",
    "TNO_prop = TNO.propagate(epochs=testdates.jd, model=2)"
   ]
  },
  {
   "cell_type": "code",
   "execution_count": null,
   "metadata": {},
   "outputs": [],
   "source": [
    "epochs = {'start':testdates[0].iso, 'stop':testdates[-1].iso, 'step':'10d'}\n",
    "elem = Horizons(id=tno_id, epochs=epochs, location='@ssb').elements()"
   ]
  },
  {
   "cell_type": "code",
   "execution_count": null,
   "metadata": {},
   "outputs": [],
   "source": [
    "fig, ax = plt.subplots(2, 1, figsize=(18, 8), sharex=True)\n",
    "ax[0].scatter((testdates.jd - testdates.jd[0])/365.25, elem['nu'], color='black', s=50)\n",
    "ax[0].scatter((testdates.jd - testdates.jd[0])/365.25, TNO_prop.true_anomaly.deg, color='red', s=10)\n",
    "\n",
    "ax[0].set_ylabel(r'$\\nu$', fontsize=14)\n",
    "ax[0].set_xlim([0, Nyears])\n",
    "\n",
    "ax[1].scatter((testdates.jd - testdates.jd[0])/365.25, elem['nu'] - TNO_prop.true_anomaly.deg, color='black', s=50)\n",
    "\n",
    "ax[1].set_ylabel(r'$d\\nu$', fontsize=14)\n",
    "ax[1].set_xlabel('JD', fontsize=14)"
   ]
  },
  {
   "cell_type": "code",
   "execution_count": null,
   "metadata": {},
   "outputs": [],
   "source": [
    "fig, ax = plt.subplots(2, 1, figsize=(18, 8), sharex=True)\n",
    "ax[0].scatter((testdates.jd - testdates.jd[0])/365.25, elem['a'], color='black', s=50)\n",
    "ax[0].scatter((testdates.jd - testdates.jd[0])/365.25, TNO_prop.a.au, color='red', s=10)\n",
    "\n",
    "ax[0].set_ylabel(r'$a$', fontsize=14)\n",
    "ax[0].set_xlim([0, Nyears])\n",
    "\n",
    "ax[1].scatter((testdates.jd - testdates.jd[0])/365.25, elem['a'] - TNO_prop.a.au, color='black', s=50)\n",
    "\n",
    "ax[1].set_ylabel(r'$da$', fontsize=14)\n",
    "ax[1].set_xlabel('JD', fontsize=14)"
   ]
  },
  {
   "cell_type": "code",
   "execution_count": null,
   "metadata": {},
   "outputs": [],
   "source": [
    "fig, ax = plt.subplots(2, 1, figsize=(18, 8), sharex=True)\n",
    "ax[0].scatter((testdates.jd - testdates.jd[0])/365.25, elem['e'], color='black', s=50)\n",
    "ax[0].scatter((testdates.jd - testdates.jd[0])/365.25, TNO_prop.e, color='red', s=10)\n",
    "\n",
    "ax[0].set_ylabel(r'$e$', fontsize=14)\n",
    "ax[0].set_xlim([0, Nyears])\n",
    "\n",
    "ax[1].scatter((testdates.jd - testdates.jd[0])/365.25, elem['e'] - TNO_prop.e, color='black', s=50)\n",
    "\n",
    "ax[1].set_ylabel(r'$de$', fontsize=14)\n",
    "ax[1].set_xlabel('JD', fontsize=14)"
   ]
  },
  {
   "cell_type": "code",
   "execution_count": null,
   "metadata": {},
   "outputs": [],
   "source": [
    "fig, ax = plt.subplots(2, 1, figsize=(18, 8), sharex=True)\n",
    "ax[0].scatter((testdates.jd - testdates.jd[0])/365.25, elem['incl'], color='black', s=50)\n",
    "ax[0].scatter((testdates.jd - testdates.jd[0])/365.25, TNO_prop.inc.deg, color='red', s=10)\n",
    "\n",
    "ax[0].set_ylabel(r'$inc$', fontsize=14)\n",
    "ax[0].set_xlim([0, Nyears])\n",
    "\n",
    "ax[1].scatter((testdates.jd - testdates.jd[0])/365.25, elem['incl'] - TNO_prop.inc.deg, color='black', s=50)\n",
    "\n",
    "ax[1].set_ylabel(r'$dinc$', fontsize=14)\n",
    "ax[1].set_xlabel('JD', fontsize=14)"
   ]
  },
  {
   "cell_type": "code",
   "execution_count": null,
   "metadata": {},
   "outputs": [],
   "source": [
    "fig, ax = plt.subplots(2, 1, figsize=(18, 8), sharex=True)\n",
    "ax[0].scatter((testdates.jd - testdates.jd[0])/365.25, elem['w'], color='black', s=50)\n",
    "ax[0].scatter((testdates.jd - testdates.jd[0])/365.25, TNO_prop.arg.deg, color='red', s=10)\n",
    "\n",
    "ax[0].set_ylabel(r'$\\omega$', fontsize=14)\n",
    "ax[0].set_xlim([0, Nyears])\n",
    "\n",
    "ax[1].scatter((testdates.jd - testdates.jd[0])/365.25, elem['w'] - TNO_prop.arg.deg, color='black', s=50)\n",
    "\n",
    "ax[1].set_ylabel(r'$d\\omega$', fontsize=14)\n",
    "ax[1].set_xlabel('JD', fontsize=14)"
   ]
  },
  {
   "cell_type": "code",
   "execution_count": null,
   "metadata": {},
   "outputs": [],
   "source": [
    "fig, ax = plt.subplots(2, 1, figsize=(18, 8), sharex=True)\n",
    "ax[0].scatter((testdates.jd - testdates.jd[0])/365.25, elem['Omega'], color='black', s=50)\n",
    "ax[0].scatter((testdates.jd - testdates.jd[0])/365.25, TNO_prop.node.deg, color='red', s=10)\n",
    "\n",
    "ax[0].set_ylabel(r'$\\Omega$', fontsize=14)\n",
    "ax[0].set_xlim([0, Nyears])\n",
    "\n",
    "ax[1].scatter((testdates.jd - testdates.jd[0])/365.25, elem['Omega'] - TNO_prop.node.deg, color='black', s=50)\n",
    "\n",
    "ax[1].set_ylabel(r'$d\\Omega$', fontsize=14)\n",
    "ax[1].set_xlabel('JD', fontsize=14)"
   ]
  },
  {
   "cell_type": "code",
   "execution_count": null,
   "metadata": {},
   "outputs": [],
   "source": [
    "TNO_predict = TNO_prop.observe(obscode='W84')"
   ]
  },
  {
   "cell_type": "code",
   "execution_count": null,
   "metadata": {},
   "outputs": [],
   "source": [
    "pos_Horizons = SkyCoord(ephem_Horizons['RA'], ephem_Horizons['DEC'], frame='icrs', unit=(u.deg, u.deg))\n",
    "pos_pred = SkyCoord(TNO_predict.ra.deg, TNO_predict.dec.deg, frame='icrs', unit=(u.deg, u.deg))\n",
    "sep = pos_pred.separation(pos_Horizons)"
   ]
  },
  {
   "cell_type": "code",
   "execution_count": null,
   "metadata": {},
   "outputs": [],
   "source": [
    "fig, ax = plt.subplots(figsize=(18, 6))\n",
    "ax.scatter((testdates.jd - testdates.jd[0])/365.25, ephem_Horizons['RA'], color='black', s=50)\n",
    "ax.scatter((testdates.jd - testdates.jd[0])/365.25, TNO_predict.ra.deg, color='red', s=10)\n",
    "ax.set_xlabel('JD', fontsize=14)\n",
    "ax.set_ylabel('ra', fontsize=14)\n",
    "ax.set_xlim([0, Nyears]);"
   ]
  },
  {
   "cell_type": "code",
   "execution_count": null,
   "metadata": {},
   "outputs": [],
   "source": [
    "fig, ax = plt.subplots(figsize=(18, 6))\n",
    "ax.scatter((testdates.jd - testdates.jd[0])/365.25, ephem_Horizons['DEC'], color='black', s=50)\n",
    "ax.scatter((testdates.jd - testdates.jd[0])/365.25, TNO_predict.dec.deg, color='red', s=10)\n",
    "ax.set_xlabel('JD', fontsize=14)\n",
    "ax.set_ylabel('dec', fontsize=14)\n",
    "ax.set_xlim([0, Nyears]);"
   ]
  },
  {
   "cell_type": "markdown",
   "metadata": {},
   "source": [
    "---"
   ]
  },
  {
   "cell_type": "code",
   "execution_count": null,
   "metadata": {},
   "outputs": [],
   "source": [
    "fig, ax = plt.subplots(figsize=(18, 6))\n",
    "ax.scatter((testdates.jd - testdates.jd[0])/365.25, ephem_Horizons['RA_rate'], color='black', s=50)\n",
    "ax.scatter((testdates.jd - testdates.jd[0])/365.25, TNO_predict.ra_rate.to(u.arcsec/u.hour), color='red', s=10)\n",
    "ax.set_xlabel('JD', fontsize=14)\n",
    "ax.set_ylabel('ra', fontsize=14)\n",
    "ax.set_xlim([0, Nyears]);"
   ]
  },
  {
   "cell_type": "code",
   "execution_count": null,
   "metadata": {},
   "outputs": [],
   "source": [
    "fig, ax = plt.subplots(figsize=(18, 6))\n",
    "ax.scatter((testdates.jd - testdates.jd[0])/365.25, ephem_Horizons['DEC_rate'], color='black', s=50)\n",
    "ax.scatter((testdates.jd - testdates.jd[0])/365.25, TNO_predict.dec_rate.to(u.arcsec/u.hour), color='red', s=10)\n",
    "ax.set_xlabel('JD', fontsize=14)\n",
    "ax.set_ylabel('ra', fontsize=14)\n",
    "ax.set_xlim([0, Nyears]);"
   ]
  },
  {
   "cell_type": "code",
   "execution_count": null,
   "metadata": {},
   "outputs": [],
   "source": [
    "fig, ax = plt.subplots(figsize=(18, 6))\n",
    "ax.hist((ephem_Horizons['DEC_rate'] - TNO_predict.dec_rate.to(u.arcsec/u.hour)) / ephem_Horizons['DEC_rate'] , color='black', bins=100)\n",
    "ax.set_xlabel('JD', fontsize=14)\n",
    "ax.set_ylabel('ra', fontsize=14)\n",
    "ax.set_xlim([-1, 1])"
   ]
  },
  {
   "cell_type": "code",
   "execution_count": null,
   "metadata": {},
   "outputs": [],
   "source": [
    "fig, ax = plt.subplots(figsize=(18, 6))\n",
    "ax.scatter((testdates.jd - testdates.jd[0])/365.25, (ephem_Horizons['DEC_rate'] - TNO_predict.dec_rate.to(u.arcsec/u.hour)) / ephem_Horizons['DEC_rate'] , color='black', s=50)\n",
    "ax.set_xlabel('JD', fontsize=14)\n",
    "ax.set_ylabel('ra', fontsize=14)\n",
    "ax.set_xlim([0, Nyears]);\n",
    "ax.set_ylim([-1, 1])"
   ]
  },
  {
   "cell_type": "code",
   "execution_count": null,
   "metadata": {},
   "outputs": [],
   "source": [
    "fig, ax = plt.subplots(figsize=(18, 6))\n",
    "ax.scatter((testdates.jd - testdates.jd[0])/365.25, (ephem_Horizons['RA_rate'] - np.cos(TNO_predict.dec) *TNO_predict.ra_rate.to(u.arcsec/u.hour)) / ephem_Horizons['RA_rate'] , color='black', s=50)\n",
    "ax.set_xlabel('JD', fontsize=14)\n",
    "ax.set_ylabel('ra', fontsize=14)\n",
    "ax.set_xlim([0, Nyears]);\n",
    "ax.set_ylim([-1, 1])"
   ]
  },
  {
   "cell_type": "markdown",
   "metadata": {},
   "source": [
    "### Analyzing all of the TNOs in the MPC"
   ]
  },
  {
   "cell_type": "code",
   "execution_count": null,
   "metadata": {},
   "outputs": [],
   "source": [
    "TNOs = pd.read_json('https://minorplanetcenter.net/Extended_Files/distant_extended.json.gz')\n",
    "\n",
    "TNOs = TNOs[TNOs.Principal_desig.values.astype(str) == '2015 BP519']\n",
    "units = Units()\n",
    "rocks = SpaceRock(a=TNOs.a.values, \n",
    "                  e=TNOs.e.values, \n",
    "                  inc=TNOs.i.values, \n",
    "                  arg=TNOs.Peri.values, \n",
    "                  node=TNOs.Node.values, \n",
    "                  t_peri=TNOs.Tp.values, \n",
    "                  epoch=TNOs.Epoch.values,\n",
    "                  H=TNOs.H.values, \n",
    "                  name=TNOs.Principal_desig.values,\n",
    "                  #delta_H = np.random.rand(len(TNOs)),\n",
    "                  #rotation_period = np.random.uniform(0.2, 0.5, len(TNOs)),\n",
    "                  #phi0 = np.random.rand(len(TNOs)) * 2 * np.pi,\n",
    "                  input_frame='heliocentric',\n",
    "                  units=units)"
   ]
  },
  {
   "cell_type": "code",
   "execution_count": null,
   "metadata": {},
   "outputs": [],
   "source": [
    "fig, ax = plt.subplots(2, 1, figsize=(18, 12))\n",
    "ax[0].scatter((testdates.jd - testdates.jd[0])/365.25, ephem_Horizons['RA_rate'], color='black', s=50)\n",
    "ax[0].scatter((testdates.jd - testdates.jd[0])/365.25, TNO_predict.ra_rate.to(u.arcsec/u.h), color='red', s=10)\n",
    "ax[0].set_xlabel('JD', fontsize=14)\n",
    "ax[0].set_ylabel('ra rate (arcsec/h)', fontsize=14)\n",
    "ax[0].set_xlim([0, Nyears]);\n",
    "\n",
    "ax[1].scatter((testdates.jd - testdates.jd[0])/365.25, ephem_Horizons['DEC_rate'], color='black', s=50)\n",
    "ax[1].scatter((testdates.jd - testdates.jd[0])/365.25, TNO_predict.dec_rate.to(u.arcsec/u.h), color='red', s=10)\n",
    "ax[1].set_xlabel('JD', fontsize=14)\n",
    "ax[1].set_ylabel('dec rate (arcsec/h)', fontsize=14)\n",
    "ax[1].set_xlim([0, Nyears]);"
   ]
  },
  {
   "cell_type": "code",
   "execution_count": null,
   "metadata": {},
   "outputs": [],
   "source": [
    "fig, ax = plt.subplots(2, 1, figsize=(18, 12))\n",
    "ax[0].scatter((testdates.jd - testdates.jd[0])/365.25, \n",
    "              ephem_Horizons['RA_rate'] - TNO_predict.ra_rate.to(u.arcsec/u.h), color='black', s=1)\n",
    "ax[0].set_xlabel('JD', fontsize=14)\n",
    "ax[0].set_ylabel('ra rate (arcsec/h)', fontsize=14)\n",
    "ax[0].set_xlim([0, Nyears]);\n",
    "\n",
    "ax[1].scatter((testdates.jd - testdates.jd[0])/365.25, \n",
    "              ephem_Horizons['DEC_rate'] - TNO_predict.dec_rate.to(u.arcsec/u.h), color='black', s=1)\n",
    "ax[1].set_xlabel('JD', fontsize=14)\n",
    "ax[1].set_ylabel('dec rate (arcsec/h)', fontsize=14)\n",
    "ax[1].set_xlim([0, Nyears]);"
   ]
  },
  {
   "cell_type": "markdown",
   "metadata": {},
   "source": [
    "---"
   ]
  },
  {
   "cell_type": "code",
   "execution_count": null,
   "metadata": {
    "scrolled": true
   },
   "outputs": [],
   "source": [
    "#startdate = Time('2020-01-01', scale='utc', format='iso')\n",
    "startdate = Time(2459225.5, scale='utc', format='jd')\n",
    "testdates = Time(np.arange(startdate.jd, startdate.jd + 10*365.25, 30), scale='utc', format='jd' )\n",
    "tno_id = 'Ceres'\n",
    "TNO_Horizons = Horizons(id=tno_id, location='@ssb', \n",
    "                        epochs={'start':testdates[0].iso, 'stop':testdates[-1].iso, 'step':'30d'})\n",
    "elements = TNO_Horizons.elements()[0]\n",
    "ephem_Horizons = Horizons(id=tno_id, location='500',\n",
    "                          epochs={'start':testdates[0].iso, 'stop':testdates[-1].iso, 'step':'30d'}).ephemerides()\n",
    "\n",
    "units = Units()\n",
    "rock = SpaceRock(a=elements['a'],\n",
    "                  e=elements['e'],\n",
    "                  inc=elements['incl'],\n",
    "                  arg=elements['w'],\n",
    "                  node=elements['Omega'],\n",
    "                  M=elements['M'],\n",
    "                  #t_peri=elements['Tp_jd'],\n",
    "                  epoch=elements['datetime_jd'],\n",
    "                  name=[tno_id],\n",
    "                  units=units,\n",
    "                  frame='barycentric')\n",
    "\n",
    "\n",
    "o = rock.observe(obscode=500)\n",
    "o.ra.deg, o.dec.deg\n",
    "\n",
    "#prop = rock.propagate(epochs=testdates.jd, model=2)\n",
    "#obs = prop.observe(obscode=500)\n",
    "##p = Propagate(TNO, obsdates=testdates.jd, model=6, add_pluto=True, gr=True)\n",
    "##TNO_predict = Observe(p, obscode='W84')\n",
    "#pos_Horizons = SkyCoord(ephem_Horizons['RA'], ephem_Horizons['DEC'], frame='icrs', unit=(u.deg, u.deg))\n",
    "#pos_pred = SkyCoord(obs.ra.deg, obs.dec.deg, frame='icrs', unit=(u.deg, u.deg))\n",
    "#sep = pos_pred.separation(pos_Horizons)"
   ]
  },
  {
   "cell_type": "code",
   "execution_count": null,
   "metadata": {},
   "outputs": [],
   "source": []
  },
  {
   "cell_type": "code",
   "execution_count": null,
   "metadata": {},
   "outputs": [],
   "source": []
  },
  {
   "cell_type": "code",
   "execution_count": null,
   "metadata": {},
   "outputs": [],
   "source": [
    "prop = rock.propagate(epochs=[2459225.5], model=2)\n",
    "obs = prop.observe(obscode=500)"
   ]
  },
  {
   "cell_type": "code",
   "execution_count": null,
   "metadata": {},
   "outputs": [],
   "source": [
    "obs.ra.deg, obs.dec.deg"
   ]
  },
  {
   "cell_type": "code",
   "execution_count": null,
   "metadata": {},
   "outputs": [],
   "source": [
    "fig, ax = plt.subplots(figsize=(18, 6))\n",
    "ax.scatter(np.linspace(2020, 2022, len(testdates)), sep.arcsec, color='black', s=5)\n",
    "ax.set_xlabel('Year', fontsize=24, labelpad=30)\n",
    "ax.set_ylabel('Residual (arcsec)', fontsize=24, labelpad=30)\n",
    "ax.grid()\n",
    "ax.tick_params(labelsize=16)\n",
    "ax.set_xlim([2020, 2022])\n",
    "ax.set_xticks([2020, 2021, 2022])\n",
    "#ax.set_ylim(bottom=0)\n",
    "#ax.axhline(0.08, color='red', linewidth=4)"
   ]
  },
  {
   "cell_type": "code",
   "execution_count": null,
   "metadata": {},
   "outputs": [],
   "source": [
    "fig, ax = plt.subplots(figsize=(18, 6))\n",
    "ax.scatter(np.linspace(1800, 2200, len(testdates)), ephem_Horizons['DEC']*3600 - TNO_predict.dec.deg*3600, color='black', s=5)\n",
    "ax.set_xlabel('Year', fontsize=24, labelpad=30)\n",
    "ax.set_ylabel('Residual (arcsec)', fontsize=24, labelpad=30)\n",
    "ax.grid()\n",
    "ax.tick_params(labelsize=16)\n",
    "ax.set_xlim([1800, 2200])\n",
    "#ax.set_ylim(bottom=0)\n",
    "ax.axhline(0.08, color='red', linewidth=4)"
   ]
  },
  {
   "cell_type": "code",
   "execution_count": null,
   "metadata": {},
   "outputs": [],
   "source": [
    "fig, ax = plt.subplots(figsize=(18, 6))\n",
    "ax.scatter(np.linspace(1800, 2200, len(testdates)), ephem_Horizons['RA']*3600 - TNO_predict.ra.deg*3600, color='black', s=5)\n",
    "ax.set_xlabel('Year', fontsize=24, labelpad=30)\n",
    "ax.set_ylabel('Residual (arcsec)', fontsize=24, labelpad=30)\n",
    "ax.grid()\n",
    "ax.tick_params(labelsize=16)\n",
    "ax.set_xlim([1800, 2200])\n",
    "#ax.set_ylim(bottom=0)\n",
    "ax.axhline(0.08, color='red', linewidth=4)"
   ]
  },
  {
   "cell_type": "code",
   "execution_count": null,
   "metadata": {},
   "outputs": [],
   "source": [
    "units.current()"
   ]
  },
  {
   "cell_type": "code",
   "execution_count": null,
   "metadata": {},
   "outputs": [],
   "source": [
    "units.angle = 'rad'\n",
    "units.current()"
   ]
  },
  {
   "cell_type": "code",
   "execution_count": null,
   "metadata": {},
   "outputs": [],
   "source": []
  }
 ],
 "metadata": {
  "kernelspec": {
   "display_name": "Python 3",
   "language": "python",
   "name": "python3"
  },
  "language_info": {
   "codemirror_mode": {
    "name": "ipython",
    "version": 3
   },
   "file_extension": ".py",
   "mimetype": "text/x-python",
   "name": "python",
   "nbconvert_exporter": "python",
   "pygments_lexer": "ipython3",
   "version": "3.8.5"
  }
 },
 "nbformat": 4,
 "nbformat_minor": 2
}
