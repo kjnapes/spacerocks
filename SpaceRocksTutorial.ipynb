{
 "cells": [
  {
   "cell_type": "markdown",
   "metadata": {},
   "source": [
    "# SpaceRocks\n",
    "\n",
    "### Vectorized coordinate transformation and ephemeris calculation with robust unit handling."
   ]
  },
  {
   "cell_type": "markdown",
   "metadata": {},
   "source": [
    "To install, simply `pip install spacerocks`"
   ]
  },
  {
   "cell_type": "code",
   "execution_count": 1,
   "metadata": {},
   "outputs": [],
   "source": [
    "from spacerocks import Units, SpaceRock, Observe\n",
    "import pandas as pd\n",
    "import numpy as np\n",
    "import matplotlib.pyplot as plt\n",
    "from astropy.coordinates import SkyCoord\n",
    "from astropy.time import Time\n",
    "from astropy import units as u\n",
    "%matplotlib inline\n",
    "\n",
    "from astroquery.jplhorizons import Horizons"
   ]
  },
  {
   "cell_type": "code",
   "execution_count": 2,
   "metadata": {},
   "outputs": [],
   "source": [
    "units = Units()\n",
    "units.timescale = 'tdb'\n",
    "TNO = SpaceRock(a=4.487673062316562E+02,\n",
    "                e=9.214543710796702E-01,\n",
    "                inc=5.411068217470999E+01,\n",
    "                arg=3.480587931444684E+02,\n",
    "                node=1.352131434907198E+02,\n",
    "                t_peri=2473015.776611103211,\n",
    "                epoch=2458982.5,\n",
    "                input_frame='barycentric',\n",
    "                units=units)"
   ]
  },
  {
   "cell_type": "code",
   "execution_count": null,
   "metadata": {},
   "outputs": [],
   "source": [
    "o = Observe(TNO, obscode='807')\n",
    "o.ra.hms, o.dec.dms, o.delta"
   ]
  },
  {
   "cell_type": "code",
   "execution_count": null,
   "metadata": {},
   "outputs": [],
   "source": [
    "o.ra.deg"
   ]
  },
  {
   "cell_type": "code",
   "execution_count": null,
   "metadata": {},
   "outputs": [],
   "source": [
    "o = Observe(TNO)\n",
    "o.ra.hms, o.dec.dms, o.delta"
   ]
  },
  {
   "cell_type": "markdown",
   "metadata": {},
   "source": [
    "You can also pass in just a single object or an array of objects. I'll try all of the TNOs reported to the MPC. I specified an observatory code, so a topocentric correction will be applied to the Earth's position."
   ]
  },
  {
   "cell_type": "code",
   "execution_count": null,
   "metadata": {},
   "outputs": [],
   "source": [
    "Nyears = 1\n",
    "startdate = Time('2021-01-01', scale='utc', format='iso')\n",
    "testdates = Time(np.arange(startdate.jd, startdate.jd + Nyears*365.25, 10), scale='utc', format='jd' )\n",
    "tno_id = '2015 BP519'\n",
    "TNO_Horizons = Horizons(id=tno_id, location='@ssb')\n",
    "elements = TNO_Horizons.elements()[0]\n",
    "ephem_Horizons = Horizons(id=tno_id, location='500',\n",
    "                          epochs={'start':testdates[0].iso, 'stop':testdates[-1].iso, 'step':'10d'}).ephemerides()"
   ]
  },
  {
   "cell_type": "code",
   "execution_count": null,
   "metadata": {},
   "outputs": [],
   "source": [
    "units = Units()\n",
    "TNO = SpaceRock(a=elements['a'],\n",
    "                e=elements['e'],\n",
    "                inc=elements['incl'],\n",
    "                arg=elements['w'],\n",
    "                node=elements['Omega'],\n",
    "                M=elements['M'],\n",
    "                epoch=elements['datetime_jd'],\n",
    "                name=[tno_id],\n",
    "                input_frame='barycentric',\n",
    "                units=units)\n",
    "TNO.epoch.jd"
   ]
  },
  {
   "cell_type": "code",
   "execution_count": null,
   "metadata": {},
   "outputs": [],
   "source": [
    "TNO_prop = TNO.propagate(obsdates=testdates.jd, model=6)\n",
    "#o = Observe(TNO_prop)\n",
    "#o.ra.deg, o.dec.deg"
   ]
  },
  {
   "cell_type": "code",
   "execution_count": null,
   "metadata": {},
   "outputs": [],
   "source": [
    "epochs = {'start':testdates[0].iso, 'stop':testdates[-1].iso, 'step':'10d'}\n",
    "elem = Horizons(id=tno_id, epochs=epochs, location='@ssb').elements()"
   ]
  },
  {
   "cell_type": "code",
   "execution_count": null,
   "metadata": {},
   "outputs": [],
   "source": [
    "fig, ax = plt.subplots(figsize=(18, 6))\n",
    "ax.scatter((testdates.jd - testdates.jd[0])/365.25, elem['a'], color='black', s=50, label='Horizons')\n",
    "ax.scatter((testdates.jd - testdates.jd[0])/365.25, TNO_prop.a, color='red', s=10, label='Me')\n",
    "ax.set_xlabel('t - t0 (years)', fontsize=14)\n",
    "ax.set_ylabel('a', fontsize=14)\n",
    "ax.set_xlim([0, Nyears])\n",
    "ax.legend();"
   ]
  },
  {
   "cell_type": "code",
   "execution_count": null,
   "metadata": {},
   "outputs": [],
   "source": [
    "fig, ax = plt.subplots(figsize=(18, 6))\n",
    "ax.scatter((testdates.jd - testdates.jd[0])/365.25, elem['incl'], color='black', s=50)\n",
    "ax.scatter((testdates.jd - testdates.jd[0])/365.25, TNO_prop.inc.deg, color='red', s=10)\n",
    "ax.set_xlabel('JD', fontsize=14)\n",
    "ax.set_ylabel('inc', fontsize=14)\n",
    "ax.set_xlim([0, Nyears]);"
   ]
  },
  {
   "cell_type": "code",
   "execution_count": null,
   "metadata": {},
   "outputs": [],
   "source": [
    "fig, ax = plt.subplots(figsize=(18, 6))\n",
    "ax.scatter((testdates.jd - testdates.jd[0])/365.25, elem['e'], color='black', s=50)\n",
    "ax.scatter((testdates.jd - testdates.jd[0])/365.25, TNO_prop.e, color='red', s=10)\n",
    "ax.set_xlabel('JD', fontsize=14)\n",
    "ax.set_ylabel('e', fontsize=14)\n",
    "ax.set_xlim([0, Nyears]);"
   ]
  },
  {
   "cell_type": "code",
   "execution_count": null,
   "metadata": {},
   "outputs": [],
   "source": [
    "fig, ax = plt.subplots(figsize=(18, 6))\n",
    "ax.scatter((testdates.jd - testdates.jd[0])/365.25, elem['w'], color='black', s=50)\n",
    "ax.scatter((testdates.jd - testdates.jd[0])/365.25, TNO_prop.arg.deg, color='red', s=10)\n",
    "ax.set_xlabel('JD', fontsize=14)\n",
    "ax.set_ylabel(r'$\\omega$', fontsize=14)\n",
    "ax.set_xlim([0, Nyears])"
   ]
  },
  {
   "cell_type": "code",
   "execution_count": null,
   "metadata": {},
   "outputs": [],
   "source": [
    "fig, ax = plt.subplots(figsize=(18, 6))\n",
    "ax.scatter((testdates.jd - testdates.jd[0])/365.25, elem['Omega'], color='black', s=50)\n",
    "ax.scatter((testdates.jd - testdates.jd[0])/365.25, TNO_prop.node.deg, color='red', s=10)\n",
    "ax.set_xlabel('JD', fontsize=14)\n",
    "ax.set_ylabel(r'$\\omega$', fontsize=14)\n",
    "ax.set_xlim([0, Nyears])"
   ]
  },
  {
   "cell_type": "code",
   "execution_count": null,
   "metadata": {},
   "outputs": [],
   "source": [
    "fig, ax = plt.subplots(figsize=(18, 6))\n",
    "ax.scatter((testdates.jd - testdates.jd[0])/365.25, elem['M'], color='black', s=50)\n",
    "ax.scatter((testdates.jd - testdates.jd[0])/365.25, TNO_prop.M.deg, color='red', s=10)\n",
    "ax.set_xlabel('JD', fontsize=14)\n",
    "ax.set_ylabel(r'$M$', fontsize=14)\n",
    "ax.set_xlim([0, Nyears])"
   ]
  },
  {
   "cell_type": "code",
   "execution_count": null,
   "metadata": {},
   "outputs": [],
   "source": [
    "fig, ax = plt.subplots(figsize=(18, 6))\n",
    "ax.scatter((testdates.jd - testdates.jd[0])/365.25, elem['nu'], color='black', s=50)\n",
    "ax.scatter((testdates.jd - testdates.jd[0])/365.25, TNO_prop.true_anomaly.deg, color='red', s=10)\n",
    "ax.set_xlabel('JD', fontsize=14)\n",
    "ax.set_ylabel(r'$\\nu$', fontsize=14)\n",
    "ax.set_xlim([0, Nyears])"
   ]
  },
  {
   "cell_type": "code",
   "execution_count": null,
   "metadata": {},
   "outputs": [],
   "source": [
    "TNO_predict = Observe(TNO_prop, obscode='W84')"
   ]
  },
  {
   "cell_type": "code",
   "execution_count": null,
   "metadata": {},
   "outputs": [],
   "source": [
    "pos_Horizons = SkyCoord(ephem_Horizons['RA'], ephem_Horizons['DEC'], frame='icrs', unit=(u.deg, u.deg))\n",
    "pos_pred = SkyCoord(TNO_predict.ra.deg, TNO_predict.dec.deg, frame='icrs', unit=(u.deg, u.deg))\n",
    "sep = pos_pred.separation(pos_Horizons)"
   ]
  },
  {
   "cell_type": "code",
   "execution_count": null,
   "metadata": {},
   "outputs": [],
   "source": [
    "plt.scatter(ephem_Horizons['RA'], ephem_Horizons['DEC'])"
   ]
  },
  {
   "cell_type": "code",
   "execution_count": null,
   "metadata": {},
   "outputs": [],
   "source": [
    "plt.scatter(TNO_predict.ra.deg, TNO_predict.dec.deg)"
   ]
  },
  {
   "cell_type": "code",
   "execution_count": null,
   "metadata": {},
   "outputs": [],
   "source": [
    "fig, ax = plt.subplots(figsize=(18, 6))\n",
    "ax.scatter((testdates.jd - testdates.jd[0])/365.25, ephem_Horizons['RA'], color='black', s=50)\n",
    "ax.scatter((testdates.jd - testdates.jd[0])/365.25, TNO_predict.ra.deg, color='red', s=10)\n",
    "ax.set_xlabel('JD', fontsize=14)\n",
    "ax.set_ylabel('ra', fontsize=14)\n",
    "ax.set_xlim([0, Nyears]);"
   ]
  },
  {
   "cell_type": "code",
   "execution_count": null,
   "metadata": {},
   "outputs": [],
   "source": [
    "fig, ax = plt.subplots(figsize=(18, 6))\n",
    "ax.scatter((testdates.jd - testdates.jd[0])/365.25, ephem_Horizons['DEC'], color='black', s=50)\n",
    "ax.scatter((testdates.jd - testdates.jd[0])/365.25, TNO_predict.dec.deg, color='red', s=10)\n",
    "ax.set_xlabel('JD', fontsize=14)\n",
    "ax.set_ylabel('dec', fontsize=14)\n",
    "ax.set_xlim([0, Nyears]);"
   ]
  },
  {
   "cell_type": "markdown",
   "metadata": {},
   "source": [
    "---"
   ]
  },
  {
   "cell_type": "markdown",
   "metadata": {},
   "source": [
    "### Analyzing all of the TNOs in the MPC"
   ]
  },
  {
   "cell_type": "code",
   "execution_count": null,
   "metadata": {},
   "outputs": [],
   "source": [
    "TNOs = pd.read_json('https://minorplanetcenter.net/Extended_Files/distant_extended.json.gz')\n",
    "\n",
    "TNOs = TNOs[TNOs.Principal_desig.values.astype(str) == '2015 BP519']\n",
    "units = Units()\n",
    "rocks = SpaceRock(a=TNOs.a.values, \n",
    "                  e=TNOs.e.values, \n",
    "                  inc=TNOs.i.values, \n",
    "                  arg=TNOs.Peri.values, \n",
    "                  node=TNOs.Node.values, \n",
    "                  t_peri=TNOs.Tp.values, \n",
    "                  epoch=TNOs.Epoch.values,\n",
    "                  H=TNOs.H.values, \n",
    "                  name=TNOs.Principal_desig.values,\n",
    "                  #delta_H = np.random.rand(len(TNOs)),\n",
    "                  #rotation_period = np.random.uniform(0.2, 0.5, len(TNOs)),\n",
    "                  #phi0 = np.random.rand(len(TNOs)) * 2 * np.pi,\n",
    "                  input_frame='heliocentric',\n",
    "                  units=units)"
   ]
  },
  {
   "cell_type": "code",
   "execution_count": null,
   "metadata": {},
   "outputs": [],
   "source": [
    "fig, ax = plt.subplots(2, 1, figsize=(18, 12))\n",
    "ax[0].scatter((testdates.jd - testdates.jd[0])/365.25, ephem_Horizons['RA_rate'], color='black', s=50)\n",
    "ax[0].scatter((testdates.jd - testdates.jd[0])/365.25, TNO_predict.ra_rate.to(u.arcsec/u.h), color='red', s=10)\n",
    "ax[0].set_xlabel('JD', fontsize=14)\n",
    "ax[0].set_ylabel('ra rate (arcsec/h)', fontsize=14)\n",
    "ax[0].set_xlim([0, Nyears]);\n",
    "\n",
    "ax[1].scatter((testdates.jd - testdates.jd[0])/365.25, ephem_Horizons['DEC_rate'], color='black', s=50)\n",
    "ax[1].scatter((testdates.jd - testdates.jd[0])/365.25, TNO_predict.dec_rate.to(u.arcsec/u.h), color='red', s=10)\n",
    "ax[1].set_xlabel('JD', fontsize=14)\n",
    "ax[1].set_ylabel('dec rate (arcsec/h)', fontsize=14)\n",
    "ax[1].set_xlim([0, Nyears]);"
   ]
  },
  {
   "cell_type": "code",
   "execution_count": null,
   "metadata": {},
   "outputs": [],
   "source": [
    "fig, ax = plt.subplots(2, 1, figsize=(18, 12))\n",
    "ax[0].scatter((testdates.jd - testdates.jd[0])/365.25, \n",
    "              ephem_Horizons['RA_rate'] - TNO_predict.ra_rate.to(u.arcsec/u.h), color='black', s=1)\n",
    "ax[0].set_xlabel('JD', fontsize=14)\n",
    "ax[0].set_ylabel('ra rate (arcsec/h)', fontsize=14)\n",
    "ax[0].set_xlim([0, Nyears]);\n",
    "\n",
    "ax[1].scatter((testdates.jd - testdates.jd[0])/365.25, \n",
    "              ephem_Horizons['DEC_rate'] - TNO_predict.dec_rate.to(u.arcsec/u.h), color='black', s=1)\n",
    "ax[1].set_xlabel('JD', fontsize=14)\n",
    "ax[1].set_ylabel('dec rate (arcsec/h)', fontsize=14)\n",
    "ax[1].set_xlim([0, Nyears]);"
   ]
  },
  {
   "cell_type": "code",
   "execution_count": null,
   "metadata": {},
   "outputs": [],
   "source": []
  },
  {
   "cell_type": "code",
   "execution_count": null,
   "metadata": {},
   "outputs": [],
   "source": []
  },
  {
   "cell_type": "code",
   "execution_count": 6,
   "metadata": {},
   "outputs": [
    {
     "data": {
      "image/png": "[encoded data removed]",
      "text/plain": [
       "<Figure size 432x288 with 1 Axes>"
      ]
     },
     "metadata": {
      "image/png": {
       "height": 266,
       "width": 393
      },
      "needs_background": "light"
     },
     "output_type": "display_data"
    }
   ],
   "source": [
    "startdate = Time('2000-01-01', scale='utc', format='iso')\n",
    "testdates = Time(np.arange(startdate.jd, startdate.jd + 25*365.25, 30), scale='utc', format='jd' )\n",
    "tno_id = 'Apophis'\n",
    "TNO_Horizons = Horizons(id=tno_id, location='@ssb')\n",
    "elements = TNO_Horizons.elements()[0]\n",
    "ephem_Horizons = Horizons(id=tno_id, location='W84',\n",
    "                          epochs={'start':testdates[0].iso, 'stop':testdates[-1].iso, 'step':'30d'}).ephemerides()\n",
    "TNO = SpaceRock(a=elements['a'],\n",
    "                  e=elements['e'],\n",
    "                  inc=elements['incl'],\n",
    "                  arg=elements['w'],\n",
    "                  node=elements['Omega'],\n",
    "                  t_peri=elements['Tp_jd'],\n",
    "                  epoch=elements['datetime_jd'],\n",
    "                  name=[tno_id],\n",
    "                  input_frame='barycentric')\n",
    "\n",
    "p = TNO.propagate(obsdates=testdates.jd, model=6, add_pluto=True, gr=True)\n",
    "TNO_predict = Observe(p, obscode='W84')\n",
    "pos_Horizons = SkyCoord(ephem_Horizons['RA'], ephem_Horizons['DEC'], frame='icrs', unit=(u.deg, u.deg))\n",
    "pos_pred = SkyCoord(TNO_predict.ra.deg, TNO_predict.dec.deg, frame='icrs', unit=(u.deg, u.deg))\n",
    "sep = pos_pred.separation(pos_Horizons)\n",
    "\n",
    "plt.scatter(testdates.jd, sep.arcsec, color='b', s=5)\n",
    "plt.xlabel('JD', fontsize=14)\n",
    "plt.ylabel('Diff Horizons - SpaceRocks', fontsize=14)\n",
    "plt.grid()"
   ]
  },
  {
   "cell_type": "code",
   "execution_count": null,
   "metadata": {},
   "outputs": [],
   "source": []
  }
 ],
 "metadata": {
  "kernelspec": {
   "display_name": "Python 3",
   "language": "python",
   "name": "python3"
  },
  "language_info": {
   "codemirror_mode": {
    "name": "ipython",
    "version": 3
   },
   "file_extension": ".py",
   "mimetype": "text/x-python",
   "name": "python",
   "nbconvert_exporter": "python",
   "pygments_lexer": "ipython3",
   "version": "3.9.2"
  }
 },
 "nbformat": 4,
 "nbformat_minor": 2
}
