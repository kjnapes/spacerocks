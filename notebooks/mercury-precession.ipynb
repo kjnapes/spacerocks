{
 "cells": [
  {
   "cell_type": "code",
   "execution_count": 1,
   "metadata": {},
   "outputs": [],
   "source": [
    "from spacerocks import SpaceRock\n",
    "from spacerocks.spice import SpiceKernel\n",
    "from spacerocks.time import Time\n",
    "from spacerocks.nbody import Simulation, Integrator, Force\n",
    "\n",
    "import matplotlib.pyplot as plt\n",
    "%matplotlib inline\n",
    "%config InlineBackend.figure_format = 'retina'\n",
    "\n",
    "import numpy as np\n",
    "\n",
    "kernel = SpiceKernel()\n",
    "kernel.load(\"/Users/kjnapier/data/spice/latest_leapseconds.tls\")\n",
    "kernel.load(\"/Users/kjnapier/data/spice/de440s.bsp\")"
   ]
  },
  {
   "cell_type": "code",
   "execution_count": 2,
   "metadata": {},
   "outputs": [],
   "source": [
    "ARCSEC_PER_RAD = 206264.80624709636"
   ]
  },
  {
   "cell_type": "code",
   "execution_count": 3,
   "metadata": {},
   "outputs": [],
   "source": [
    "epoch = Time.now()\n",
    "planets_names = [\"sun\", \"mercury barycenter\"]\n",
    "planets = [SpaceRock.from_spice(name, epoch, reference_plane=\"ECLIPJ2000\", origin='ssb') for name in planets_names]"
   ]
  },
  {
   "cell_type": "code",
   "execution_count": 4,
   "metadata": {},
   "outputs": [
    {
     "name": "stdout",
     "output_type": "stream",
     "text": [
      "Origin: SSB with mu = 0.00029630927493457475\n",
      "Origin: simulation_barycenter with mu = 0.0002959122574091215\n"
     ]
    }
   ],
   "source": [
    "sim = Simulation()\n",
    "\n",
    "sim.set_epoch(epoch)\n",
    "sim.set_origin(\"ssb\")\n",
    "sim.set_reference_plane(\"ECLIPJ2000\")\n",
    "sim.set_integrator(Integrator.ias15(timestep=1.0))\n",
    "sim.add_force(Force.solar_gr())\n",
    "\n",
    "print(sim.origin)\n",
    "\n",
    "for planet in planets:\n",
    "    sim.add(planet)\n",
    "    \n",
    "sim.move_to_center_of_mass()\n",
    "\n",
    "print(sim.origin)"
   ]
  },
  {
   "cell_type": "code",
   "execution_count": 5,
   "metadata": {},
   "outputs": [],
   "source": [
    "mercury = sim.get_particle(\"mercury barycenter\")\n",
    "evec_0 = np.array(mercury.evec) / np.linalg.norm(mercury.evec)"
   ]
  },
  {
   "cell_type": "code",
   "execution_count": 6,
   "metadata": {},
   "outputs": [],
   "source": [
    "n = 10\n",
    "sim.integrate(epoch + n * 100 * 365.25)"
   ]
  },
  {
   "cell_type": "code",
   "execution_count": 7,
   "metadata": {},
   "outputs": [],
   "source": [
    "mercury = sim.get_particle(\"mercury barycenter\")\n",
    "evec_1 = np.array(mercury.evec) / np.linalg.norm(mercury.evec)"
   ]
  },
  {
   "cell_type": "code",
   "execution_count": 8,
   "metadata": {},
   "outputs": [
    {
     "name": "stdout",
     "output_type": "stream",
     "text": [
      "Mercury's pericenter precession rate due to GR is 43.01 arcsec/century.\n"
     ]
    }
   ],
   "source": [
    "precession_rate = np.arccos(np.dot(evec_0, evec_1)) * ARCSEC_PER_RAD / n\n",
    "\n",
    "print(f\"Mercury's pericenter precession rate due to GR is {precession_rate:.2f} arcsec/century.\")"
   ]
  },
  {
   "cell_type": "code",
   "execution_count": null,
   "metadata": {},
   "outputs": [],
   "source": []
  }
 ],
 "metadata": {
  "kernelspec": {
   "display_name": "Python 3",
   "language": "python",
   "name": "python3"
  },
  "language_info": {
   "codemirror_mode": {
    "name": "ipython",
    "version": 3
   },
   "file_extension": ".py",
   "mimetype": "text/x-python",
   "name": "python",
   "nbconvert_exporter": "python",
   "pygments_lexer": "ipython3",
   "version": "3.12.1"
  }
 },
 "nbformat": 4,
 "nbformat_minor": 2
}
