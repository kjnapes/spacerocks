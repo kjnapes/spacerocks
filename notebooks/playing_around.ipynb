{
 "cells": [
  {
   "cell_type": "code",
   "execution_count": 1,
   "metadata": {},
   "outputs": [],
   "source": [
    "from spacerocks import RockCollection, MPC\n",
    "import os"
   ]
  },
  {
   "cell_type": "code",
   "execution_count": 2,
   "metadata": {},
   "outputs": [],
   "source": [
    "data_dir = \"mpc_data\"\n",
    "os.makedirs(data_dir, exist_ok=True)\n"
   ]
  },
  {
   "cell_type": "markdown",
   "metadata": {},
   "source": [
    "# Fetch and Save the relevant MPC file, and save as a pandas df if desired"
   ]
  },
  {
   "cell_type": "code",
   "execution_count": 3,
   "metadata": {},
   "outputs": [],
   "source": [
    "mpc_handler = MPC(path=\"mpc_data\")"
   ]
  },
  {
   "cell_type": "code",
   "execution_count": 4,
   "metadata": {},
   "outputs": [],
   "source": [
    "df = mpc_handler.fetch_data(catalog=\"nea_extended\", save_to_df=True)"
   ]
  },
  {
   "cell_type": "code",
   "execution_count": 5,
   "metadata": {},
   "outputs": [
    {
     "data": {
      "text/html": [
       "<div>\n",
       "<style scoped>\n",
       "    .dataframe tbody tr th:only-of-type {\n",
       "        vertical-align: middle;\n",
       "    }\n",
       "\n",
       "    .dataframe tbody tr th {\n",
       "        vertical-align: top;\n",
       "    }\n",
       "\n",
       "    .dataframe thead th {\n",
       "        text-align: right;\n",
       "    }\n",
       "</style>\n",
       "<table border=\"1\" class=\"dataframe\">\n",
       "  <thead>\n",
       "    <tr style=\"text-align: right;\">\n",
       "      <th></th>\n",
       "      <th>H</th>\n",
       "      <th>G</th>\n",
       "      <th>Epoch</th>\n",
       "      <th>M</th>\n",
       "      <th>Peri</th>\n",
       "      <th>Node</th>\n",
       "      <th>i</th>\n",
       "      <th>e</th>\n",
       "      <th>a</th>\n",
       "      <th>Principal_desig</th>\n",
       "    </tr>\n",
       "  </thead>\n",
       "  <tbody>\n",
       "    <tr>\n",
       "      <th>0</th>\n",
       "      <td>10.41</td>\n",
       "      <td>0.15</td>\n",
       "      <td>2460600.5</td>\n",
       "      <td>86.66754</td>\n",
       "      <td>178.91030</td>\n",
       "      <td>304.27434</td>\n",
       "      <td>10.82773</td>\n",
       "      <td>0.222691</td>\n",
       "      <td>1.458181</td>\n",
       "      <td>A898 PA</td>\n",
       "    </tr>\n",
       "    <tr>\n",
       "      <th>1</th>\n",
       "      <td>15.59</td>\n",
       "      <td>0.15</td>\n",
       "      <td>2460600.5</td>\n",
       "      <td>148.45068</td>\n",
       "      <td>156.21553</td>\n",
       "      <td>183.85715</td>\n",
       "      <td>11.57526</td>\n",
       "      <td>0.546779</td>\n",
       "      <td>2.636157</td>\n",
       "      <td>A911 TB</td>\n",
       "    </tr>\n",
       "    <tr>\n",
       "      <th>2</th>\n",
       "      <td>13.81</td>\n",
       "      <td>0.15</td>\n",
       "      <td>2460600.5</td>\n",
       "      <td>340.19843</td>\n",
       "      <td>350.47424</td>\n",
       "      <td>110.42302</td>\n",
       "      <td>9.39880</td>\n",
       "      <td>0.571093</td>\n",
       "      <td>2.472525</td>\n",
       "      <td>A918 AA</td>\n",
       "    </tr>\n",
       "    <tr>\n",
       "      <th>3</th>\n",
       "      <td>9.18</td>\n",
       "      <td>0.15</td>\n",
       "      <td>2460600.5</td>\n",
       "      <td>6.98496</td>\n",
       "      <td>132.49616</td>\n",
       "      <td>215.49497</td>\n",
       "      <td>26.68673</td>\n",
       "      <td>0.532826</td>\n",
       "      <td>2.665299</td>\n",
       "      <td>A924 UB</td>\n",
       "    </tr>\n",
       "    <tr>\n",
       "      <th>4</th>\n",
       "      <td>17.37</td>\n",
       "      <td>0.15</td>\n",
       "      <td>2460600.5</td>\n",
       "      <td>271.70081</td>\n",
       "      <td>26.71762</td>\n",
       "      <td>171.26079</td>\n",
       "      <td>11.86849</td>\n",
       "      <td>0.434718</td>\n",
       "      <td>1.920154</td>\n",
       "      <td>1932 EA1</td>\n",
       "    </tr>\n",
       "    <tr>\n",
       "      <th>...</th>\n",
       "      <td>...</td>\n",
       "      <td>...</td>\n",
       "      <td>...</td>\n",
       "      <td>...</td>\n",
       "      <td>...</td>\n",
       "      <td>...</td>\n",
       "      <td>...</td>\n",
       "      <td>...</td>\n",
       "      <td>...</td>\n",
       "      <td>...</td>\n",
       "    </tr>\n",
       "    <tr>\n",
       "      <th>37338</th>\n",
       "      <td>19.88</td>\n",
       "      <td>0.15</td>\n",
       "      <td>2460600.5</td>\n",
       "      <td>16.79916</td>\n",
       "      <td>142.73350</td>\n",
       "      <td>155.01613</td>\n",
       "      <td>6.40102</td>\n",
       "      <td>0.397912</td>\n",
       "      <td>2.136127</td>\n",
       "      <td>2021 NF1</td>\n",
       "    </tr>\n",
       "    <tr>\n",
       "      <th>37339</th>\n",
       "      <td>18.43</td>\n",
       "      <td>0.15</td>\n",
       "      <td>2460600.5</td>\n",
       "      <td>261.16611</td>\n",
       "      <td>336.66141</td>\n",
       "      <td>30.64476</td>\n",
       "      <td>10.57609</td>\n",
       "      <td>0.597588</td>\n",
       "      <td>2.632801</td>\n",
       "      <td>2021 NS5</td>\n",
       "    </tr>\n",
       "    <tr>\n",
       "      <th>37340</th>\n",
       "      <td>18.93</td>\n",
       "      <td>0.15</td>\n",
       "      <td>2460600.5</td>\n",
       "      <td>220.33161</td>\n",
       "      <td>344.71167</td>\n",
       "      <td>265.00727</td>\n",
       "      <td>25.96643</td>\n",
       "      <td>0.511470</td>\n",
       "      <td>1.686187</td>\n",
       "      <td>2023 PB</td>\n",
       "    </tr>\n",
       "    <tr>\n",
       "      <th>37341</th>\n",
       "      <td>18.96</td>\n",
       "      <td>0.15</td>\n",
       "      <td>2460600.5</td>\n",
       "      <td>118.61192</td>\n",
       "      <td>233.96853</td>\n",
       "      <td>153.80370</td>\n",
       "      <td>38.47990</td>\n",
       "      <td>0.368584</td>\n",
       "      <td>1.961853</td>\n",
       "      <td>2023 QN</td>\n",
       "    </tr>\n",
       "    <tr>\n",
       "      <th>37342</th>\n",
       "      <td>19.50</td>\n",
       "      <td>0.15</td>\n",
       "      <td>2460600.5</td>\n",
       "      <td>33.46248</td>\n",
       "      <td>0.09795</td>\n",
       "      <td>267.15610</td>\n",
       "      <td>4.36852</td>\n",
       "      <td>0.550369</td>\n",
       "      <td>2.354148</td>\n",
       "      <td>2024 CR9</td>\n",
       "    </tr>\n",
       "  </tbody>\n",
       "</table>\n",
       "<p>37343 rows × 10 columns</p>\n",
       "</div>"
      ],
      "text/plain": [
       "           H     G      Epoch          M       Peri       Node         i  \\\n",
       "0      10.41  0.15  2460600.5   86.66754  178.91030  304.27434  10.82773   \n",
       "1      15.59  0.15  2460600.5  148.45068  156.21553  183.85715  11.57526   \n",
       "2      13.81  0.15  2460600.5  340.19843  350.47424  110.42302   9.39880   \n",
       "3       9.18  0.15  2460600.5    6.98496  132.49616  215.49497  26.68673   \n",
       "4      17.37  0.15  2460600.5  271.70081   26.71762  171.26079  11.86849   \n",
       "...      ...   ...        ...        ...        ...        ...       ...   \n",
       "37338  19.88  0.15  2460600.5   16.79916  142.73350  155.01613   6.40102   \n",
       "37339  18.43  0.15  2460600.5  261.16611  336.66141   30.64476  10.57609   \n",
       "37340  18.93  0.15  2460600.5  220.33161  344.71167  265.00727  25.96643   \n",
       "37341  18.96  0.15  2460600.5  118.61192  233.96853  153.80370  38.47990   \n",
       "37342  19.50  0.15  2460600.5   33.46248    0.09795  267.15610   4.36852   \n",
       "\n",
       "              e         a Principal_desig  \n",
       "0      0.222691  1.458181         A898 PA  \n",
       "1      0.546779  2.636157         A911 TB  \n",
       "2      0.571093  2.472525         A918 AA  \n",
       "3      0.532826  2.665299         A924 UB  \n",
       "4      0.434718  1.920154        1932 EA1  \n",
       "...         ...       ...             ...  \n",
       "37338  0.397912  2.136127        2021 NF1  \n",
       "37339  0.597588  2.632801        2021 NS5  \n",
       "37340  0.511470  1.686187         2023 PB  \n",
       "37341  0.368584  1.961853         2023 QN  \n",
       "37342  0.550369  2.354148        2024 CR9  \n",
       "\n",
       "[37343 rows x 10 columns]"
      ]
     },
     "execution_count": 5,
     "metadata": {},
     "output_type": "execute_result"
    }
   ],
   "source": [
    "df"
   ]
  },
  {
   "cell_type": "markdown",
   "metadata": {},
   "source": [
    "# Generate a RockCollection from the MPC directly "
   ]
  },
  {
   "cell_type": "code",
   "execution_count": 6,
   "metadata": {},
   "outputs": [
    {
     "name": "stdout",
     "output_type": "stream",
     "text": [
      "Downloading from URL: https://www.minorplanetcenter.net/Extended_Files/nea_extended.json.gz\n"
     ]
    }
   ],
   "source": [
    "rocks_nea = RockCollection.from_mpc(\n",
    "    mpc_path=data_dir,\n",
    "    catalog=\"nea_extended\",  # or whichever catalog you want\n",
    "    download_data=False  # Set to False if you've already downloaded the data, but will still download if you don't have it and it's set to False\n",
    ")"
   ]
  },
  {
   "cell_type": "code",
   "execution_count": 11,
   "metadata": {},
   "outputs": [
    {
     "name": "stdout",
     "output_type": "stream",
     "text": [
      "Downloading from URL: https://www.minorplanetcenter.net/Extended_Files/mpcorb_extended.json.gz\n"
     ]
    }
   ],
   "source": [
    "rocks_mpcorb = RockCollection.from_mpc(\n",
    "    mpc_path=data_dir,\n",
    "    catalog=\"mpcorb_extended\",  # or whichever catalog you want\n",
    "    download_data=True  # Set to False if you've already downloaded the data, but will still download if you don't have it and it's set to False\n",
    ")"
   ]
  },
  {
   "cell_type": "code",
   "execution_count": 12,
   "metadata": {},
   "outputs": [
    {
     "data": {
      "text/plain": [
       "37343"
      ]
     },
     "execution_count": 12,
     "metadata": {},
     "output_type": "execute_result"
    }
   ],
   "source": [
    "len(rocks_nea)"
   ]
  },
  {
   "cell_type": "code",
   "execution_count": 13,
   "metadata": {},
   "outputs": [
    {
     "data": {
      "text/plain": [
       "1434977"
      ]
     },
     "execution_count": 13,
     "metadata": {},
     "output_type": "execute_result"
    }
   ],
   "source": [
    "len(rocks_mpcorb)"
   ]
  },
  {
   "cell_type": "code",
   "execution_count": 9,
   "metadata": {},
   "outputs": [
    {
     "data": {
      "text/plain": [
       "array([1.87593422, 5.81650014, 5.76471526, ..., 3.45155039, 3.10706954,\n",
       "       5.23573635])"
      ]
     },
     "execution_count": 9,
     "metadata": {},
     "output_type": "execute_result"
    }
   ],
   "source": [
    "rocks_nea.a()"
   ]
  },
  {
   "cell_type": "code",
   "execution_count": null,
   "metadata": {},
   "outputs": [],
   "source": []
  }
 ],
 "metadata": {
  "kernelspec": {
   "display_name": "base",
   "language": "python",
   "name": "python3"
  },
  "language_info": {
   "codemirror_mode": {
    "name": "ipython",
    "version": 3
   },
   "file_extension": ".py",
   "mimetype": "text/x-python",
   "name": "python",
   "nbconvert_exporter": "python",
   "pygments_lexer": "ipython3",
   "version": "3.10.14"
  }
 },
 "nbformat": 4,
 "nbformat_minor": 2
}
