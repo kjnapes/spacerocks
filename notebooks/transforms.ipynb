{
 "cells": [
  {
   "cell_type": "code",
   "execution_count": 1,
   "metadata": {},
   "outputs": [],
   "source": [
    "from spacerocks import transforms"
   ]
  },
  {
   "cell_type": "code",
   "execution_count": 2,
   "metadata": {},
   "outputs": [],
   "source": [
    "e = 0.5\n",
    "mean_anomaly = 0.5"
   ]
  },
  {
   "cell_type": "code",
   "execution_count": 3,
   "metadata": {},
   "outputs": [],
   "source": [
    "conic_anomaly = transforms.calc_conic_anomaly_from_mean_anomaly(e, mean_anomaly)"
   ]
  },
  {
   "cell_type": "code",
   "execution_count": 4,
   "metadata": {},
   "outputs": [
    {
     "data": {
      "text/plain": [
       "0.8878622115708661"
      ]
     },
     "execution_count": 4,
     "metadata": {},
     "output_type": "execute_result"
    }
   ],
   "source": [
    "conic_anomaly"
   ]
  },
  {
   "cell_type": "code",
   "execution_count": 5,
   "metadata": {},
   "outputs": [
    {
     "name": "stdout",
     "output_type": "stream",
     "text": [
      "Help on built-in function calc_conic_anomaly_from_mean_anomaly:\n",
      "\n",
      "calc_conic_anomaly_from_mean_anomaly(e, mean_anomaly)\n",
      "    Calculate the conic anomaly from the mean anomaly.\n",
      "\n",
      "    # Arguments\n",
      "    * `e` Eccentricity of the conic section.\n",
      "    * `mean_anomaly` Mean anomaly in radians.\n",
      "\n",
      "    # Returns\n",
      "    * `conic_anomaly` Conic anomaly in radians.\n",
      "\n"
     ]
    }
   ],
   "source": [
    "help(transforms.calc_conic_anomaly_from_mean_anomaly)"
   ]
  },
  {
   "cell_type": "code",
   "execution_count": null,
   "metadata": {},
   "outputs": [],
   "source": []
  }
 ],
 "metadata": {
  "kernelspec": {
   "display_name": "Python 3",
   "language": "python",
   "name": "python3"
  },
  "language_info": {
   "codemirror_mode": {
    "name": "ipython",
    "version": 3
   },
   "file_extension": ".py",
   "mimetype": "text/x-python",
   "name": "python",
   "nbconvert_exporter": "python",
   "pygments_lexer": "ipython3",
   "version": "3.12.1"
  }
 },
 "nbformat": 4,
 "nbformat_minor": 2
}
