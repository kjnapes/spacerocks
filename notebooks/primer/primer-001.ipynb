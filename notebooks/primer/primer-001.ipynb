{
 "cells": [
  {
   "cell_type": "markdown",
   "metadata": {},
   "source": [
    "# Time"
   ]
  },
  {
   "cell_type": "code",
   "execution_count": 99,
   "metadata": {},
   "outputs": [],
   "source": [
    "from spacerocks.time import Time"
   ]
  },
  {
   "cell_type": "code",
   "execution_count": 100,
   "metadata": {},
   "outputs": [],
   "source": [
    "# The most general way of creating a new Time object is by specifying the time, the time scale and the time format\n",
    "t0 = Time(2049204.2, \"tdb\", \"mjd\")\n",
    "\n",
    "# Time.now() can be used to create a Time object with the current time\n",
    "t_now = Time.now()\n",
    "\n",
    "# You can also used the method Time.from_fuzzy_string() to create a Time object from a string\n",
    "time_str = \"2460661.17 utc jd\"\n",
    "t_fuzzy = Time.from_fuzzy_str(time_str)\n",
    "\n",
    "# Finally, you can create a Time object from an epoch with an unknown time format (JD or MJD)\n",
    "# The timeformat is optional, and will default to UTC\n",
    "t_unknown_jd = Time.infer_time_format(2049204.2)\n",
    "t_unknown_mjd = Time.infer_time_format(59304.2, 'tdb')\n"
   ]
  },
  {
   "cell_type": "code",
   "execution_count": 101,
   "metadata": {},
   "outputs": [
    {
     "name": "stdout",
     "output_type": "stream",
     "text": [
      "2049204.2\n",
      "TDB\n",
      "MJD\n"
     ]
    }
   ],
   "source": [
    "# Basic attributes\n",
    "print(t0.epoch)\n",
    "print(t0.timescale)\n",
    "print(t0.format)\n"
   ]
  },
  {
   "cell_type": "code",
   "execution_count": 102,
   "metadata": {},
   "outputs": [
    {
     "ename": "ValueError",
     "evalue": "Invalid timescale: 'utx'. Did you mean 'utc'?. Needs to be 'utc', 'tdb', 'tt', or 'tai'.",
     "output_type": "error",
     "traceback": [
      "\u001b[0;31m---------------------------------------------------------------------------\u001b[0m",
      "\u001b[0;31mValueError\u001b[0m                                Traceback (most recent call last)",
      "Cell \u001b[0;32mIn[102], line 2\u001b[0m\n\u001b[1;32m      1\u001b[0m \u001b[38;5;66;03m# Attempting to create a time object with an invalid timescale of timeformat will result in an error w/ suggestions\u001b[39;00m\n\u001b[0;32m----> 2\u001b[0m time_invalid \u001b[38;5;241m=\u001b[39m \u001b[43mTime\u001b[49m\u001b[43m(\u001b[49m\u001b[38;5;241;43m2029392.5\u001b[39;49m\u001b[43m,\u001b[49m\u001b[43m \u001b[49m\u001b[38;5;124;43m\"\u001b[39;49m\u001b[38;5;124;43mutx\u001b[39;49m\u001b[38;5;124;43m\"\u001b[39;49m\u001b[43m,\u001b[49m\u001b[43m \u001b[49m\u001b[38;5;124;43m\"\u001b[39;49m\u001b[38;5;124;43mjd\u001b[39;49m\u001b[38;5;124;43m\"\u001b[39;49m\u001b[43m)\u001b[49m\n",
      "\u001b[0;31mValueError\u001b[0m: Invalid timescale: 'utx'. Did you mean 'utc'?. Needs to be 'utc', 'tdb', 'tt', or 'tai'."
     ]
    }
   ],
   "source": [
    "# Attempting to create a time object with an invalid timescale of timeformat will result in an error w/ suggestions\n",
    "time_invalid = Time(2029392.5, \"utx\", \"jd\")"
   ]
  },
  {
   "cell_type": "code",
   "execution_count": 103,
   "metadata": {},
   "outputs": [
    {
     "name": "stdout",
     "output_type": "stream",
     "text": [
      "My current timescale and format for t_now is UTC, JD\n",
      "Now it is TDB, JD\n",
      "And now: TAI, JD\n",
      "The mjd is 60697.86607638886\n",
      "The jd is 2460698.366076389\n"
     ]
    }
   ],
   "source": [
    "# Change the scale of a time object in place\n",
    "epoch_now, timescale_now, format_now = t_now.epoch, t_now.timescale, t_now.format\n",
    "\n",
    "print(f\"My current timescale and format for t_now is {timescale_now}, {format_now}\")\n",
    "\n",
    "t_now.to_tdb()\n",
    "\n",
    "print(f\"Now it is {t_now.timescale}, {t_now.format}\")\n",
    "\n",
    "t_now.to_tai()\n",
    "\n",
    "print(f\"And now: {t_now.timescale}, {t_now.format}\")\n",
    "\n",
    "# Get the jd/mjd of t_now\n",
    "jd_now = t_now.jd() # or t_now.epoch\n",
    "mjd_now = t_now.mjd()\n",
    "\n",
    "print(f\"The mjd is {mjd_now}\")\n",
    "print(f\"The jd is {jd_now}\")\n"
   ]
  },
  {
   "cell_type": "code",
   "execution_count": 104,
   "metadata": {},
   "outputs": [
    {
     "data": {
      "text/plain": [
       "Time: 2460698.365648148 UTC JD"
      ]
     },
     "execution_count": 104,
     "metadata": {},
     "output_type": "execute_result"
    }
   ],
   "source": [
    "# Alrernatively, you can create a new time object with the desired timescale\n",
    "t_now_utc = t_now.to_utc()\n",
    "t_now_utc"
   ]
  },
  {
   "cell_type": "code",
   "execution_count": 105,
   "metadata": {},
   "outputs": [
    {
     "name": "stdout",
     "output_type": "stream",
     "text": [
      "2025-01-22T20:46:31.000Z\n",
      "22 Jan 2025\n"
     ]
    }
   ],
   "source": [
    "# You can get an ISO 8601 formatted string \n",
    "print(t_now.iso())\n",
    "\n",
    "# Or a calendar representation\n",
    "print(t_now.calendar())"
   ]
  },
  {
   "cell_type": "code",
   "execution_count": 106,
   "metadata": {},
   "outputs": [
    {
     "name": "stdout",
     "output_type": "stream",
     "text": [
      "2460708.365648148 2460698.365648148\n",
      "2460688.365648148 2460698.365648148\n"
     ]
    }
   ],
   "source": [
    "# Time objects also support arithmetic operations\n",
    "\n",
    "t_10_days_from_now = t_now + 10\n",
    "print(t_10_days_from_now.epoch, t_now.epoch)\n",
    "\n",
    "t_10_days_ago = t_now - 10\n",
    "print(t_10_days_ago.epoch, t_now.epoch)\n",
    "\n",
    "# Or, you can modify the time directly\n",
    "t0 += 10 #days"
   ]
  }
 ],
 "metadata": {
  "kernelspec": {
   "display_name": "Python 3",
   "language": "python",
   "name": "python3"
  },
  "language_info": {
   "codemirror_mode": {
    "name": "ipython",
    "version": 3
   },
   "file_extension": ".py",
   "mimetype": "text/x-python",
   "name": "python",
   "nbconvert_exporter": "python",
   "pygments_lexer": "ipython3",
   "version": "3.10.14"
  }
 },
 "nbformat": 4,
 "nbformat_minor": 2
}
