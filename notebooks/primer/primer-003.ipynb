{
 "cells": [
  {
   "cell_type": "code",
   "execution_count": 53,
   "metadata": {},
   "outputs": [
    {
     "name": "stdout",
     "output_type": "stream",
     "text": [
      "\n",
      "Using default configuration:\n",
      "  Kernel paths: [\"/Users/thomasruch/.spacerocks/spice\"]\n",
      "  Download directory: \"/Users/thomasruch/.spacerocks/spice\"\n",
      "  Auto-download: true\n",
      "\n",
      "Processing kernel: latest_leapseconds.tls\n",
      "✓ Found existing kernel at: /Users/thomasruch/.spacerocks/spice/latest_leapseconds.tls\n",
      "Loading kernel: /Users/thomasruch/.spacerocks/spice/latest_leapseconds.tls\n",
      "\n",
      "Processing kernel: de440s.bsp\n",
      "✓ Found existing kernel at: /Users/thomasruch/.spacerocks/spice/de440s.bsp\n",
      "Loading kernel: /Users/thomasruch/.spacerocks/spice/de440s.bsp\n",
      "\n",
      "Processing kernel: earth_1962_240827_2124_combined.bpc\n",
      "✓ Found existing kernel at: /Users/thomasruch/.spacerocks/spice/earth_1962_240827_2124_combined.bpc\n",
      "Loading kernel: /Users/thomasruch/.spacerocks/spice/earth_1962_240827_2124_combined.bpc\n"
     ]
    }
   ],
   "source": [
    "from spacerocks import SpaceRock\n",
    "from spacerocks.spice import SpiceKernel\n",
    "from spacerocks.time import Time\n",
    "\n",
    "import matplotlib.pyplot as plt\n",
    "import numpy as np\n",
    "%matplotlib inline\n",
    "%config InlineBackend.figure_format = 'retina'\n",
    "\n",
    "kernel = SpiceKernel.defaults()"
   ]
  },
  {
   "cell_type": "code",
   "execution_count": 2,
   "metadata": {},
   "outputs": [],
   "source": [
    "epoch = Time.now()"
   ]
  },
  {
   "cell_type": "code",
   "execution_count": 45,
   "metadata": {},
   "outputs": [],
   "source": [
    "# Several different ways to create a SpaceRock object\n",
    "achilles = SpaceRock.from_horizons(name=\"Achilles\", \n",
    "                                   epoch=epoch, \n",
    "                                   origin=\"SSB\", \n",
    "                                   reference_plane=\"ECLIPJ2000\")\n",
    "\n",
    "jupiter = SpaceRock.from_spice(\"jupiter barycenter\", \n",
    "                               epoch)\n",
    "\n",
    "asteroid = SpaceRock.from_xyz(\"asteroid\", \n",
    "                              x = 1.2, # In AU\n",
    "                              y = 2.3, \n",
    "                              z = 3.4, \n",
    "                              vx = 0.1, # In AU/day\n",
    "                              vy = 0.2, \n",
    "                              vz = 0.3, \n",
    "                              epoch = epoch, \n",
    "                              origin = \"SSB\", \n",
    "                              reference_plane = \"ECLIPJ2000\")\n",
    "\n",
    "rock_in_spherical_basis = SpaceRock.from_spherical(\"spherical rock\", \n",
    "                                                   phi = 0.2, #rads\n",
    "                                                   theta = 0.3, \n",
    "                                                   r = 1.0, # AU\n",
    "                                                   vr = 0.01, # rads/day\n",
    "                                                   vo = 0.002, \n",
    "                                                   psi = 0.2, \n",
    "                                                   epoch = epoch, \n",
    "                                                   origin = \"SSB\", \n",
    "                                                   reference_plane = \"ECLIPJ2000\")\n",
    "\n",
    "kepler_rock = SpaceRock.from_kepler(\"kepler rock\", \n",
    "                                    q = 1.5, \n",
    "                                    e = 0.1, \n",
    "                                    inc = 0.2, \n",
    "                                    arg = 0.3, \n",
    "                                    node = 0.4, \n",
    "                                    true_anomaly = 0.5, \n",
    "                                    epoch = epoch, \n",
    "                                    origin = \"SSB\", \n",
    "                                    reference_plane = \"ECLIPJ2000\")\n",
    "\n",
    "random_rock = SpaceRock.random(epoch)"
   ]
  },
  {
   "cell_type": "code",
   "execution_count": 46,
   "metadata": {},
   "outputs": [
    {
     "name": "stdout",
     "output_type": "stream",
     "text": [
      "0.14835439312117096 0.18005193371989864 5.526484190382268 2.3323344731405355 1.175786728236485 0.9140345211645766 1.0421361065014332 4.438302564120188 5.096744247508376\n",
      "Achilles Time: 2460699.1347685186 UTC JD Origin: SSB with mu = 0.0002963092749396808 ECLIPJ2000 4.821488827088092 -4.439945757780484 (-0.0019092552316979372, 0.1470905591076594, 0.01922883574757788) 0.0002963092749396808\n"
     ]
    }
   ],
   "source": [
    "# Access a myriad of derived properties with methods\n",
    "print(achilles.e(), \n",
    "      achilles.inc(), \n",
    "      achilles.node(),\n",
    "      achilles.arg(), \n",
    "      achilles.true_anomaly(),\n",
    "      achilles.mean_anomaly(),\n",
    "      achilles.conic_anomaly(),\n",
    "      achilles.q(), \n",
    "      achilles.p())\n",
    "\n",
    "# As well as other properties\n",
    "print(achilles.name, \n",
    "      achilles.epoch, \n",
    "      achilles.origin, \n",
    "      achilles.reference_plane,\n",
    "      achilles.r,\n",
    "      achilles.x,\n",
    "      achilles.evec, \n",
    "      achilles.mu)"
   ]
  },
  {
   "cell_type": "code",
   "execution_count": 47,
   "metadata": {},
   "outputs": [],
   "source": [
    "# Remake Achilles with its keplerian elements\n",
    "q_achilles = achilles.q()\n",
    "e_achilles  = achilles.e()\n",
    "inc_achilles  = achilles.inc()\n",
    "node_achilles  = achilles.node()\n",
    "arg_achilles  = achilles.arg()\n",
    "true_anomaly_achilles  = achilles.true_anomaly()\n",
    "\n",
    "achilles_from_kep = SpaceRock.from_kepler(\"Achilles_from_kep\",\n",
    "                                            q = q_achilles,\n",
    "                                            e = e_achilles,\n",
    "                                            inc = inc_achilles,\n",
    "                                            node = node_achilles,\n",
    "                                            arg = arg_achilles,\n",
    "                                            true_anomaly = true_anomaly_achilles,\n",
    "                                            epoch = epoch,\n",
    "                                            origin = \"SSB\",\n",
    "                                            reference_plane = \"ECLIPJ2000\")\n",
    "\n"
   ]
  },
  {
   "cell_type": "code",
   "execution_count": 55,
   "metadata": {},
   "outputs": [
    {
     "name": "stdout",
     "output_type": "stream",
     "text": [
      "2.962964572602038e-15\n",
      "6.1331736667334966e-18\n"
     ]
    }
   ],
   "source": [
    "dx = achilles_from_kep.x - achilles.x\n",
    "dy = achilles_from_kep.y - achilles.y\n",
    "dz = achilles_from_kep.z - achilles.z\n",
    "\n",
    "print(np.sqrt(dx**2 + dy**2 + dz**2))\n",
    "\n",
    "dvx = achilles_from_kep.vx - achilles.vx\n",
    "dvy = achilles_from_kep.vy - achilles.vy\n",
    "dvz = achilles_from_kep.vz - achilles.vz\n",
    "\n",
    "print(np.sqrt(dvx**2 + dvy**2 + dvz**2))"
   ]
  },
  {
   "cell_type": "code",
   "execution_count": null,
   "metadata": {},
   "outputs": [],
   "source": []
  }
 ],
 "metadata": {
  "kernelspec": {
   "display_name": "Python 3",
   "language": "python",
   "name": "python3"
  },
  "language_info": {
   "codemirror_mode": {
    "name": "ipython",
    "version": 3
   },
   "file_extension": ".py",
   "mimetype": "text/x-python",
   "name": "python",
   "nbconvert_exporter": "python",
   "pygments_lexer": "ipython3",
   "version": "3.10.14"
  }
 },
 "nbformat": 4,
 "nbformat_minor": 2
}
