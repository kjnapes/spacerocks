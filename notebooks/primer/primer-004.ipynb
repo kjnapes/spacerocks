{
 "cells": [
  {
   "cell_type": "code",
   "execution_count": 1,
   "metadata": {},
   "outputs": [],
   "source": [
    "from spacerocks.observing import Observatory\n",
    "from spacerocks.time import Time\n",
    "from spacerocks import SpaceRock\n",
    "\n",
    "from spacerocks.spice import SpiceKernel\n",
    "kernel = SpiceKernel()\n",
    "kernel.load(\"/Users/kjnapier/data/spice/latest_leapseconds.tls\")\n",
    "kernel.load(\"/Users/kjnapier/data/spice/de440s.bsp\")"
   ]
  },
  {
   "cell_type": "code",
   "execution_count": 2,
   "metadata": {},
   "outputs": [],
   "source": [
    "w84 = Observatory.from_obscode('f51')"
   ]
  },
  {
   "cell_type": "code",
   "execution_count": 3,
   "metadata": {},
   "outputs": [],
   "source": [
    "epoch = Time.now()"
   ]
  },
  {
   "cell_type": "code",
   "execution_count": 4,
   "metadata": {},
   "outputs": [],
   "source": [
    "rock = SpaceRock.from_horizons(\"Arrokoth\", epoch, reference_plane=\"J2000\", origin='SSB')\n",
    "rock.set_absolute_magnitude(11.0)"
   ]
  },
  {
   "cell_type": "code",
   "execution_count": 5,
   "metadata": {},
   "outputs": [],
   "source": [
    "o = w84.at(epoch)"
   ]
  },
  {
   "cell_type": "code",
   "execution_count": 6,
   "metadata": {},
   "outputs": [],
   "source": [
    "obs = rock.observe(o)"
   ]
  },
  {
   "cell_type": "code",
   "execution_count": 7,
   "metadata": {},
   "outputs": [
    {
     "name": "stdout",
     "output_type": "stream",
     "text": [
      "27.448399037646183\n"
     ]
    }
   ],
   "source": [
    "print(obs.mag)"
   ]
  },
  {
   "cell_type": "code",
   "execution_count": 8,
   "metadata": {},
   "outputs": [
    {
     "name": "stdout",
     "output_type": "stream",
     "text": [
      "5.155936351605591 -0.3431634137672221\n"
     ]
    }
   ],
   "source": [
    "print(obs.ra, obs.dec)"
   ]
  },
  {
   "cell_type": "code",
   "execution_count": 9,
   "metadata": {},
   "outputs": [
    {
     "name": "stdout",
     "output_type": "stream",
     "text": [
      "Observation:\n",
      "  ra: 5.155936351605591\n",
      "  dec: -0.3431634137672221\n",
      "  ra_rate: Some(0.00047191829919814764)\n",
      "  dec_rate: Some(7.607007985431569e-5)\n",
      "  range: Some(44.07850707106717)\n",
      "  range_rate: Some(0.0010007951822278806)\n",
      "  epoch: Time { epoch: 2460686.5008564815, timescale: UTC, format: JD }\n",
      "  observer: Observer { spacerock: SpaceRock { name: \"earth\", epoch: Time { epoch: 2460686.5008564815, timescale: UTC, format: JD }, reference_plane: J2000, origin: SSB, position: [[-0.3526556740513881, 0.8396215950492849, 0.36418484238752924]], velocity: [[-0.016185273734110817, -0.0054568561979792, -0.0024425510546442143]], properties: Some(Properties { mass: Some(3.0034896154502038e-6), absolute_magnitude: None, gslope: None, radius: None, albedo: None }) }, observatory: GroundObservatory { obscode: \"F51\", lon: 3.5560052019796538, lat: 0.35919444879802975, rho: 1.000064843362669 } }\n"
     ]
    },
    {
     "data": {
      "text/plain": []
     },
     "execution_count": 9,
     "metadata": {},
     "output_type": "execute_result"
    }
   ],
   "source": [
    "obs"
   ]
  },
  {
   "cell_type": "code",
   "execution_count": null,
   "metadata": {},
   "outputs": [],
   "source": []
  }
 ],
 "metadata": {
  "kernelspec": {
   "display_name": "Python 3",
   "language": "python",
   "name": "python3"
  },
  "language_info": {
   "codemirror_mode": {
    "name": "ipython",
    "version": 3
   },
   "file_extension": ".py",
   "mimetype": "text/x-python",
   "name": "python",
   "nbconvert_exporter": "python",
   "pygments_lexer": "ipython3",
   "version": "3.12.1"
  }
 },
 "nbformat": 4,
 "nbformat_minor": 2
}
