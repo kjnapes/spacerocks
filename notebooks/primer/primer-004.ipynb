{
 "cells": [
  {
   "cell_type": "code",
   "execution_count": 2,
   "metadata": {},
   "outputs": [
    {
     "name": "stdout",
     "output_type": "stream",
     "text": [
      "\n",
      "Using default configuration:\n",
      "  Kernel paths: [\"/Users/thomasruch/.spacerocks/spice\"]\n",
      "  Download directory: \"/Users/thomasruch/.spacerocks/spice\"\n",
      "  Auto-download: true\n",
      "\n",
      "Processing kernel: latest_leapseconds.tls\n",
      "✓ Found existing kernel at: /Users/thomasruch/.spacerocks/spice/latest_leapseconds.tls\n",
      "Loading kernel: /Users/thomasruch/.spacerocks/spice/latest_leapseconds.tls\n",
      "\n",
      "Processing kernel: de440s.bsp\n",
      "✓ Found existing kernel at: /Users/thomasruch/.spacerocks/spice/de440s.bsp\n",
      "Loading kernel: /Users/thomasruch/.spacerocks/spice/de440s.bsp\n",
      "\n",
      "Processing kernel: earth_1962_240827_2124_combined.bpc\n",
      "✓ Found existing kernel at: /Users/thomasruch/.spacerocks/spice/earth_1962_240827_2124_combined.bpc\n",
      "Loading kernel: /Users/thomasruch/.spacerocks/spice/earth_1962_240827_2124_combined.bpc\n"
     ]
    }
   ],
   "source": [
    "from spacerocks.observing import Observatory\n",
    "from spacerocks.time import Time\n",
    "from spacerocks import SpaceRock\n",
    "\n",
    "from spacerocks.spice import SpiceKernel\n",
    "kernel = SpiceKernel.defaults()"
   ]
  },
  {
   "cell_type": "code",
   "execution_count": 16,
   "metadata": {},
   "outputs": [],
   "source": [
    "# To observe something, we first need an observatory\n",
    "w84 = Observatory.from_obscode('w84') # DECam (CTIO)\n",
    "\n",
    "# And when we want to observe it\n",
    "epoch = Time.now()  "
   ]
  },
  {
   "cell_type": "code",
   "execution_count": 18,
   "metadata": {},
   "outputs": [
    {
     "data": {
      "text/plain": [
       "Observer at epoch: 2460699.1584953703 UTC JD"
      ]
     },
     "execution_count": 18,
     "metadata": {},
     "output_type": "execute_result"
    }
   ],
   "source": [
    "# Alright, now let's make our observer, which is our observatory at a given time\n",
    "o = w84.at(epoch)\n",
    "o"
   ]
  },
  {
   "cell_type": "code",
   "execution_count": 23,
   "metadata": {},
   "outputs": [],
   "source": [
    "# What do we want to observe?\n",
    "rock = SpaceRock.from_horizons(\"Arrokoth\", epoch, reference_plane=\"J2000\", origin='SSB')\n",
    "rock.set_absolute_magnitude(11.0)"
   ]
  },
  {
   "cell_type": "code",
   "execution_count": 26,
   "metadata": {},
   "outputs": [
    {
     "name": "stdout",
     "output_type": "stream",
     "text": [
      "Observation:\n",
      "  ra: 5.161968368867791\n",
      "  dec: -0.34218761458555297\n",
      "  ra_rate: Some(0.0004667955658562689)\n",
      "  dec_rate: Some(7.794182050899184e-5)\n",
      "  range: Some(44.0665410836222)\n",
      "  range_rate: Some(-0.0028332034310402923)\n",
      "  epoch: Time { epoch: 2460699.1584953703, timescale: UTC, format: JD }\n",
      "  observer: Observer { spacerock: SpaceRock { name: \"earth\", epoch: Time { epoch: 2460699.1584953703, timescale: UTC, format: JD }, reference_plane: J2000, origin: SSB, position: [[-0.5495356987885494, 0.7480263506737379, 0.32445095793058626]], velocity: [[-0.014397253528197516, -0.008705988088928456, -0.0038072274090692713]], properties: Some(Properties { mass: Some(3.0034896154502038e-6), absolute_magnitude: None, gslope: None, radius: None, albedo: None }) }, observatory: GroundObservatory { obscode: \"W84\", lon: 5.047380146629623, lat: -0.5236462337787118, rho: 0.9995038419300848 } }\n"
     ]
    },
    {
     "data": {
      "text/plain": []
     },
     "execution_count": 26,
     "metadata": {},
     "output_type": "execute_result"
    }
   ],
   "source": [
    "# Ok, now we are ready to observe! We MUST ensure that the observer is at the same time as the object we are observing (DUH!)\n",
    "obs = rock.observe(o)\n",
    "obs\n",
    "\n",
    "### Internal note - probably need to clean up repr so that we aren't getting printing Some from Option in RUST"
   ]
  },
  {
   "cell_type": "code",
   "execution_count": 33,
   "metadata": {},
   "outputs": [
    {
     "name": "stdout",
     "output_type": "stream",
     "text": [
      "RA: 5.161968368867791\n",
      "Dec: -0.34218761458555297\n",
      "Mag: 27.46208503316114\n"
     ]
    }
   ],
   "source": [
    "# We can now get some of the properties of the object we're observing\n",
    "print(f\"RA: {obs.ra}\")\n",
    "print(f\"Dec: {obs.dec}\")\n",
    "print(f\"Mag: {obs.mag}\")"
   ]
  },
  {
   "cell_type": "code",
   "execution_count": null,
   "metadata": {},
   "outputs": [],
   "source": []
  }
 ],
 "metadata": {
  "kernelspec": {
   "display_name": "Python 3",
   "language": "python",
   "name": "python3"
  },
  "language_info": {
   "codemirror_mode": {
    "name": "ipython",
    "version": 3
   },
   "file_extension": ".py",
   "mimetype": "text/x-python",
   "name": "python",
   "nbconvert_exporter": "python",
   "pygments_lexer": "ipython3",
   "version": "3.10.14"
  }
 },
 "nbformat": 4,
 "nbformat_minor": 2
}
