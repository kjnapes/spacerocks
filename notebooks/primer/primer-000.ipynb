{
 "cells": [
  {
   "cell_type": "markdown",
   "metadata": {},
   "source": [
    "# spacerocks primer\n",
    "\n",
    "This notebook describes the basic use cases of `spacerocks`, and shows how to import the modules."
   ]
  },
  {
   "cell_type": "markdown",
   "metadata": {},
   "source": [
    "---"
   ]
  },
  {
   "cell_type": "markdown",
   "metadata": {},
   "source": [
    "`spacerocks` is composed of some root classes, as well as several modules. \n",
    "\n",
    "The classes in the package root are:\n",
    "- `SpaceRock`\n",
    "- `RockCollection`\n",
    "\n",
    "At the moment, the main modules are:\n",
    "- `time`\n",
    "- `spice`\n",
    "- `nbody`\n",
    "- `observing`\n",
    "- `transforms`\n",
    "- `orbfit`\n",
    "\n",
    "Import them as follows:"
   ]
  },
  {
   "cell_type": "code",
   "execution_count": 1,
   "metadata": {},
   "outputs": [],
   "source": [
    "from spacerocks import SpaceRock, RockCollection\n",
    "from spacerocks.time import Time\n",
    "from spacerocks.spice import SpiceKernel\n",
    "from spacerocks.observing import Observatory, Observation\n",
    "from spacerocks.nbody import Simulation, Integrator\n",
    "from spacerocks.transforms import calc_conic_anomaly_from_true_anomaly # etc...\n",
    "from spacerocks.orbfit import gauss"
   ]
  },
  {
   "cell_type": "markdown",
   "metadata": {},
   "source": [
    "The rest of the notebooks in the primer will show how to use these classes and modules."
   ]
  },
  {
   "cell_type": "markdown",
   "metadata": {},
   "source": [
    "---"
   ]
  }
 ],
 "metadata": {
  "kernelspec": {
   "display_name": "Python 3",
   "language": "python",
   "name": "python3"
  },
  "language_info": {
   "codemirror_mode": {
    "name": "ipython",
    "version": 3
   },
   "file_extension": ".py",
   "mimetype": "text/x-python",
   "name": "python",
   "nbconvert_exporter": "python",
   "pygments_lexer": "ipython3",
   "version": "3.12.1"
  }
 },
 "nbformat": 4,
 "nbformat_minor": 2
}
