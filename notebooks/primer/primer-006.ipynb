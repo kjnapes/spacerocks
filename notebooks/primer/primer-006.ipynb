{
 "cells": [
  {
   "cell_type": "code",
   "execution_count": 1,
   "metadata": {},
   "outputs": [],
   "source": [
    "from spacerocks import SpaceRock, RockCollection\n",
    "from spacerocks.time import Time\n",
    "from spacerocks.spice import SpiceKernel\n",
    "\n",
    "kernel = SpiceKernel()\n",
    "# kernel.load(\"/Users/kjnapier/data/spice/latest_leapseconds.tls\")\n",
    "# kernel.load(\"/Users/kjnapier/data/spice/de440s.bsp\")\n",
    "\n",
    "kernel.load(\"/Users/thomasruch/Gerdes/leap_seconds.tls\")\n",
    "kernel.load(\"/Users/thomasruch/Gerdes/de440s.bsp\")\n",
    "kernel.load(\"/Users/thomasruch/Gerdes/earth_1962_240827_2124_combined.bpc\")\n",
    "\n",
    "epoch = Time.now()"
   ]
  },
  {
   "cell_type": "code",
   "execution_count": 2,
   "metadata": {},
   "outputs": [],
   "source": [
    "rock1 = SpaceRock.from_spice(name=\"Neptune Barycenter\", epoch=epoch, reference_plane=\"ECLIPJ2000\", origin=\"SSB\")\n",
    "rock2 = SpaceRock.from_spice(name=\"Jupiter Barycenter\", epoch=epoch, reference_plane=\"ECLIPJ2000\", origin=\"SSB\")\n",
    "rock3 = SpaceRock.from_spice(name=\"Saturn Barycenter\", epoch=epoch, reference_plane=\"ECLIPJ2000\", origin=\"SSB\")\n",
    "rock4 = SpaceRock.from_spice(name=\"Uranus Barycenter\", epoch=epoch, reference_plane=\"ECLIPJ2000\", origin=\"SSB\")"
   ]
  },
  {
   "cell_type": "code",
   "execution_count": 3,
   "metadata": {},
   "outputs": [],
   "source": [
    "rocks = RockCollection()\n",
    "rocks.add(rock1)\n",
    "rocks.add(rock2)\n",
    "rocks.add(rock3)\n",
    "rocks.add(rock4)"
   ]
  },
  {
   "cell_type": "code",
   "execution_count": 4,
   "metadata": {},
   "outputs": [
    {
     "name": "stdout",
     "output_type": "stream",
     "text": [
      "RockCollection: 4 rocks\n",
      "a: [30.06945248  5.17704854  9.52941984 19.18562348]\n",
      "e: [0.00864302 0.04735829 0.05488941 0.04732133]\n",
      "inc: [0.03089645 0.02275249 0.04341987 0.0134757 ]\n"
     ]
    }
   ],
   "source": [
    "print(rocks)\n",
    "print(f\"a: {rocks.a()}\")\n",
    "print(f\"e: {rocks.e()}\")\n",
    "print(f\"inc: {rocks.inc()}\")"
   ]
  },
  {
   "cell_type": "code",
   "execution_count": 5,
   "metadata": {},
   "outputs": [],
   "source": [
    "rocks_beyond_10au = rocks.filter(rocks.a() > 10)"
   ]
  },
  {
   "cell_type": "code",
   "execution_count": 6,
   "metadata": {},
   "outputs": [
    {
     "name": "stdout",
     "output_type": "stream",
     "text": [
      "RockCollection: 2 rocks\n",
      "a: [30.06945248 19.18562348]\n",
      "e: [0.00864302 0.04732133]\n",
      "inc: [0.03089645 0.0134757 ]\n"
     ]
    }
   ],
   "source": [
    "print(rocks_beyond_10au)\n",
    "print(f\"a: {rocks_beyond_10au.a()}\")\n",
    "print(f\"e: {rocks_beyond_10au.e()}\")\n",
    "print(f\"inc: {rocks_beyond_10au.inc()}\")"
   ]
  },
  {
   "cell_type": "code",
   "execution_count": 7,
   "metadata": {},
   "outputs": [],
   "source": [
    "from spacerocks.observing import Observatory"
   ]
  },
  {
   "cell_type": "code",
   "execution_count": 8,
   "metadata": {},
   "outputs": [],
   "source": [
    "w84 = Observatory.from_obscode(\"W84\")"
   ]
  },
  {
   "cell_type": "code",
   "execution_count": 9,
   "metadata": {},
   "outputs": [],
   "source": [
    "observer = w84.at(epoch, reference_plane=\"J2000\", origin=\"SSB\")"
   ]
  },
  {
   "cell_type": "code",
   "execution_count": 10,
   "metadata": {},
   "outputs": [],
   "source": [
    "o = rocks.observe(observer) "
   ]
  },
  {
   "cell_type": "code",
   "execution_count": 11,
   "metadata": {},
   "outputs": [
    {
     "name": "stdout",
     "output_type": "stream",
     "text": [
      "6.247691522871431 -0.039668452127585185\n",
      "1.2229383740087876 0.37732995285834553\n"
     ]
    }
   ],
   "source": [
    "print(o[0].ra, o[0].dec)\n",
    "print(o[1].ra, o[1].dec)"
   ]
  },
  {
   "cell_type": "code",
   "execution_count": null,
   "metadata": {},
   "outputs": [],
   "source": []
  }
 ],
 "metadata": {
  "kernelspec": {
   "display_name": "Python 3",
   "language": "python",
   "name": "python3"
  },
  "language_info": {
   "codemirror_mode": {
    "name": "ipython",
    "version": 3
   },
   "file_extension": ".py",
   "mimetype": "text/x-python",
   "name": "python",
   "nbconvert_exporter": "python",
   "pygments_lexer": "ipython3",
   "version": "3.10.14"
  }
 },
 "nbformat": 4,
 "nbformat_minor": 2
}
