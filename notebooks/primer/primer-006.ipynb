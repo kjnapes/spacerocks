{
 "cells": [
  {
   "cell_type": "code",
   "execution_count": 7,
   "metadata": {},
   "outputs": [],
   "source": [
    "from spacerocks import SpaceRock, RockCollection\n",
    "from spacerocks.time import Time\n",
    "from spacerocks.spice import SpiceKernel\n",
    "\n",
    "kernel = SpiceKernel()\n",
    "kernel.load(\"/Users/kjnapier/data/spice/latest_leapseconds.tls\")\n",
    "kernel.load(\"/Users/kjnapier/data/spice/de440s.bsp\")\n",
    "\n",
    "epoch = Time.now()"
   ]
  },
  {
   "cell_type": "code",
   "execution_count": 8,
   "metadata": {},
   "outputs": [],
   "source": [
    "rock1 = SpaceRock.from_spice(name=\"Earth\", epoch=epoch, reference_plane=\"ECLIPJ2000\", origin=\"SSB\")\n",
    "rock2 = SpaceRock.from_spice(name=\"Jupiter Barycenter\", epoch=epoch, reference_plane=\"ECLIPJ2000\", origin=\"SSB\")"
   ]
  },
  {
   "cell_type": "code",
   "execution_count": 9,
   "metadata": {},
   "outputs": [],
   "source": [
    "rocks = RockCollection()\n",
    "rocks.add(rock1)\n",
    "rocks.add(rock2)"
   ]
  },
  {
   "cell_type": "code",
   "execution_count": 13,
   "metadata": {},
   "outputs": [
    {
     "name": "stdout",
     "output_type": "stream",
     "text": [
      "a: [0.99171157 5.17692437]\n",
      "e: [0.01383694 0.0473109 ]\n",
      "inc: [0.00012895 0.02275243]\n"
     ]
    }
   ],
   "source": [
    "print(f\"a: {rocks.a()}\")\n",
    "print(f\"e: {rocks.e()}\")\n",
    "print(f\"inc: {rocks.inc()}\")"
   ]
  },
  {
   "cell_type": "code",
   "execution_count": null,
   "metadata": {},
   "outputs": [],
   "source": []
  }
 ],
 "metadata": {
  "kernelspec": {
   "display_name": "Python 3",
   "language": "python",
   "name": "python3"
  },
  "language_info": {
   "codemirror_mode": {
    "name": "ipython",
    "version": 3
   },
   "file_extension": ".py",
   "mimetype": "text/x-python",
   "name": "python",
   "nbconvert_exporter": "python",
   "pygments_lexer": "ipython3",
   "version": "3.12.1"
  }
 },
 "nbformat": 4,
 "nbformat_minor": 2
}
