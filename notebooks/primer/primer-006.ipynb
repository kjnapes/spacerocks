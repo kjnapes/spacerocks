{
 "cells": [
  {
   "cell_type": "code",
   "execution_count": 1,
   "metadata": {},
   "outputs": [],
   "source": [
    "from spacerocks import SpaceRock, RockCollection\n",
    "from spacerocks.time import Time\n",
    "from spacerocks.spice import SpiceKernel\n",
    "\n",
    "kernel = SpiceKernel()\n",
    "kernel.load(\"/Users/kjnapier/data/spice/latest_leapseconds.tls\")\n",
    "kernel.load(\"/Users/kjnapier/data/spice/de440s.bsp\")\n",
    "\n",
    "epoch = Time.now()"
   ]
  },
  {
   "cell_type": "code",
   "execution_count": 14,
   "metadata": {},
   "outputs": [],
   "source": [
    "rock1 = SpaceRock.from_spice(name=\"Neptune Barycenter\", epoch=epoch, reference_plane=\"ECLIPJ2000\", origin=\"SSB\")\n",
    "rock2 = SpaceRock.from_spice(name=\"Jupiter Barycenter\", epoch=epoch, reference_plane=\"ECLIPJ2000\", origin=\"SSB\")"
   ]
  },
  {
   "cell_type": "code",
   "execution_count": 15,
   "metadata": {},
   "outputs": [],
   "source": [
    "rocks = RockCollection()\n",
    "rocks.add(rock1)\n",
    "rocks.add(rock2)"
   ]
  },
  {
   "cell_type": "code",
   "execution_count": 16,
   "metadata": {},
   "outputs": [
    {
     "name": "stdout",
     "output_type": "stream",
     "text": [
      "a: [30.06945278  5.17695533]\n",
      "e: [0.00864306 0.04732274]\n",
      "inc: [0.03089645 0.02275245]\n"
     ]
    }
   ],
   "source": [
    "print(f\"a: {rocks.a()}\")\n",
    "print(f\"e: {rocks.e()}\")\n",
    "print(f\"inc: {rocks.inc()}\")"
   ]
  },
  {
   "cell_type": "code",
   "execution_count": 17,
   "metadata": {},
   "outputs": [],
   "source": [
    "from spacerocks.observing import Observatory"
   ]
  },
  {
   "cell_type": "code",
   "execution_count": 18,
   "metadata": {},
   "outputs": [],
   "source": [
    "w84 = Observatory.from_obscode(\"W84\")"
   ]
  },
  {
   "cell_type": "code",
   "execution_count": 19,
   "metadata": {},
   "outputs": [],
   "source": [
    "observer = w84.at(epoch, reference_plane=\"J2000\", origin=\"SSB\")"
   ]
  },
  {
   "cell_type": "code",
   "execution_count": 20,
   "metadata": {},
   "outputs": [],
   "source": [
    "o = rocks.observe(observer) "
   ]
  },
  {
   "cell_type": "code",
   "execution_count": 21,
   "metadata": {},
   "outputs": [
    {
     "name": "stdout",
     "output_type": "stream",
     "text": [
      "6.245801880996431 -0.040545209194710205\n",
      "1.230765478147094 0.3779529280633257\n"
     ]
    }
   ],
   "source": [
    "print(o[0].ra, o[0].dec)\n",
    "print(o[1].ra, o[1].dec)"
   ]
  },
  {
   "cell_type": "code",
   "execution_count": null,
   "metadata": {},
   "outputs": [],
   "source": []
  }
 ],
 "metadata": {
  "kernelspec": {
   "display_name": "Python 3",
   "language": "python",
   "name": "python3"
  },
  "language_info": {
   "codemirror_mode": {
    "name": "ipython",
    "version": 3
   },
   "file_extension": ".py",
   "mimetype": "text/x-python",
   "name": "python",
   "nbconvert_exporter": "python",
   "pygments_lexer": "ipython3",
   "version": "3.12.1"
  }
 },
 "nbformat": 4,
 "nbformat_minor": 2
}
