{
 "cells": [
  {
   "cell_type": "code",
   "execution_count": 1,
   "metadata": {},
   "outputs": [],
   "source": [
    "from spacerocks import MPCHandler"
   ]
  },
  {
   "cell_type": "code",
   "execution_count": 12,
   "metadata": {},
   "outputs": [],
   "source": [
    "# Create a new MPCHandler object and pass the path to the data directory where the MPC data files are stored\n",
    "mpc_data_path = \"data/mpc\"\n",
    "handler = MPCHandler(mpc_data_path)\n"
   ]
  },
  {
   "cell_type": "code",
   "execution_count": 3,
   "metadata": {},
   "outputs": [
    {
     "name": "stdout",
     "output_type": "stream",
     "text": [
      "Downloading data from https://www.minorplanetcenter.net/Extended_Files/nea_extended.json.gz\n",
      "Converting and saving to data/mpc/nea_extended.feather\n"
     ]
    }
   ],
   "source": [
    "# Create a dataframe of all the Near-Earth Asteroids (NEAs) from the MPC data files\n",
    "nea_df = handler.fetch_data(\n",
    "    catalog=\"nea_extended\", # https://minorplanetcenter.net/data details available catalogs\n",
    "    orbit_type=None,  # None means get all types, and is the default\n",
    "    storage_format=\"feather\",  # Options: \"feather\", \"json\", None: Default is \"feather\", None will get the data directly from the MPC without saving it locally\n",
    "    output_format=\"dataframe\" # Options: \"dataframe\", \"rocks\": Default is \"dataframe\", \"rocks\" returns a RockCollection \n",
    ")\n",
    "\n",
    "# Available orbit_types:\n",
    "\n",
    "# \"Atira\",\n",
    "# \"Aten\", \n",
    "# \"Apollo\",\n",
    "# \"Amor\",\n",
    "# \"Hungaria\",\n",
    "# \"MBA\",\n",
    "# \"Phocaea\",\n",
    "# \"Hilda\",\n",
    "# \"Jupiter Trojan\",\n",
    "# \"Distant Object\"\n"
   ]
  },
  {
   "cell_type": "code",
   "execution_count": 5,
   "metadata": {},
   "outputs": [
    {
     "data": {
      "text/html": [
       "<div>\n",
       "<style scoped>\n",
       "    .dataframe tbody tr th:only-of-type {\n",
       "        vertical-align: middle;\n",
       "    }\n",
       "\n",
       "    .dataframe tbody tr th {\n",
       "        vertical-align: top;\n",
       "    }\n",
       "\n",
       "    .dataframe thead th {\n",
       "        text-align: right;\n",
       "    }\n",
       "</style>\n",
       "<table border=\"1\" class=\"dataframe\">\n",
       "  <thead>\n",
       "    <tr style=\"text-align: right;\">\n",
       "      <th></th>\n",
       "      <th>H</th>\n",
       "      <th>G</th>\n",
       "      <th>Epoch</th>\n",
       "      <th>M</th>\n",
       "      <th>Peri</th>\n",
       "      <th>Node</th>\n",
       "      <th>i</th>\n",
       "      <th>e</th>\n",
       "      <th>a</th>\n",
       "      <th>Principal_desig</th>\n",
       "      <th>orbit_type</th>\n",
       "    </tr>\n",
       "  </thead>\n",
       "  <tbody>\n",
       "    <tr>\n",
       "      <th>0</th>\n",
       "      <td>10.41</td>\n",
       "      <td>0.15</td>\n",
       "      <td>2460600.5</td>\n",
       "      <td>86.66754</td>\n",
       "      <td>178.91030</td>\n",
       "      <td>304.27434</td>\n",
       "      <td>10.82773</td>\n",
       "      <td>0.222691</td>\n",
       "      <td>1.458181</td>\n",
       "      <td>A898 PA</td>\n",
       "      <td>Amor</td>\n",
       "    </tr>\n",
       "    <tr>\n",
       "      <th>1</th>\n",
       "      <td>15.59</td>\n",
       "      <td>0.15</td>\n",
       "      <td>2460600.5</td>\n",
       "      <td>148.45068</td>\n",
       "      <td>156.21553</td>\n",
       "      <td>183.85715</td>\n",
       "      <td>11.57526</td>\n",
       "      <td>0.546779</td>\n",
       "      <td>2.636157</td>\n",
       "      <td>A911 TB</td>\n",
       "      <td>Amor</td>\n",
       "    </tr>\n",
       "    <tr>\n",
       "      <th>2</th>\n",
       "      <td>13.81</td>\n",
       "      <td>0.15</td>\n",
       "      <td>2460600.5</td>\n",
       "      <td>340.19843</td>\n",
       "      <td>350.47424</td>\n",
       "      <td>110.42302</td>\n",
       "      <td>9.39880</td>\n",
       "      <td>0.571093</td>\n",
       "      <td>2.472525</td>\n",
       "      <td>A918 AA</td>\n",
       "      <td>Amor</td>\n",
       "    </tr>\n",
       "    <tr>\n",
       "      <th>3</th>\n",
       "      <td>9.18</td>\n",
       "      <td>0.15</td>\n",
       "      <td>2460600.5</td>\n",
       "      <td>6.98496</td>\n",
       "      <td>132.49616</td>\n",
       "      <td>215.49497</td>\n",
       "      <td>26.68673</td>\n",
       "      <td>0.532826</td>\n",
       "      <td>2.665299</td>\n",
       "      <td>A924 UB</td>\n",
       "      <td>Amor</td>\n",
       "    </tr>\n",
       "    <tr>\n",
       "      <th>4</th>\n",
       "      <td>17.37</td>\n",
       "      <td>0.15</td>\n",
       "      <td>2460600.5</td>\n",
       "      <td>271.70081</td>\n",
       "      <td>26.71762</td>\n",
       "      <td>171.26079</td>\n",
       "      <td>11.86849</td>\n",
       "      <td>0.434718</td>\n",
       "      <td>1.920154</td>\n",
       "      <td>1932 EA1</td>\n",
       "      <td>Amor</td>\n",
       "    </tr>\n",
       "  </tbody>\n",
       "</table>\n",
       "</div>"
      ],
      "text/plain": [
       "       H     G      Epoch          M       Peri       Node         i  \\\n",
       "0  10.41  0.15  2460600.5   86.66754  178.91030  304.27434  10.82773   \n",
       "1  15.59  0.15  2460600.5  148.45068  156.21553  183.85715  11.57526   \n",
       "2  13.81  0.15  2460600.5  340.19843  350.47424  110.42302   9.39880   \n",
       "3   9.18  0.15  2460600.5    6.98496  132.49616  215.49497  26.68673   \n",
       "4  17.37  0.15  2460600.5  271.70081   26.71762  171.26079  11.86849   \n",
       "\n",
       "          e         a Principal_desig orbit_type  \n",
       "0  0.222691  1.458181         A898 PA       Amor  \n",
       "1  0.546779  2.636157         A911 TB       Amor  \n",
       "2  0.571093  2.472525         A918 AA       Amor  \n",
       "3  0.532826  2.665299         A924 UB       Amor  \n",
       "4  0.434718  1.920154        1932 EA1       Amor  "
      ]
     },
     "execution_count": 5,
     "metadata": {},
     "output_type": "execute_result"
    }
   ],
   "source": [
    "nea_df.head()"
   ]
  },
  {
   "cell_type": "code",
   "execution_count": 4,
   "metadata": {},
   "outputs": [
    {
     "name": "stdout",
     "output_type": "stream",
     "text": [
      "Downloading data from https://www.minorplanetcenter.net/Extended_Files/mpcorb_extended.json.gz\n",
      "Saving to data/mpc/mpcorb_extended.json.gz\n"
     ]
    }
   ],
   "source": [
    "# Make a dataframe of all the Jupiter Trojans in the MPC and save it as a json \n",
    "jt_df = handler.fetch_data(\n",
    "    catalog=\"mpcorb_extended\",\n",
    "    orbit_type=\"Jupiter Trojan\",\n",
    "    storage_format=\"json\")"
   ]
  },
  {
   "cell_type": "code",
   "execution_count": 6,
   "metadata": {},
   "outputs": [
    {
     "data": {
      "text/html": [
       "<div>\n",
       "<style scoped>\n",
       "    .dataframe tbody tr th:only-of-type {\n",
       "        vertical-align: middle;\n",
       "    }\n",
       "\n",
       "    .dataframe tbody tr th {\n",
       "        vertical-align: top;\n",
       "    }\n",
       "\n",
       "    .dataframe thead th {\n",
       "        text-align: right;\n",
       "    }\n",
       "</style>\n",
       "<table border=\"1\" class=\"dataframe\">\n",
       "  <thead>\n",
       "    <tr style=\"text-align: right;\">\n",
       "      <th></th>\n",
       "      <th>H</th>\n",
       "      <th>G</th>\n",
       "      <th>Epoch</th>\n",
       "      <th>M</th>\n",
       "      <th>Peri</th>\n",
       "      <th>Node</th>\n",
       "      <th>i</th>\n",
       "      <th>e</th>\n",
       "      <th>a</th>\n",
       "      <th>Principal_desig</th>\n",
       "      <th>orbit_type</th>\n",
       "    </tr>\n",
       "  </thead>\n",
       "  <tbody>\n",
       "    <tr>\n",
       "      <th>0</th>\n",
       "      <td>8.25</td>\n",
       "      <td>0.15</td>\n",
       "      <td>2460600.5</td>\n",
       "      <td>43.90867</td>\n",
       "      <td>133.98436</td>\n",
       "      <td>316.53929</td>\n",
       "      <td>10.31751</td>\n",
       "      <td>0.148450</td>\n",
       "      <td>5.212198</td>\n",
       "      <td>A906 DN</td>\n",
       "      <td>Jupiter Trojan</td>\n",
       "    </tr>\n",
       "    <tr>\n",
       "      <th>1</th>\n",
       "      <td>8.25</td>\n",
       "      <td>0.15</td>\n",
       "      <td>2460600.5</td>\n",
       "      <td>9.05119</td>\n",
       "      <td>308.59117</td>\n",
       "      <td>44.35145</td>\n",
       "      <td>22.06381</td>\n",
       "      <td>0.139696</td>\n",
       "      <td>5.206645</td>\n",
       "      <td>A906 UL</td>\n",
       "      <td>Jupiter Trojan</td>\n",
       "    </tr>\n",
       "    <tr>\n",
       "      <th>2</th>\n",
       "      <td>7.37</td>\n",
       "      <td>0.15</td>\n",
       "      <td>2460600.5</td>\n",
       "      <td>337.57832</td>\n",
       "      <td>179.74876</td>\n",
       "      <td>342.80146</td>\n",
       "      <td>18.15128</td>\n",
       "      <td>0.023911</td>\n",
       "      <td>5.274477</td>\n",
       "      <td>A907 CF</td>\n",
       "      <td>Jupiter Trojan</td>\n",
       "    </tr>\n",
       "    <tr>\n",
       "      <th>3</th>\n",
       "      <td>8.73</td>\n",
       "      <td>0.15</td>\n",
       "      <td>2460600.5</td>\n",
       "      <td>148.86038</td>\n",
       "      <td>343.97657</td>\n",
       "      <td>350.75593</td>\n",
       "      <td>4.52196</td>\n",
       "      <td>0.115835</td>\n",
       "      <td>5.169928</td>\n",
       "      <td>A908 FE</td>\n",
       "      <td>Jupiter Trojan</td>\n",
       "    </tr>\n",
       "    <tr>\n",
       "      <th>4</th>\n",
       "      <td>8.64</td>\n",
       "      <td>0.15</td>\n",
       "      <td>2460600.5</td>\n",
       "      <td>96.38488</td>\n",
       "      <td>337.47229</td>\n",
       "      <td>301.45814</td>\n",
       "      <td>8.89552</td>\n",
       "      <td>0.124572</td>\n",
       "      <td>5.207680</td>\n",
       "      <td>A917 SU</td>\n",
       "      <td>Jupiter Trojan</td>\n",
       "    </tr>\n",
       "  </tbody>\n",
       "</table>\n",
       "</div>"
      ],
      "text/plain": [
       "      H     G      Epoch          M       Peri       Node         i         e  \\\n",
       "0  8.25  0.15  2460600.5   43.90867  133.98436  316.53929  10.31751  0.148450   \n",
       "1  8.25  0.15  2460600.5    9.05119  308.59117   44.35145  22.06381  0.139696   \n",
       "2  7.37  0.15  2460600.5  337.57832  179.74876  342.80146  18.15128  0.023911   \n",
       "3  8.73  0.15  2460600.5  148.86038  343.97657  350.75593   4.52196  0.115835   \n",
       "4  8.64  0.15  2460600.5   96.38488  337.47229  301.45814   8.89552  0.124572   \n",
       "\n",
       "          a Principal_desig      orbit_type  \n",
       "0  5.212198         A906 DN  Jupiter Trojan  \n",
       "1  5.206645         A906 UL  Jupiter Trojan  \n",
       "2  5.274477         A907 CF  Jupiter Trojan  \n",
       "3  5.169928         A908 FE  Jupiter Trojan  \n",
       "4  5.207680         A917 SU  Jupiter Trojan  "
      ]
     },
     "execution_count": 6,
     "metadata": {},
     "output_type": "execute_result"
    }
   ],
   "source": [
    "jt_df.head()"
   ]
  },
  {
   "cell_type": "code",
   "execution_count": 8,
   "metadata": {},
   "outputs": [
    {
     "name": "stdout",
     "output_type": "stream",
     "text": [
      "Using existing file: data/mpc/mpcorb_extended.json.gz\n"
     ]
    }
   ],
   "source": [
    "# Now if we want to access the 'mpcorb_extended' catalog again, it will search for the file with correct file type in the data directory\n",
    "# and load it from there, instead of downloading it again from the MPC\n",
    "\n",
    "apollo_df = handler.fetch_data(\n",
    "    catalog=\"mpcorb_extended\",\n",
    "    orbit_type=\"Apollo\", \n",
    "    storage_format=\"json\")"
   ]
  },
  {
   "cell_type": "code",
   "execution_count": 14,
   "metadata": {},
   "outputs": [
    {
     "name": "stdout",
     "output_type": "stream",
     "text": [
      "Using existing file: data/mpc/nea_extended.feather\n",
      "Downloading data from https://www.minorplanetcenter.net/Extended_Files/mpcorb_extended.json.gz\n",
      "Converting and saving to data/mpc/mpcorb_extended.feather\n"
     ]
    }
   ],
   "source": [
    "# We can also get the data in the form of a RockCollection object, either by passing the output_format parameter as \"rocks\" or by using the RockCollection class\n",
    "from spacerocks import RockCollection\n",
    "\n",
    "nea_rocks = RockCollection.from_mpc(\n",
    "    mpc_data_path,\n",
    "    catalog=\"nea_extended\",\n",
    "    download_data=False, # Set to True if you want to download the data from the MPC, default is False\n",
    "    orbit_type=None, # None means get all types, and is the default \n",
    ")\n",
    "\n",
    "trojan_rocks = handler.fetch_data(\n",
    "    catalog=\"mpcorb_extended\",\n",
    "    orbit_type=\"Jupiter Trojan\",\n",
    "    output_format=\"rocks\")\n"
   ]
  },
  {
   "cell_type": "code",
   "execution_count": 15,
   "metadata": {},
   "outputs": [
    {
     "data": {
      "text/plain": [
       "RockCollection: 37374 rocks"
      ]
     },
     "execution_count": 15,
     "metadata": {},
     "output_type": "execute_result"
    }
   ],
   "source": [
    "nea_rocks"
   ]
  },
  {
   "cell_type": "code",
   "execution_count": 16,
   "metadata": {},
   "outputs": [
    {
     "data": {
      "text/plain": [
       "SpaceRock: A898 PA\n",
       "position: [[0.2942493203668297, 0.1656992160830529, -1.6474106896601086]]\n",
       "velocity: [[0.011569440515950151, -0.006534241085923113, 0.004230659391554295]]\n",
       "epoch: 2460600.5 UTC JD\n",
       "reference_plane: J2000\n",
       "origin: SSB"
      ]
     },
     "execution_count": 16,
     "metadata": {},
     "output_type": "execute_result"
    }
   ],
   "source": [
    "nea_rocks[0]"
   ]
  },
  {
   "cell_type": "code",
   "execution_count": 17,
   "metadata": {},
   "outputs": [
    {
     "data": {
      "text/plain": [
       "SpaceRock: A906 DN\n",
       "position: [[3.5301907953976985, 0.8086369056299544, -3.7509872225178564]]\n",
       "velocity: [[0.0040090720489619714, -0.006565207826123325, 0.00246455500052765]]\n",
       "epoch: 2460600.5 UTC JD\n",
       "reference_plane: J2000\n",
       "origin: SSB"
      ]
     },
     "execution_count": 17,
     "metadata": {},
     "output_type": "execute_result"
    }
   ],
   "source": [
    "trojan_rocks[0]"
   ]
  },
  {
   "cell_type": "code",
   "execution_count": null,
   "metadata": {},
   "outputs": [],
   "source": []
  }
 ],
 "metadata": {
  "kernelspec": {
   "display_name": "base",
   "language": "python",
   "name": "python3"
  },
  "language_info": {
   "codemirror_mode": {
    "name": "ipython",
    "version": 3
   },
   "file_extension": ".py",
   "mimetype": "text/x-python",
   "name": "python",
   "nbconvert_exporter": "python",
   "pygments_lexer": "ipython3",
   "version": "3.10.14"
  }
 },
 "nbformat": 4,
 "nbformat_minor": 2
}
