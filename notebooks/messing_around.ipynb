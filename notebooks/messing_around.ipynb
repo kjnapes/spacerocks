{
 "cells": [
  {
   "cell_type": "code",
   "execution_count": 24,
   "metadata": {},
   "outputs": [],
   "source": [
    "from spacerocks.nbody import Simulation, Integrator, Force\n",
    "from spacerocks.time import Time\n",
    "from spacerocks.spice import SpiceKernel\n",
    "from spacerocks import SpaceRock\n",
    "\n"
   ]
  },
  {
   "cell_type": "code",
   "execution_count": 25,
   "metadata": {},
   "outputs": [
    {
     "name": "stdout",
     "output_type": "stream",
     "text": [
      "Loading configuration from /Users/thomasruch/srnew1/spacerocks/config.toml\n",
      "\n",
      "Configuration loaded:\n",
      "  Kernel paths: [\"/Users/thomasruch/Gerdes\", \"/Users/thomasruch/.spacerocks/spice/\"]\n",
      "  Download directory: \"/Users/thomasruch/.spacerocks/spice\"\n",
      "  Auto-download: true\n",
      "\n",
      "Processing kernel: latest_leapseconds.tls\n",
      "✓ Found existing kernel at: /Users/thomasruch/.spacerocks/spice/latest_leapseconds.tls\n",
      "Loading kernel: /Users/thomasruch/.spacerocks/spice/latest_leapseconds.tls\n",
      "\n",
      "Processing kernel: de440s.bsp\n",
      "✓ Found existing kernel at: /Users/thomasruch/Gerdes/de440s.bsp\n",
      "Loading kernel: /Users/thomasruch/Gerdes/de440s.bsp\n",
      "\n",
      "Processing kernel: earth_1962_240827_2124_combined.bpc\n",
      "✓ Found existing kernel at: /Users/thomasruch/Gerdes/earth_1962_240827_2124_combined.bpc\n",
      "Loading kernel: /Users/thomasruch/Gerdes/earth_1962_240827_2124_combined.bpc\n"
     ]
    }
   ],
   "source": [
    "kernel = SpiceKernel(config=\"/Users/thomasruch/srnew1/spacerocks/config.toml\")"
   ]
  },
  {
   "cell_type": "code",
   "execution_count": 17,
   "metadata": {},
   "outputs": [
    {
     "data": {
      "text/plain": [
       "SpiceKernel:\n",
       "  - /Users/thomasruch/.spacerocks/spice/latest_leapseconds.tls\n",
       "  - /Users/thomasruch/Gerdes/de440s.bsp\n",
       "  - /Users/thomasruch/Gerdes/earth_1962_240827_2124_combined.bpc"
      ]
     },
     "execution_count": 17,
     "metadata": {},
     "output_type": "execute_result"
    }
   ],
   "source": [
    "kernel"
   ]
  },
  {
   "cell_type": "code",
   "execution_count": 18,
   "metadata": {},
   "outputs": [
    {
     "name": "stdout",
     "output_type": "stream",
     "text": [
      "Jupiter position: (-1.8481886625435187, 4.876897193602802, 0.021132464797636318)\n",
      "Saturn position: (9.493932925459712, 0.36919218835859585, -0.38442713519963534)\n"
     ]
    }
   ],
   "source": [
    "# Create a simulation with the giant planets\n",
    "epoch = Time.now()\n",
    "sim = Simulation.giants(epoch=epoch, reference_plane=\"ECLIPJ2000\", origin=\"SSB\")\n",
    "\n",
    "# Add relativistic effects\n",
    "sim.add_force(Force.solar_gr())\n",
    "sim.add_force(Force.solar_j2())\n",
    "\n",
    "# Configure integration\n",
    "sim.set_integrator(Integrator.ias15(timestep=1.0))  # 1-day timestep\n",
    "sim.move_to_center_of_mass()\n",
    "\n",
    "# Integrate forward 1 year\n",
    "future_epoch = epoch + 365.25\n",
    "sim.integrate(future_epoch)\n",
    "\n",
    "# Get final positions\n",
    "jupiter = sim.get_particle(\"jupiter barycenter\")\n",
    "saturn = sim.get_particle(\"saturn barycenter\")\n",
    "print(f\"Jupiter position: {jupiter.position}\")\n",
    "print(f\"Saturn position: {saturn.position}\")"
   ]
  },
  {
   "cell_type": "code",
   "execution_count": 22,
   "metadata": {},
   "outputs": [
    {
     "name": "stdout",
     "output_type": "stream",
     "text": [
      "Time: 2460697.2771643517 UTC JD\n"
     ]
    }
   ],
   "source": [
    "# Start with empty simulation\n",
    "sim = Simulation()\n",
    "epoch = Time.now()\n",
    "\n",
    "print(epoch)\n",
    "\n",
    "# Add Sun and a custom body\n",
    "sun = SpaceRock.from_spice(\"sun\", epoch=epoch, reference_plane=\"ECLIPJ2000\", origin=\"SSB\")\n",
    "sim.add(sun)\n",
    "\n",
    "# Add custom body on eccentric orbit\n",
    "body = SpaceRock.from_kepler(\n",
    "    name=\"custom_body\",\n",
    "    q=2.5,       # perihelion distance [AU]\n",
    "    e=0.85,      # eccentricity\n",
    "    inc=0.4,     # inclination [rad]\n",
    "    node=1.2,    # longitude of ascending node [rad]\n",
    "    arg=2.1,     # argument of perihelion [rad]\n",
    "    true_anomaly=0.0,  # true anomaly [rad]\n",
    "    epoch=epoch,\n",
    "    reference_plane=\"ECLIPJ2000\",\n",
    "    origin=\"SSB\"\n",
    ")\n",
    "body.set_mass(1e-10)  # Set mass in solar masses\n",
    "sim.add(body)\n",
    "\n",
    "# Move to center of mass and integrate\n",
    "sim.move_to_center_of_mass()\n",
    "sim.integrate(epoch + 100.0)  # Integrate for 100 days"
   ]
  },
  {
   "cell_type": "code",
   "execution_count": 23,
   "metadata": {},
   "outputs": [
    {
     "data": {
      "text/plain": [
       "SpaceRock: custom_body\n",
       "position: [[-1.9230760017109423, -1.8506746966685648, -0.27745451535599974]]\n",
       "velocity: [[0.0055958804609810954, -0.009755876174290613, -0.008712020275687881]]\n",
       "epoch: 2460797.2771643517 UTC JD\n",
       "reference_plane: J2000\n",
       "origin: simulation_barycenter"
      ]
     },
     "execution_count": 23,
     "metadata": {},
     "output_type": "execute_result"
    }
   ],
   "source": [
    "sim.get_particle(body.name)"
   ]
  },
  {
   "cell_type": "code",
   "execution_count": 38,
   "metadata": {},
   "outputs": [],
   "source": [
    "from spacerocks import RockCollection"
   ]
  },
  {
   "cell_type": "code",
   "execution_count": 39,
   "metadata": {},
   "outputs": [],
   "source": [
    "epoch = Time.now()\n",
    "collection = RockCollection()\n"
   ]
  },
  {
   "cell_type": "code",
   "execution_count": 40,
   "metadata": {},
   "outputs": [],
   "source": [
    "Jupiter = SpaceRock.from_horizons(\"Jupiter Barycenter\", epoch)\n",
    "Neptune = SpaceRock.from_horizons(\"Neptune Barycenter\", epoch)\n",
    "Mars = SpaceRock.from_horizons(\"Mars Barycenter\", epoch)"
   ]
  },
  {
   "cell_type": "code",
   "execution_count": 41,
   "metadata": {},
   "outputs": [],
   "source": [
    "collection.add(Jupiter)\n",
    "collection.add(Neptune)\n",
    "collection.add(Mars)"
   ]
  },
  {
   "cell_type": "code",
   "execution_count": 42,
   "metadata": {},
   "outputs": [
    {
     "data": {
      "text/plain": [
       "array([ 5.17713205, 30.06945221,  1.51794713])"
      ]
     },
     "execution_count": 42,
     "metadata": {},
     "output_type": "execute_result"
    }
   ],
   "source": [
    "collection.a()"
   ]
  },
  {
   "cell_type": "code",
   "execution_count": 44,
   "metadata": {},
   "outputs": [],
   "source": [
    "under_10_collection = collection.filter(collection.a() < 10)"
   ]
  },
  {
   "cell_type": "code",
   "execution_count": 45,
   "metadata": {},
   "outputs": [
    {
     "data": {
      "text/plain": [
       "RockCollection: 2 rocks"
      ]
     },
     "execution_count": 45,
     "metadata": {},
     "output_type": "execute_result"
    }
   ],
   "source": [
    "under_10_collection"
   ]
  },
  {
   "cell_type": "code",
   "execution_count": 47,
   "metadata": {},
   "outputs": [
    {
     "name": "stdout",
     "output_type": "stream",
     "text": [
      "5.177132054094702\n",
      "1.517947133743725\n"
     ]
    }
   ],
   "source": [
    "for rock in under_10_collection:\n",
    "    print(rock.a())"
   ]
  },
  {
   "cell_type": "code",
   "execution_count": 51,
   "metadata": {},
   "outputs": [],
   "source": [
    "mask = [rock.e() > 0.05 for rock in collection]\n",
    "filtered_collection = collection.filter(mask)"
   ]
  },
  {
   "cell_type": "code",
   "execution_count": 54,
   "metadata": {},
   "outputs": [
    {
     "data": {
      "text/plain": [
       "0.09827502028901582"
      ]
     },
     "execution_count": 54,
     "metadata": {},
     "output_type": "execute_result"
    }
   ],
   "source": [
    "filtered_collection[0].e()"
   ]
  },
  {
   "cell_type": "code",
   "execution_count": 1,
   "metadata": {},
   "outputs": [],
   "source": [
    "from spacerocks.spice import SpiceKernel\n",
    "from spacerocks import SpaceRock\n",
    "from spacerocks.time import Time"
   ]
  },
  {
   "cell_type": "code",
   "execution_count": 2,
   "metadata": {},
   "outputs": [
    {
     "name": "stdout",
     "output_type": "stream",
     "text": [
      "Loading kernel: /Users/thomasruch/Gerdes/leap_seconds.tls\n",
      "Loading kernel: /Users/thomasruch/Gerdes/de440s.bsp\n"
     ]
    }
   ],
   "source": [
    "# Manually instantiate a SpiceKernel object, and load relevant spice kernels located on your local machine \n",
    "kernel = SpiceKernel()\n",
    "kernel.load(\"/Users/thomasruch/Gerdes/leap_seconds.tls\")\n",
    "kernel.load(\"/Users/thomasruch/Gerdes/de440s.bsp\")"
   ]
  },
  {
   "cell_type": "code",
   "execution_count": 3,
   "metadata": {},
   "outputs": [
    {
     "data": {
      "text/plain": [
       "SpiceKernel:\n",
       "  - /Users/thomasruch/Gerdes/leap_seconds.tls\n",
       "  - /Users/thomasruch/Gerdes/de440s.bsp"
      ]
     },
     "execution_count": 3,
     "metadata": {},
     "output_type": "execute_result"
    }
   ],
   "source": [
    "kernel"
   ]
  },
  {
   "cell_type": "code",
   "execution_count": 4,
   "metadata": {},
   "outputs": [
    {
     "name": "stdout",
     "output_type": "stream",
     "text": [
      "Loading configuration from /Users/thomasruch/srnew1/spacerocks/config.toml\n",
      "\n",
      "Configuration loaded:\n",
      "  Kernel paths: [\"/Users/thomasruch/Gerdes\", \"/Users/thomasruch/.spacerocks/spice/\"]\n",
      "  Download directory: \"/Users/thomasruch/.spacerocks/spice\"\n",
      "  Auto-download: true\n",
      "\n",
      "Processing kernel: latest_leapseconds.tls\n",
      "➜ Downloading kernel...\n",
      "    Downloading from https://naif.jpl.nasa.gov/pub/naif/generic_kernels/lsk/latest_leapseconds.tls\n",
      "    Saving to /Users/thomasruch/.spacerocks/spice/latest_leapseconds.tls\n",
      "    Download complete\n",
      "Loading kernel: /Users/thomasruch/.spacerocks/spice/latest_leapseconds.tls\n",
      "\n",
      "Processing kernel: de440s.bsp\n",
      "✓ Found existing kernel at: /Users/thomasruch/Gerdes/de440s.bsp\n",
      "Loading kernel: /Users/thomasruch/Gerdes/de440s.bsp\n",
      "\n",
      "Processing kernel: earth_1962_240827_2124_combined.bpc\n",
      "✓ Found existing kernel at: /Users/thomasruch/Gerdes/earth_1962_240827_2124_combined.bpc\n",
      "Loading kernel: /Users/thomasruch/Gerdes/earth_1962_240827_2124_combined.bpc\n"
     ]
    }
   ],
   "source": [
    "kernel1 = SpiceKernel.from_config(\"/Users/thomasruch/srnew1/spacerocks/config.toml\")"
   ]
  },
  {
   "cell_type": "code",
   "execution_count": 5,
   "metadata": {},
   "outputs": [
    {
     "data": {
      "text/plain": [
       "SpiceKernel:\n",
       "  - /Users/thomasruch/.spacerocks/spice/latest_leapseconds.tls\n",
       "  - /Users/thomasruch/Gerdes/de440s.bsp\n",
       "  - /Users/thomasruch/Gerdes/earth_1962_240827_2124_combined.bpc"
      ]
     },
     "execution_count": 5,
     "metadata": {},
     "output_type": "execute_result"
    }
   ],
   "source": [
    "kernel1 "
   ]
  },
  {
   "cell_type": "code",
   "execution_count": 6,
   "metadata": {},
   "outputs": [
    {
     "name": "stdout",
     "output_type": "stream",
     "text": [
      "\n",
      "Using default configuration:\n",
      "  Kernel paths: [\"/Users/thomasruch/.spacerocks/spice\"]\n",
      "  Download directory: \"/Users/thomasruch/.spacerocks/spice\"\n",
      "  Auto-download: true\n",
      "\n",
      "Processing kernel: latest_leapseconds.tls\n",
      "✓ Found existing kernel at: /Users/thomasruch/.spacerocks/spice/latest_leapseconds.tls\n",
      "Loading kernel: /Users/thomasruch/.spacerocks/spice/latest_leapseconds.tls\n",
      "\n",
      "Processing kernel: de440s.bsp\n",
      "➜ Downloading kernel...\n",
      "    Downloading from https://naif.jpl.nasa.gov/pub/naif/generic_kernels/spk/planets/de440s.bsp\n",
      "    Saving to /Users/thomasruch/.spacerocks/spice/de440s.bsp\n",
      "    Download complete\n",
      "Loading kernel: /Users/thomasruch/.spacerocks/spice/de440s.bsp\n",
      "\n",
      "Processing kernel: earth_1962_240827_2124_combined.bpc\n",
      "➜ Downloading kernel...\n",
      "    Downloading from https://naif.jpl.nasa.gov/pub/naif/generic_kernels/pck/earth_1962_240827_2124_combined.bpc\n",
      "    Saving to /Users/thomasruch/.spacerocks/spice/earth_1962_240827_2124_combined.bpc\n",
      "    Download complete\n",
      "Loading kernel: /Users/thomasruch/.spacerocks/spice/earth_1962_240827_2124_combined.bpc\n"
     ]
    }
   ],
   "source": [
    "kernel2 = SpiceKernel.defaults(download=True)"
   ]
  },
  {
   "cell_type": "code",
   "execution_count": 1,
   "metadata": {},
   "outputs": [],
   "source": [
    "from spacerocks.time import Time\n",
    "from spacerocks.observing import Observatory\n",
    "from spacerocks.time import Time\n",
    "from spacerocks import SpaceRock\n",
    "from spacerocks.spice import SpiceKernel"
   ]
  },
  {
   "cell_type": "code",
   "execution_count": 2,
   "metadata": {},
   "outputs": [
    {
     "name": "stdout",
     "output_type": "stream",
     "text": [
      "Loading kernel: /Users/thomasruch/Gerdes/leap_seconds.tls\n",
      "Loading kernel: /Users/thomasruch/Gerdes/de440s.bsp\n",
      "Loading kernel: /Users/thomasruch/.spacerocks/spice/earth_1962_240827_2124_combined.bpc\n"
     ]
    }
   ],
   "source": [
    "kernel = SpiceKernel()\n",
    "kernel.load(\"/Users/thomasruch/Gerdes/leap_seconds.tls\")\n",
    "kernel.load(\"/Users/thomasruch/Gerdes/de440s.bsp\")\n",
    "kernel.load(\"/Users/thomasruch/.spacerocks/spice/earth_1962_240827_2124_combined.bpc\")"
   ]
  },
  {
   "cell_type": "code",
   "execution_count": 3,
   "metadata": {},
   "outputs": [
    {
     "name": "stdout",
     "output_type": "stream",
     "text": [
      "RA: 5.260928972940125\n",
      "Dec: -0.3281633047446638\n",
      "Range: 1.7486690602683705 AU\n",
      "Magnitude: 20.90439792814383\n"
     ]
    }
   ],
   "source": [
    "# Create observatory and time\n",
    "telescope = Observatory.from_obscode('F51')\n",
    "epoch = Time.now()\n",
    "\n",
    "# Create and configure target\n",
    "target = SpaceRock.from_horizons(\n",
    "    \"Apophis\", \n",
    "    epoch,\n",
    "    reference_plane=\"J2000\",\n",
    "    origin='SSB'\n",
    ")\n",
    "target.set_absolute_magnitude(19.7)\n",
    "\n",
    "# Get observation\n",
    "observer = telescope.at(epoch)\n",
    "obs = target.observe(observer)\n",
    "\n",
    "print(f\"RA: {obs.ra}\")\n",
    "print(f\"Dec: {obs.dec}\")\n",
    "print(f\"Range: {obs.range} AU\")\n",
    "print(f\"Magnitude: {obs.mag}\")"
   ]
  },
  {
   "cell_type": "code",
   "execution_count": 4,
   "metadata": {},
   "outputs": [],
   "source": [
    "# Set up observatories\n",
    "mauna_kea = Observatory.from_obscode('568')\n",
    "siding_spring = Observatory.from_obscode('413')"
   ]
  },
  {
   "cell_type": "code",
   "execution_count": 5,
   "metadata": {},
   "outputs": [],
   "source": [
    "# Create time series\n",
    "step = 100\n",
    "n_points = 10\n",
    "start_jd = Time.now().jd()\n",
    "epochs = [Time((start_jd + i*step), 'UTC', 'JD') for i in range(n_points)]\n",
    "observations = []"
   ]
  },
  {
   "cell_type": "code",
   "execution_count": 7,
   "metadata": {},
   "outputs": [
    {
     "ename": "AttributeError",
     "evalue": "'builtins.SpaceRock' object has no attribute 'analytic_at'",
     "output_type": "error",
     "traceback": [
      "\u001b[0;31m---------------------------------------------------------------------------\u001b[0m",
      "\u001b[0;31mAttributeError\u001b[0m                            Traceback (most recent call last)",
      "Cell \u001b[0;32mIn[7], line 3\u001b[0m\n\u001b[1;32m      1\u001b[0m \u001b[38;5;28;01mfor\u001b[39;00m epoch \u001b[38;5;129;01min\u001b[39;00m epochs:\n\u001b[1;32m      2\u001b[0m     \u001b[38;5;66;03m# Observe from both sites\u001b[39;00m\n\u001b[0;32m----> 3\u001b[0m     \u001b[43mtarget\u001b[49m\u001b[38;5;241;43m.\u001b[39;49m\u001b[43manalytic_at\u001b[49m(epoch)\n\u001b[1;32m      4\u001b[0m     obs_mk \u001b[38;5;241m=\u001b[39m target\u001b[38;5;241m.\u001b[39mobserve(mauna_kea\u001b[38;5;241m.\u001b[39mat(epoch))\n\u001b[1;32m      5\u001b[0m     obs_sso \u001b[38;5;241m=\u001b[39m target\u001b[38;5;241m.\u001b[39mobserve(siding_spring\u001b[38;5;241m.\u001b[39mat(epoch))\n",
      "\u001b[0;31mAttributeError\u001b[0m: 'builtins.SpaceRock' object has no attribute 'analytic_at'"
     ]
    }
   ],
   "source": [
    "for epoch in epochs:\n",
    "    # Observe from both sites\n",
    "    target.analytic_at(epoch)\n",
    "    obs_mk = target.observe(mauna_kea.at(epoch))\n",
    "    obs_sso = target.observe(siding_spring.at(epoch))\n",
    "    observations.append((obs_mk, obs_sso))"
   ]
  },
  {
   "cell_type": "code",
   "execution_count": 8,
   "metadata": {},
   "outputs": [
    {
     "name": "stdout",
     "output_type": "stream",
     "text": [
      "Semi-major axis: 44.23095719620317 AU\n",
      "Eccentricity: 0.037802504828944004\n"
     ]
    }
   ],
   "source": [
    "# Create SpaceRock\n",
    "epoch = Time.now()\n",
    "arrokoth = SpaceRock.from_horizons(\"Arrokoth\", epoch)\n",
    "\n",
    "# Calculate orbital elements\n",
    "print(f\"Semi-major axis: {arrokoth.a()} AU\")\n",
    "print(f\"Eccentricity: {arrokoth.e()}\")\n",
    "\n",
    "# Set physical properties\n",
    "arrokoth.set_mass(1e-10)\n",
    "arrokoth.set_absolute_magnitude(15.0)"
   ]
  },
  {
   "cell_type": "code",
   "execution_count": 13,
   "metadata": {},
   "outputs": [
    {
     "name": "stdout",
     "output_type": "stream",
     "text": [
      "RA: 5.616024589149868 rad\n",
      "Dec: -0.39244776678263826 rad\n"
     ]
    }
   ],
   "source": [
    "from spacerocks.observing import Observer, Observatory, Observation\n",
    "# Set up objects\n",
    "epoch = Time.now()\n",
    "asteroid = SpaceRock.from_horizons(\"Ceres\", epoch, \"J2000\")\n",
    "telescope = Observatory.from_obscode(\"w84\")\n",
    "observer = telescope.at(epoch)  \n",
    "\n",
    "# Calculate ephemeris\n",
    "observation = asteroid.observe(observer)\n",
    "print(f\"RA: {observation.ra} rad\")\n",
    "print(f\"Dec: {observation.dec} rad\")"
   ]
  },
  {
   "cell_type": "code",
   "execution_count": 21,
   "metadata": {},
   "outputs": [],
   "source": [
    "time = Time(2905840.9, \"utc\", \"jd\")"
   ]
  },
  {
   "cell_type": "code",
   "execution_count": 22,
   "metadata": {},
   "outputs": [
    {
     "data": {
      "text/plain": [
       "Time: 2905840.9008007217 TDB JD"
      ]
     },
     "execution_count": 22,
     "metadata": {},
     "output_type": "execute_result"
    }
   ],
   "source": [
    "time.to_tdb()"
   ]
  },
  {
   "cell_type": "code",
   "execution_count": 23,
   "metadata": {},
   "outputs": [
    {
     "data": {
      "text/plain": [
       "Time: 2905840.9008007217 TDB JD"
      ]
     },
     "execution_count": 23,
     "metadata": {},
     "output_type": "execute_result"
    }
   ],
   "source": [
    "time"
   ]
  },
  {
   "cell_type": "code",
   "execution_count": 26,
   "metadata": {},
   "outputs": [],
   "source": [
    "time_in_utc = time.utc()"
   ]
  },
  {
   "cell_type": "code",
   "execution_count": 27,
   "metadata": {},
   "outputs": [
    {
     "data": {
      "text/plain": [
       "Time: 2905840.9008007217 TDB JD"
      ]
     },
     "execution_count": 27,
     "metadata": {},
     "output_type": "execute_result"
    }
   ],
   "source": [
    "time"
   ]
  },
  {
   "cell_type": "code",
   "execution_count": 28,
   "metadata": {},
   "outputs": [
    {
     "data": {
      "text/plain": [
       "Time: 2905840.9 UTC JD"
      ]
     },
     "execution_count": 28,
     "metadata": {},
     "output_type": "execute_result"
    }
   ],
   "source": [
    "time_in_utc"
   ]
  },
  {
   "cell_type": "code",
   "execution_count": 30,
   "metadata": {},
   "outputs": [
    {
     "data": {
      "text/plain": [
       "505840.4008007217"
      ]
     },
     "execution_count": 30,
     "metadata": {},
     "output_type": "execute_result"
    }
   ],
   "source": [
    "time.mjd()"
   ]
  },
  {
   "cell_type": "code",
   "execution_count": 32,
   "metadata": {},
   "outputs": [
    {
     "data": {
      "text/plain": [
       "'27 Oct 3243'"
      ]
     },
     "execution_count": 32,
     "metadata": {},
     "output_type": "execute_result"
    }
   ],
   "source": [
    "time.calendar()"
   ]
  },
  {
   "cell_type": "code",
   "execution_count": 33,
   "metadata": {},
   "outputs": [
    {
     "data": {
      "text/plain": [
       "'3243-10-27T09:35:59.000Z'"
      ]
     },
     "execution_count": 33,
     "metadata": {},
     "output_type": "execute_result"
    }
   ],
   "source": [
    "time.iso()"
   ]
  },
  {
   "cell_type": "code",
   "execution_count": 34,
   "metadata": {},
   "outputs": [
    {
     "data": {
      "text/plain": [
       "Time: 2905840.9008007217 TDB JD"
      ]
     },
     "execution_count": 34,
     "metadata": {},
     "output_type": "execute_result"
    }
   ],
   "source": [
    "time"
   ]
  },
  {
   "cell_type": "code",
   "execution_count": 35,
   "metadata": {},
   "outputs": [
    {
     "data": {
      "text/plain": [
       "Time: 2906840.9008007217 TDB JD"
      ]
     },
     "execution_count": 35,
     "metadata": {},
     "output_type": "execute_result"
    }
   ],
   "source": [
    "time + 1000"
   ]
  },
  {
   "cell_type": "code",
   "execution_count": 38,
   "metadata": {},
   "outputs": [
    {
     "ename": "ValueError",
     "evalue": "Invalid timescale: 'tdx'. Did you mean 'tdb'?. Needs to be 'utc', 'tdb', 'tt', or 'tai'.",
     "output_type": "error",
     "traceback": [
      "\u001b[0;31m---------------------------------------------------------------------------\u001b[0m",
      "\u001b[0;31mValueError\u001b[0m                                Traceback (most recent call last)",
      "Cell \u001b[0;32mIn[38], line 1\u001b[0m\n\u001b[0;32m----> 1\u001b[0m time_new \u001b[38;5;241m=\u001b[39m \u001b[43mTime\u001b[49m\u001b[43m(\u001b[49m\u001b[38;5;241;43m20424.5\u001b[39;49m\u001b[43m,\u001b[49m\u001b[43m \u001b[49m\u001b[38;5;124;43m'\u001b[39;49m\u001b[38;5;124;43mtdx\u001b[39;49m\u001b[38;5;124;43m'\u001b[39;49m\u001b[43m,\u001b[49m\u001b[43m \u001b[49m\u001b[38;5;124;43m'\u001b[39;49m\u001b[38;5;124;43mmjd\u001b[39;49m\u001b[38;5;124;43m'\u001b[39;49m\u001b[43m)\u001b[49m\n",
      "\u001b[0;31mValueError\u001b[0m: Invalid timescale: 'tdx'. Did you mean 'tdb'?. Needs to be 'utc', 'tdb', 'tt', or 'tai'."
     ]
    }
   ],
   "source": [
    "time_new = Time(20424.5, 'tdx', 'mjd')"
   ]
  },
  {
   "cell_type": "code",
   "execution_count": 37,
   "metadata": {},
   "outputs": [
    {
     "data": {
      "text/plain": [
       "(20424.5, 'tdx', 'mjd')"
      ]
     },
     "execution_count": 37,
     "metadata": {},
     "output_type": "execute_result"
    }
   ],
   "source": [
    "time_new"
   ]
  },
  {
   "cell_type": "code",
   "execution_count": 39,
   "metadata": {},
   "outputs": [],
   "source": [
    "from spacerocks import MPCHandler"
   ]
  },
  {
   "cell_type": "code",
   "execution_count": 40,
   "metadata": {},
   "outputs": [],
   "source": [
    "handler = MPCHandler()"
   ]
  },
  {
   "cell_type": "code",
   "execution_count": 47,
   "metadata": {},
   "outputs": [
    {
     "name": "stdout",
     "output_type": "stream",
     "text": [
      "Using existing json file: /Users/thomasruch/.spacerocks/mpc/mpcorb_extended.json.gz\n"
     ]
    }
   ],
   "source": [
    "# Create a dataframe of all the Near-Earth Asteroids (NEAs) from the MPC data files\n",
    "nea_df = handler.fetch_data(\n",
    "    catalog=\"mpcorb_extended\", # https://minorplanetcenter.net/data details available catalogs\n",
    "    orbit_type= \"Hilda\",  # None means get all types, and is the default\n",
    "    output_format=\"dataframe\" # Options: \"dataframe\", \"rocks\": Default is \"dataframe\", \"rocks\" returns a RockCollection \n",
    ")"
   ]
  },
  {
   "cell_type": "code",
   "execution_count": 48,
   "metadata": {},
   "outputs": [
    {
     "data": {
      "text/html": [
       "<div>\n",
       "<style scoped>\n",
       "    .dataframe tbody tr th:only-of-type {\n",
       "        vertical-align: middle;\n",
       "    }\n",
       "\n",
       "    .dataframe tbody tr th {\n",
       "        vertical-align: top;\n",
       "    }\n",
       "\n",
       "    .dataframe thead th {\n",
       "        text-align: right;\n",
       "    }\n",
       "</style>\n",
       "<table border=\"1\" class=\"dataframe\">\n",
       "  <thead>\n",
       "    <tr style=\"text-align: right;\">\n",
       "      <th></th>\n",
       "      <th>H</th>\n",
       "      <th>G</th>\n",
       "      <th>Epoch</th>\n",
       "      <th>M</th>\n",
       "      <th>Peri</th>\n",
       "      <th>Node</th>\n",
       "      <th>i</th>\n",
       "      <th>e</th>\n",
       "      <th>a</th>\n",
       "      <th>Principal_desig</th>\n",
       "      <th>orbit_type</th>\n",
       "    </tr>\n",
       "  </thead>\n",
       "  <tbody>\n",
       "    <tr>\n",
       "      <th>0</th>\n",
       "      <td>7.75</td>\n",
       "      <td>0.15</td>\n",
       "      <td>2460600.5</td>\n",
       "      <td>63.64996</td>\n",
       "      <td>39.32434</td>\n",
       "      <td>228.08798</td>\n",
       "      <td>7.82939</td>\n",
       "      <td>0.138727</td>\n",
       "      <td>3.970658</td>\n",
       "      <td>A875 VC</td>\n",
       "      <td>Hilda</td>\n",
       "    </tr>\n",
       "    <tr>\n",
       "      <th>1</th>\n",
       "      <td>7.91</td>\n",
       "      <td>0.15</td>\n",
       "      <td>2460600.5</td>\n",
       "      <td>146.33147</td>\n",
       "      <td>271.30376</td>\n",
       "      <td>175.42328</td>\n",
       "      <td>6.17472</td>\n",
       "      <td>0.168317</td>\n",
       "      <td>3.994557</td>\n",
       "      <td>A878 SA</td>\n",
       "      <td>Hilda</td>\n",
       "    </tr>\n",
       "    <tr>\n",
       "      <th>2</th>\n",
       "      <td>7.64</td>\n",
       "      <td>0.15</td>\n",
       "      <td>2460600.5</td>\n",
       "      <td>114.77809</td>\n",
       "      <td>169.05178</td>\n",
       "      <td>129.80984</td>\n",
       "      <td>4.63717</td>\n",
       "      <td>0.025093</td>\n",
       "      <td>3.920176</td>\n",
       "      <td>A892 QB</td>\n",
       "      <td>Hilda</td>\n",
       "    </tr>\n",
       "    <tr>\n",
       "      <th>3</th>\n",
       "      <td>8.39</td>\n",
       "      <td>0.15</td>\n",
       "      <td>2460600.5</td>\n",
       "      <td>345.48552</td>\n",
       "      <td>67.12248</td>\n",
       "      <td>18.74267</td>\n",
       "      <td>12.58515</td>\n",
       "      <td>0.211862</td>\n",
       "      <td>3.985101</td>\n",
       "      <td>A893 EF</td>\n",
       "      <td>Hilda</td>\n",
       "    </tr>\n",
       "    <tr>\n",
       "      <th>4</th>\n",
       "      <td>9.62</td>\n",
       "      <td>0.15</td>\n",
       "      <td>2460600.5</td>\n",
       "      <td>157.46959</td>\n",
       "      <td>175.11255</td>\n",
       "      <td>256.17038</td>\n",
       "      <td>2.09258</td>\n",
       "      <td>0.217457</td>\n",
       "      <td>4.014617</td>\n",
       "      <td>A902 YE</td>\n",
       "      <td>Hilda</td>\n",
       "    </tr>\n",
       "    <tr>\n",
       "      <th>...</th>\n",
       "      <td>...</td>\n",
       "      <td>...</td>\n",
       "      <td>...</td>\n",
       "      <td>...</td>\n",
       "      <td>...</td>\n",
       "      <td>...</td>\n",
       "      <td>...</td>\n",
       "      <td>...</td>\n",
       "      <td>...</td>\n",
       "      <td>...</td>\n",
       "      <td>...</td>\n",
       "    </tr>\n",
       "    <tr>\n",
       "      <th>6357</th>\n",
       "      <td>17.40</td>\n",
       "      <td>0.15</td>\n",
       "      <td>2458340.5</td>\n",
       "      <td>330.77136</td>\n",
       "      <td>161.57387</td>\n",
       "      <td>206.89741</td>\n",
       "      <td>3.32396</td>\n",
       "      <td>0.189466</td>\n",
       "      <td>3.897767</td>\n",
       "      <td>2018 PU25</td>\n",
       "      <td>Hilda</td>\n",
       "    </tr>\n",
       "    <tr>\n",
       "      <th>6358</th>\n",
       "      <td>18.50</td>\n",
       "      <td>0.15</td>\n",
       "      <td>2458340.5</td>\n",
       "      <td>338.79285</td>\n",
       "      <td>219.38379</td>\n",
       "      <td>146.60116</td>\n",
       "      <td>6.88106</td>\n",
       "      <td>0.231140</td>\n",
       "      <td>3.886307</td>\n",
       "      <td>2018 PQ30</td>\n",
       "      <td>Hilda</td>\n",
       "    </tr>\n",
       "    <tr>\n",
       "      <th>6359</th>\n",
       "      <td>17.10</td>\n",
       "      <td>0.15</td>\n",
       "      <td>2458760.5</td>\n",
       "      <td>350.95844</td>\n",
       "      <td>251.46347</td>\n",
       "      <td>148.73943</td>\n",
       "      <td>1.41872</td>\n",
       "      <td>0.174703</td>\n",
       "      <td>3.949616</td>\n",
       "      <td>2019 SN122</td>\n",
       "      <td>Hilda</td>\n",
       "    </tr>\n",
       "    <tr>\n",
       "      <th>6360</th>\n",
       "      <td>16.90</td>\n",
       "      <td>0.15</td>\n",
       "      <td>2458780.5</td>\n",
       "      <td>339.24413</td>\n",
       "      <td>275.67108</td>\n",
       "      <td>142.23657</td>\n",
       "      <td>3.78468</td>\n",
       "      <td>0.155806</td>\n",
       "      <td>3.924514</td>\n",
       "      <td>2019 US68</td>\n",
       "      <td>Hilda</td>\n",
       "    </tr>\n",
       "    <tr>\n",
       "      <th>6361</th>\n",
       "      <td>17.30</td>\n",
       "      <td>0.15</td>\n",
       "      <td>2458780.5</td>\n",
       "      <td>358.96647</td>\n",
       "      <td>286.40017</td>\n",
       "      <td>105.61152</td>\n",
       "      <td>4.07411</td>\n",
       "      <td>0.215567</td>\n",
       "      <td>4.000740</td>\n",
       "      <td>2019 UT68</td>\n",
       "      <td>Hilda</td>\n",
       "    </tr>\n",
       "  </tbody>\n",
       "</table>\n",
       "<p>6362 rows × 11 columns</p>\n",
       "</div>"
      ],
      "text/plain": [
       "          H     G      Epoch          M       Peri       Node         i  \\\n",
       "0      7.75  0.15  2460600.5   63.64996   39.32434  228.08798   7.82939   \n",
       "1      7.91  0.15  2460600.5  146.33147  271.30376  175.42328   6.17472   \n",
       "2      7.64  0.15  2460600.5  114.77809  169.05178  129.80984   4.63717   \n",
       "3      8.39  0.15  2460600.5  345.48552   67.12248   18.74267  12.58515   \n",
       "4      9.62  0.15  2460600.5  157.46959  175.11255  256.17038   2.09258   \n",
       "...     ...   ...        ...        ...        ...        ...       ...   \n",
       "6357  17.40  0.15  2458340.5  330.77136  161.57387  206.89741   3.32396   \n",
       "6358  18.50  0.15  2458340.5  338.79285  219.38379  146.60116   6.88106   \n",
       "6359  17.10  0.15  2458760.5  350.95844  251.46347  148.73943   1.41872   \n",
       "6360  16.90  0.15  2458780.5  339.24413  275.67108  142.23657   3.78468   \n",
       "6361  17.30  0.15  2458780.5  358.96647  286.40017  105.61152   4.07411   \n",
       "\n",
       "             e         a Principal_desig orbit_type  \n",
       "0     0.138727  3.970658         A875 VC      Hilda  \n",
       "1     0.168317  3.994557         A878 SA      Hilda  \n",
       "2     0.025093  3.920176         A892 QB      Hilda  \n",
       "3     0.211862  3.985101         A893 EF      Hilda  \n",
       "4     0.217457  4.014617         A902 YE      Hilda  \n",
       "...        ...       ...             ...        ...  \n",
       "6357  0.189466  3.897767       2018 PU25      Hilda  \n",
       "6358  0.231140  3.886307       2018 PQ30      Hilda  \n",
       "6359  0.174703  3.949616      2019 SN122      Hilda  \n",
       "6360  0.155806  3.924514       2019 US68      Hilda  \n",
       "6361  0.215567  4.000740       2019 UT68      Hilda  \n",
       "\n",
       "[6362 rows x 11 columns]"
      ]
     },
     "execution_count": 48,
     "metadata": {},
     "output_type": "execute_result"
    }
   ],
   "source": [
    "nea_df"
   ]
  },
  {
   "cell_type": "code",
   "execution_count": 51,
   "metadata": {},
   "outputs": [],
   "source": [
    "from spacerocks.orbfit import gauss\n",
    "from spacerocks.observing import Observer\n",
    "from spacerocks.time import Time"
   ]
  },
  {
   "cell_type": "code",
   "execution_count": 54,
   "metadata": {},
   "outputs": [
    {
     "ename": "NameError",
     "evalue": "name 'ra' is not defined",
     "output_type": "error",
     "traceback": [
      "\u001b[0;31m---------------------------------------------------------------------------\u001b[0m",
      "\u001b[0;31mNameError\u001b[0m                                 Traceback (most recent call last)",
      "Cell \u001b[0;32mIn[54], line 10\u001b[0m\n\u001b[1;32m      7\u001b[0m observer2 \u001b[38;5;241m=\u001b[39m Observatory\u001b[38;5;241m.\u001b[39mfrom_obscode(\u001b[38;5;124m'\u001b[39m\u001b[38;5;124mw84\u001b[39m\u001b[38;5;124m'\u001b[39m)\u001b[38;5;241m.\u001b[39mat(time2)\n\u001b[1;32m      8\u001b[0m observer3 \u001b[38;5;241m=\u001b[39m Observatory\u001b[38;5;241m.\u001b[39mfrom_obscode(\u001b[38;5;124m'\u001b[39m\u001b[38;5;124mw84\u001b[39m\u001b[38;5;124m'\u001b[39m)\u001b[38;5;241m.\u001b[39mat(time3)\n\u001b[0;32m---> 10\u001b[0m obs1 \u001b[38;5;241m=\u001b[39m Observation\u001b[38;5;241m.\u001b[39mfrom_astrometry(epoch, \u001b[43mra\u001b[49m, dec, observer1)\n\u001b[1;32m     11\u001b[0m obs2 \u001b[38;5;241m=\u001b[39m Observation\u001b[38;5;241m.\u001b[39mfrom_astrometry(epoch, ra, dec, observer2)\n\u001b[1;32m     12\u001b[0m obs3 \u001b[38;5;241m=\u001b[39m Observation\u001b[38;5;241m.\u001b[39mfrom_astrometry(epoch, ra, dec, observer3)\n",
      "\u001b[0;31mNameError\u001b[0m: name 'ra' is not defined"
     ]
    }
   ],
   "source": [
    "# Create or load three observations\n",
    "time1 = Time.now()\n",
    "time2 = time1 + 150\n",
    "time3 = time2 + 150\n",
    "\n",
    "observer1 = Observatory.from_obscode('w84').at(time1)\n",
    "observer2 = Observatory.from_obscode('w84').at(time2)\n",
    "observer3 = Observatory.from_obscode('w84').at(time3)\n",
    "\n",
    "obs1 = Observation.from_astrometry(epoch, 3.45, 0.24, observer1)\n",
    "obs2 = Observation.from_astrometry(epoch, , dec, observer2)\n",
    "obs3 = Observation.from_astrometry(epoch, ra, dec, observer3)\n"
   ]
  },
  {
   "cell_type": "code",
   "execution_count": null,
   "metadata": {},
   "outputs": [],
   "source": []
  }
 ],
 "metadata": {
  "kernelspec": {
   "display_name": "base",
   "language": "python",
   "name": "python3"
  },
  "language_info": {
   "codemirror_mode": {
    "name": "ipython",
    "version": 3
   },
   "file_extension": ".py",
   "mimetype": "text/x-python",
   "name": "python",
   "nbconvert_exporter": "python",
   "pygments_lexer": "ipython3",
   "version": "3.10.14"
  }
 },
 "nbformat": 4,
 "nbformat_minor": 2
}
