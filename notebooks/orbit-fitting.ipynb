{
 "cells": [
  {
   "cell_type": "code",
   "execution_count": 8,
   "metadata": {},
   "outputs": [],
   "source": [
    "from spacerocks.observing import Observatory\n",
    "from spacerocks.time import Time\n",
    "from spacerocks import SpaceRock\n",
    "\n",
    "from spacerocks.spice import SpiceKernel\n",
    "kernel = SpiceKernel()\n",
    "kernel.load(\"/Users/kjnapier/data/spice/latest_leapseconds.tls\")\n",
    "kernel.load(\"/Users/kjnapier/data/spice/de440s.bsp\")\n",
    "\n",
    "import numpy as np\n",
    "\n",
    "origin = \"SSB\"\n",
    "reference_plane = \"J2000\"\n",
    "\n",
    "\n",
    "import matplotlib.pyplot as plt\n",
    "%matplotlib inline\n",
    "%config InlineBackend.figure_format = 'retina'\n",
    "\n",
    "from spacerocks.nbody import Simulation, Integrator"
   ]
  },
  {
   "cell_type": "code",
   "execution_count": 9,
   "metadata": {},
   "outputs": [],
   "source": [
    "w84 = Observatory.from_obscode('w84')"
   ]
  },
  {
   "cell_type": "code",
   "execution_count": 3,
   "metadata": {},
   "outputs": [],
   "source": [
    "epoch = Time.now()\n",
    "\n",
    "planets_names = [\"sun\", \n",
    "                 \"jupiter barycenter\", \n",
    "                 \"saturn barycenter\", \n",
    "                 \"uranus barycenter\", \n",
    "                 \"neptune barycenter\"]\n",
    "rocks = [SpaceRock.from_horizons(\"Arrokoth\", epoch=Time.now(), origin=\"ssb\", reference_plane=\"ECLIPJ2000\")]\n",
    "planets = [SpaceRock.from_spice(name, epoch, reference_plane=\"ECLIPJ2000\", origin='ssb') for name in planets_names]\n",
    "\n",
    "sim = Simulation()\n",
    "\n",
    "sim.set_epoch(epoch)\n",
    "sim.set_reference_plane(\"ECLIPJ2000\")\n",
    "sim.set_origin('ssb')\n",
    "sim.set_integrator(Integrator.ias15(timestep=20.0))\n",
    "\n",
    "\n",
    "for planet in planets:\n",
    "    sim.add(planet)\n",
    "    \n",
    "for rock in rocks:\n",
    "    sim.add(rock)\n",
    "\n",
    "sim.move_to_center_of_mass()\n"
   ]
  },
  {
   "cell_type": "code",
   "execution_count": 4,
   "metadata": {},
   "outputs": [],
   "source": [
    "observations = []    \n",
    "for idx in range(0, 600, 5):\n",
    "    sim.integrate(epoch + idx)\n",
    "    observer = w84.at(epoch + idx, reference_plane=reference_plane, origin=origin)\n",
    "    rock = sim.get_particle(\"Arrokoth\")\n",
    "    obs = rock.observe(observer)\n",
    "    observations.append(obs)"
   ]
  },
  {
   "cell_type": "code",
   "execution_count": 6,
   "metadata": {},
   "outputs": [],
   "source": [
    "from spacerocks.orbfit import gauss"
   ]
  },
  {
   "cell_type": "code",
   "execution_count": 7,
   "metadata": {},
   "outputs": [
    {
     "name": "stdout",
     "output_type": "stream",
     "text": [
      "44.24274893908718 0.03805024901657919 0.3694607460720733 0.0423376885627325 5.943054132486585\n",
      "1.2865625154352125 0.9824010766347244 0.4885234296054679 0.40868978386620913 1.004391954557038\n",
      "1.38106056841974 0.36551942155291056 0.4053335290085945 0.01789838317402071 2.795058658866398\n"
     ]
    }
   ],
   "source": [
    "fit_rocks = gauss(o1=observations[0], o2=observations[20], o3=observations[10], min_distance=0)\n",
    "for fit_rock in fit_rocks:\n",
    "    print(fit_rock.a(), fit_rock.e(), fit_rock.inc(), fit_rock.node(), fit_rock.arg())"
   ]
  },
  {
   "cell_type": "code",
   "execution_count": null,
   "metadata": {},
   "outputs": [],
   "source": []
  }
 ],
 "metadata": {
  "kernelspec": {
   "display_name": "Python 3",
   "language": "python",
   "name": "python3"
  },
  "language_info": {
   "codemirror_mode": {
    "name": "ipython",
    "version": 3
   },
   "file_extension": ".py",
   "mimetype": "text/x-python",
   "name": "python",
   "nbconvert_exporter": "python",
   "pygments_lexer": "ipython3",
   "version": "3.12.1"
  }
 },
 "nbformat": 4,
 "nbformat_minor": 2
}
