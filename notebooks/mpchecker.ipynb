{
 "cells": [
  {
   "cell_type": "code",
   "execution_count": null,
   "id": "9559d872-ffe5-4442-bea1-cb14a10a3da7",
   "metadata": {},
   "outputs": [],
   "source": [
    "from spacerocks import SpaceRock, Units\n",
    "from spacerocks.mpchecker import MPChecker\n",
    "\n",
    "import numpy as np\n",
    "\n",
    "from astropy.time import Time\n",
    "from astropy import units as u\n",
    "from astropy.coordinates import Angle\n",
    "\n",
    "from astroquery.jplhorizons import Horizons\n",
    "from astropy.coordinates import SkyCoord\n",
    "\n",
    "import matplotlib.pyplot as plt\n",
    "%matplotlib inline\n",
    "plt.rcParams.update({'font.size': 12})"
   ]
  },
  {
   "cell_type": "code",
   "execution_count": null,
   "id": "43244043-136b-4f6d-9313-c35a122b4796",
   "metadata": {},
   "outputs": [],
   "source": [
    "#downloading Million objects from mpc would be slow\n",
    "#spacerocks will convert json files into feather\n",
    "#Once MPChecker object has been created, everthing should be fast\n",
    "#we can also load distant object only with catalog='distant_extended'\n",
    "\n",
    "checker = MPChecker(catalog='mpcorb_extended', update=False)"
   ]
  },
  {
   "cell_type": "code",
   "execution_count": 3,
   "id": "6f0b3308",
   "metadata": {},
   "outputs": [],
   "source": [
    "units = Units()\n",
    "units.angular_separation = u.arcmin"
   ]
  },
  {
   "cell_type": "code",
   "execution_count": 4,
   "id": "3524103b-9962-4a48-b5e7-a22552a7f05e",
   "metadata": {},
   "outputs": [],
   "source": [
    "epoch = 59715.73000000 \n",
    "ra = 180\n",
    "dec = 10\n",
    "radius = 60"
   ]
  },
  {
   "cell_type": "code",
   "execution_count": 5,
   "id": "76d3f52a-7b21-44c1-802a-fe2847447f64",
   "metadata": {},
   "outputs": [
    {
     "name": "stderr",
     "output_type": "stream",
     "text": [
      "/Users/edlin/opt/anaconda3/lib/python3.9/site-packages/erfa/core.py:154: ErfaWarning: ERFA function \"taiutc\" yielded 5 of \"dubious year (Note 4)\"\n",
      "  warnings.warn('ERFA function \"{}\" yielded {}'.format(func_name, wmsg),\n"
     ]
    },
    {
     "data": {
      "application/vnd.jupyter.widget-view+json": {
       "model_id": "aea1ea90b552458196dc7ac5c828a726",
       "version_major": 2,
       "version_minor": 0
      },
      "text/plain": [
       "Output()"
      ]
     },
     "metadata": {},
     "output_type": "display_data"
    },
    {
     "data": {
      "text/html": [
       "<pre style=\"white-space:pre;overflow-x:auto;line-height:normal;font-family:Menlo,'DejaVu Sans Mono',consolas,'Courier New',monospace\"></pre>\n"
      ],
      "text/plain": []
     },
     "metadata": {},
     "output_type": "display_data"
    },
    {
     "data": {
      "text/html": [
       "<pre style=\"white-space:pre;overflow-x:auto;line-height:normal;font-family:Menlo,'DejaVu Sans Mono',consolas,'Courier New',monospace\">\n",
       "</pre>\n"
      ],
      "text/plain": [
       "\n"
      ]
     },
     "metadata": {},
     "output_type": "display_data"
    }
   ],
   "source": [
    "rocks_in_field, obs = checker.check(ra, dec, radius, epoch, maglim=27, obscode='566', units=units)"
   ]
  },
  {
   "cell_type": "code",
   "execution_count": 6,
   "id": "a5560642-4eb6-4e13-9109-2ad938f96d66",
   "metadata": {},
   "outputs": [
    {
     "name": "stdout",
     "output_type": "stream",
     "text": [
      "There are 228 asteroids in the field.\n"
     ]
    }
   ],
   "source": [
    "print(f'There are {len(rocks_in_field)} asteroids in the field.')"
   ]
  },
  {
   "cell_type": "code",
   "execution_count": 7,
   "id": "90cba3e1-0967-4919-a54d-2b3f454c0f75",
   "metadata": {},
   "outputs": [
    {
     "data": {
      "text/plain": [
       "array(['1986 UP', '1999 JH3', '1998 HG71', '1998 EG12', '1999 GQ33',\n",
       "       '1999 XG213', '2000 EJ111', '2000 CW116', '2000 KS77', '2000 TJ19',\n",
       "       '2000 YJ133', '2001 HD42', '2000 AC99', '2002 JX7', '2000 HM66',\n",
       "       '2001 KY4', '1994 WO1', '2000 OS69', '2002 JK120', '2002 LG28',\n",
       "       '2004 ES2', '2003 UZ169', '2001 TA141', '1999 NB6', '2003 CL12',\n",
       "       '2003 JM10', '2002 CX113', '2003 YZ10', '2002 CZ114', '2005 AV13',\n",
       "       '2001 CV25', '2006 WK8', '2004 JJ1', '2001 WZ8', '2000 YT115',\n",
       "       '2002 PD58', '2002 RU239', '2004 TY108', '2004 BM103',\n",
       "       '2001 XS215', '2005 AW19', '2007 NZ2', '2003 UU189', '2008 KW',\n",
       "       '2008 XX47', '1995 XR4', '2003 WL141', '2006 VY68', '2007 TR393',\n",
       "       '2005 JZ100', '2000 WG45', '2005 UZ108', '2006 TJ111', '2009 JK8',\n",
       "       '2005 EB79', '2007 BJ65', '2010 JK38', '1999 TR232', '2002 PR189',\n",
       "       '2007 VX150', '2003 YC22', '2010 LW113', '2003 YJ80', '2008 EW51',\n",
       "       '2005 UO334', '2009 WT46', '2004 BP77', '2011 GU87', '2003 VC10',\n",
       "       '2008 CH179', '2002 TZ222', '2009 UC135', '2007 GY11', '2006 SV60',\n",
       "       '2013 GE1', '2012 DQ97', '2008 UR168', '2008 CM73', '2008 CR3',\n",
       "       '2012 BP28', '2013 JO18', '2003 EA30', '2014 KW90', '2014 SE213',\n",
       "       '2014 VJ17', '2004 BY141', '2008 XA56', '2008 EP140', '2013 CZ109',\n",
       "       '2006 WE32', '2014 QZ259', '2017 EB6', '2013 VO21', '2005 NW43',\n",
       "       '2012 MF9', '2008 UJ135', '2015 KN74', '2009 HJ4', '2015 UK89',\n",
       "       '2017 BY67', '2013 WL18', '2010 CJ163', '2010 RG182', '2004 DW85',\n",
       "       '2002 TN345', '2000 CS130', '2002 PO200', '2004 BP', '2004 JR57',\n",
       "       '2004 YU41', '2005 UK320', '2005 VJ46', '2006 SD380', '2007 DB122',\n",
       "       '2007 HV105', '2007 KJ10', '2007 VX34', '2007 VL196', '2007 VL257',\n",
       "       '2008 AC52', '2008 EL193', '2008 SQ340', '2008 UZ390',\n",
       "       '2008 UY403', '2008 XK27', '2009 EY35', '2009 SA381', '2009 TU11',\n",
       "       '2009 TC40', '2010 DF106', '2010 GB147', '2010 MW28', '2010 UN85',\n",
       "       '2010 XE74', '2011 BC167', '2011 HQ42', '2011 ST249', '2011 SP328',\n",
       "       '2011 WY166', '2011 WV168', '2012 BF171', '2012 TU130',\n",
       "       '2012 TZ354', '2013 AA200', '2013 EJ183', '2013 FZ2', '2013 YB158',\n",
       "       '2014 MQ53', '2014 MX99', '2014 NJ72', '2014 OW98', '2014 OB254',\n",
       "       '2014 OM259', '2014 PU66', '2014 QE261', '2014 QV366',\n",
       "       '2014 QQ459', '2014 QJ553', '2014 QX554', '2014 UZ255',\n",
       "       '2014 WS340', '2014 WU561', '2014 YT65', '2015 BV227',\n",
       "       '2015 FU285', '2015 GQ5', '2015 HH53', '2015 KU50', '2015 KS92',\n",
       "       '2015 KR197', '2015 OQ128', '2015 OA141', '2015 PF285',\n",
       "       '2015 QE14', '2015 SX35', '2015 TK388', '2015 TC389', '2015 TK414',\n",
       "       '2015 UE46', '2015 VU61', '2015 XU33', '2015 XO93', '2015 XE109',\n",
       "       '2015 XQ222', '2016 AR232', '2016 CS199', '2016 CA296',\n",
       "       '2016 CF339', '2016 CU343', '2016 NF131', '2016 PP129',\n",
       "       '2016 SR93', '2016 TM121', '2016 UF127', '2016 WH45', '2016 YK13',\n",
       "       '2017 BZ132', '2017 HO54', '2017 UX101', '2018 AB32', '2018 FR36',\n",
       "       '2018 GM13', '2018 HN10', '2018 KS10', '2018 NP27', '2018 QS8',\n",
       "       '2018 QU18', '2019 JM1', '2019 MR5', '2019 NX73', '2019 OC16',\n",
       "       '2019 PW31', '2019 QV71', '2019 RM76', '2019 SX105', '2019 UP127',\n",
       "       '2020 RR16', '2020 RE87', '2020 TD38', '2020 TG55', '2020 VO18',\n",
       "       '2020 VT20', '2021 PY40', '2022 DL10', '2022 DF21', '2022 GU',\n",
       "       '2015 OK79', '2017 BQ100'], dtype=object)"
      ]
     },
     "execution_count": 7,
     "metadata": {},
     "output_type": "execute_result"
    }
   ],
   "source": [
    "rocks_in_field.name"
   ]
  },
  {
   "cell_type": "code",
   "execution_count": 8,
   "id": "33e21c21-c575-4476-a951-e5c51c956882",
   "metadata": {},
   "outputs": [
    {
     "data": {
      "text/plain": [
       "Text(0, 0.5, 'DEC (deg)')"
      ]
     },
     "execution_count": 8,
     "metadata": {},
     "output_type": "execute_result"
    },
    {
     "data": {
      "image/png": "[encoded data removed]",
      "text/plain": [
       "<Figure size 576x576 with 1 Axes>"
      ]
     },
     "metadata": {
      "needs_background": "light"
     },
     "output_type": "display_data"
    }
   ],
   "source": [
    "#plot the sky postion\n",
    "fig, ax = plt.subplots(figsize=(8, 8))\n",
    "ax.scatter(obs.ra.deg, obs.dec.deg, c=obs.mag)\n",
    "ax.set_xlabel('RA (deg)')\n",
    "ax.set_ylabel('DEC (deg)')"
   ]
  },
  {
   "cell_type": "code",
   "execution_count": 9,
   "id": "fd8f0c25-c9c2-4056-a6eb-6df592f62ca8",
   "metadata": {},
   "outputs": [],
   "source": [
    "#compare the ephemeris of mpchecker with JPL Horizons\n",
    "\n",
    "dates = Time([epoch, epoch+1], scale='utc', format='mjd')\n",
    "seps = np.zeros(len(rocks_in_field))\n",
    "seps_ra = np.zeros(len(rocks_in_field))\n",
    "seps_dec = np.zeros(len(rocks_in_field))\n",
    "for n, rock_id in enumerate(rocks_in_field.name):\n",
    "    ephem_Horizons = Horizons(id=rock_id, location='566',\n",
    "                          epochs={'start':dates[0].iso, \n",
    "                                  'stop':dates[1].iso, \n",
    "                                  'step':'2d'}).ephemerides()\n",
    "    pos_Horizons = SkyCoord(ephem_Horizons['RA'], ephem_Horizons['DEC'], frame='icrs', unit=(u.deg, u.deg))\n",
    "    pos_pred = SkyCoord(obs[rocks_in_field.name == rock_id].ra.deg, obs[rocks_in_field.name == rock_id].dec.deg, frame='icrs', unit=(u.deg, u.deg))\n",
    "    seps[n] += pos_pred.separation(pos_Horizons).arcsec[0]\n",
    "    seps_ra[n] += (obs[rocks_in_field.name == rock_id].ra - pos_Horizons.ra).arcsec[0]\n",
    "    seps_dec[n] += (obs[rocks_in_field.name == rock_id].dec - pos_Horizons.dec).arcsec[0]\n",
    "    "
   ]
  },
  {
   "cell_type": "code",
   "execution_count": 10,
   "id": "7d5412d4-0c09-40ed-9eb5-7a0a4b3ecec0",
   "metadata": {},
   "outputs": [
    {
     "name": "stdout",
     "output_type": "stream",
     "text": [
      "214 of 228 have Residuals < 2\"\n"
     ]
    },
    {
     "data": {
      "text/plain": [
       "Text(0, 0.5, 'number')"
      ]
     },
     "execution_count": 10,
     "metadata": {},
     "output_type": "execute_result"
    },
    {
     "data": {
      "image/png": "[encoded data removed]",
      "text/plain": [
       "<Figure size 432x288 with 1 Axes>"
      ]
     },
     "metadata": {
      "needs_background": "light"
     },
     "output_type": "display_data"
    }
   ],
   "source": [
    "print(f'{(seps<2).sum()} of {len(seps)} have Residuals < 2\"')\n",
    "seps = seps[seps<2]\n",
    "plt.hist(seps, bins = 30)\n",
    "plt.xlabel('Residuals (arcsec)')\n",
    "plt.ylabel('number')"
   ]
  },
  {
   "cell_type": "code",
   "execution_count": 11,
   "id": "861e4028-6442-40f9-b382-0f5d3a150ad6",
   "metadata": {},
   "outputs": [
    {
     "data": {
      "text/plain": [
       "Text(0, 0.5, 'checker_dec - JPL_dec (arcsec)')"
      ]
     },
     "execution_count": 11,
     "metadata": {},
     "output_type": "execute_result"
    },
    {
     "data": {
      "image/png": "[encoded data removed]",
      "text/plain": [
       "<Figure size 432x288 with 1 Axes>"
      ]
     },
     "metadata": {
      "needs_background": "light"
     },
     "output_type": "display_data"
    }
   ],
   "source": [
    "plt.xlim(-.5, .5)\n",
    "plt.ylim(-.5, .5)\n",
    "plt.scatter(seps_ra, seps_dec, marker='.', alpha=0.5)\n",
    "plt.xlabel('checker_ra - JPL_ra (arcsec)')\n",
    "plt.ylabel('checker_dec - JPL_dec (arcsec)')"
   ]
  },
  {
   "cell_type": "code",
   "execution_count": 12,
   "id": "eb03fe7f-e4ae-47e0-99f4-68a70910e199",
   "metadata": {},
   "outputs": [
    {
     "data": {
      "application/vnd.jupyter.widget-view+json": {
       "model_id": "22929f17ad374458a5f0786e59439234",
       "version_major": 2,
       "version_minor": 0
      },
      "text/plain": [
       "Output()"
      ]
     },
     "metadata": {},
     "output_type": "display_data"
    },
    {
     "data": {
      "text/html": [
       "<pre style=\"white-space:pre;overflow-x:auto;line-height:normal;font-family:Menlo,'DejaVu Sans Mono',consolas,'Courier New',monospace\"></pre>\n"
      ],
      "text/plain": []
     },
     "metadata": {},
     "output_type": "display_data"
    },
    {
     "data": {
      "text/html": [
       "<pre style=\"white-space:pre;overflow-x:auto;line-height:normal;font-family:Menlo,'DejaVu Sans Mono',consolas,'Courier New',monospace\">\n",
       "</pre>\n"
      ],
      "text/plain": [
       "\n"
      ]
     },
     "metadata": {},
     "output_type": "display_data"
    }
   ],
   "source": [
    "units.angular_separation = u.deg\n",
    "epoch = '2022-05-17'\n",
    "ra = 0\n",
    "dec = -2\n",
    "radius = 1.1\n",
    "rocks_in_field, obs = checker.check(ra, dec, radius, epoch, maglim=27, obscode='W84', units=units)"
   ]
  },
  {
   "cell_type": "code",
   "execution_count": 13,
   "id": "a608c12b-8474-4e34-b973-8b90a126579d",
   "metadata": {},
   "outputs": [
    {
     "name": "stderr",
     "output_type": "stream",
     "text": [
      "/Users/edlin/opt/anaconda3/lib/python3.9/site-packages/spacerocks/mpchecker.py:61: UserWarning: No known object! Return None.\n",
      "  warnings.warn('No known object! Return None.')\n"
     ]
    }
   ],
   "source": [
    "#If there is nothing in the field, checker will return None\n",
    "#use iso timeformat\n",
    "units.timeformat = 'iso' \n",
    "epoch = '2022-05-16.73'\n",
    "ra = 0\n",
    "dec = -30\n",
    "radius = Angle(3, unit=u.arcmin)\n",
    "rocks_in_field, obs = checker.check(ra, dec, radius, epoch, maglim=27, obscode='566', units=units)"
   ]
  },
  {
   "cell_type": "code",
   "execution_count": 14,
   "id": "4d53ee6d-d647-46b7-a76b-ce35009ee3d3",
   "metadata": {},
   "outputs": [
    {
     "name": "stdout",
     "output_type": "stream",
     "text": [
      "None None\n"
     ]
    }
   ],
   "source": [
    "print(rocks_in_field, obs)"
   ]
  },
  {
   "cell_type": "code",
   "execution_count": 15,
   "id": "47bfef89-2609-44a6-982b-476ac1bf8e5b",
   "metadata": {},
   "outputs": [
    {
     "name": "stderr",
     "output_type": "stream",
     "text": [
      "/Users/edlin/opt/anaconda3/lib/python3.9/site-packages/spacerocks/mpchecker.py:39: UserWarning: Exceed maximum search radius, using radius = 7 degrees instead.\n",
      "  warnings.warn('Exceed maximum search radius, using radius = 7 degrees instead.')\n"
     ]
    },
    {
     "data": {
      "application/vnd.jupyter.widget-view+json": {
       "model_id": "9e5f4b73d18541f0a526d89129ab0071",
       "version_major": 2,
       "version_minor": 0
      },
      "text/plain": [
       "Output()"
      ]
     },
     "metadata": {},
     "output_type": "display_data"
    },
    {
     "data": {
      "text/html": [
       "<pre style=\"white-space:pre;overflow-x:auto;line-height:normal;font-family:Menlo,'DejaVu Sans Mono',consolas,'Courier New',monospace\"></pre>\n"
      ],
      "text/plain": []
     },
     "metadata": {},
     "output_type": "display_data"
    },
    {
     "data": {
      "text/html": [
       "<pre style=\"white-space:pre;overflow-x:auto;line-height:normal;font-family:Menlo,'DejaVu Sans Mono',consolas,'Courier New',monospace\">\n",
       "</pre>\n"
      ],
      "text/plain": [
       "\n"
      ]
     },
     "metadata": {},
     "output_type": "display_data"
    }
   ],
   "source": [
    "#The maximum search radius is 7 degrees\n",
    "epoch = '2022-05-16.73'\n",
    "ra = 0\n",
    "dec = -30\n",
    "radius = Angle(50, unit=u.deg) #the radius execced 3 degrees, checker will use 3 degrees radius instead\n",
    "rocks_in_field, obs = checker.check(ra, dec, radius, epoch, maglim=27, obscode='566', units=units)"
   ]
  },
  {
   "cell_type": "code",
   "execution_count": 16,
   "id": "67e82bf7-1686-4b9e-b4f8-143ccb194b5c",
   "metadata": {},
   "outputs": [
    {
     "name": "stdout",
     "output_type": "stream",
     "text": [
      "There are 457 asteroids in the field.\n"
     ]
    }
   ],
   "source": [
    "print(f'There are {len(rocks_in_field)} asteroids in the field.')"
   ]
  },
  {
   "cell_type": "code",
   "execution_count": null,
   "id": "09cb66e0-fa8f-4f9f-bfc7-9bda93b1c543",
   "metadata": {},
   "outputs": [],
   "source": []
  },
  {
   "cell_type": "code",
   "execution_count": null,
   "id": "f06a36a3-bd79-478a-8c31-c3da2dfb13ee",
   "metadata": {},
   "outputs": [],
   "source": []
  }
 ],
 "metadata": {
  "kernelspec": {
   "display_name": "Python 3 (ipykernel)",
   "language": "python",
   "name": "python3"
  },
  "language_info": {
   "codemirror_mode": {
    "name": "ipython",
    "version": 3
   },
   "file_extension": ".py",
   "mimetype": "text/x-python",
   "name": "python",
   "nbconvert_exporter": "python",
   "pygments_lexer": "ipython3",
   "version": "3.9.7"
  }
 },
 "nbformat": 4,
 "nbformat_minor": 5
}
