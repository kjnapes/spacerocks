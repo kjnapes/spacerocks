{
 "cells": [
  {
   "cell_type": "code",
   "execution_count": 1,
   "id": "9559d872-ffe5-4442-bea1-cb14a10a3da7",
   "metadata": {},
   "outputs": [],
   "source": [
    "from spacerocks import SpaceRock, Units\n",
    "from spacerocks.mpchecker import MPChecker\n",
    "\n",
    "import numpy as np\n",
    "\n",
    "from astropy.time import Time\n",
    "from astropy import units as u\n",
    "from astropy.coordinates import Angle"
   ]
  },
  {
   "cell_type": "code",
   "execution_count": 2,
   "id": "43244043-136b-4f6d-9313-c35a122b4796",
   "metadata": {},
   "outputs": [],
   "source": [
    "#loading Million objects into rocks take long time\n",
    "#Once MPChecker object has been created, everthing should be fast\n",
    "m = MPChecker()"
   ]
  },
  {
   "cell_type": "code",
   "execution_count": 3,
   "id": "3524103b-9962-4a48-b5e7-a22552a7f05e",
   "metadata": {},
   "outputs": [],
   "source": [
    "epoch =Time('2022-05-16.73', scale='utc', format='iso')\n",
    "ra = Angle(0, unit=u.deg)\n",
    "dec = Angle(10, unit=u.deg)\n",
    "radius = Angle(60, unit=u.arcmin)"
   ]
  },
  {
   "cell_type": "code",
   "execution_count": 4,
   "id": "76d3f52a-7b21-44c1-802a-fe2847447f64",
   "metadata": {},
   "outputs": [
    {
     "name": "stderr",
     "output_type": "stream",
     "text": [
      "/Users/edlin/opt/anaconda3/lib/python3.9/site-packages/erfa/core.py:154: ErfaWarning: ERFA function \"taiutc\" yielded 5 of \"dubious year (Note 4)\"\n",
      "  warnings.warn('ERFA function \"{}\" yielded {}'.format(func_name, wmsg),\n"
     ]
    },
    {
     "data": {
      "application/vnd.jupyter.widget-view+json": {
       "model_id": "a1cc528f8e5a4ee28265d23d44f8dfbb",
       "version_major": 2,
       "version_minor": 0
      },
      "text/plain": [
       "Output()"
      ]
     },
     "metadata": {},
     "output_type": "display_data"
    },
    {
     "data": {
      "text/html": [
       "<pre style=\"white-space:pre;overflow-x:auto;line-height:normal;font-family:Menlo,'DejaVu Sans Mono',consolas,'Courier New',monospace\"></pre>\n"
      ],
      "text/plain": []
     },
     "metadata": {},
     "output_type": "display_data"
    },
    {
     "data": {
      "text/html": [
       "<pre style=\"white-space:pre;overflow-x:auto;line-height:normal;font-family:Menlo,'DejaVu Sans Mono',consolas,'Courier New',monospace\">\n",
       "</pre>\n"
      ],
      "text/plain": [
       "\n"
      ]
     },
     "metadata": {},
     "output_type": "display_data"
    }
   ],
   "source": [
    "rocks_in_field, obs = m.checker(ra, dec, radius, epoch, lim_mag = 27, code='566')"
   ]
  },
  {
   "cell_type": "code",
   "execution_count": 5,
   "id": "a5560642-4eb6-4e13-9109-2ad938f96d66",
   "metadata": {},
   "outputs": [
    {
     "name": "stdout",
     "output_type": "stream",
     "text": [
      "There are 171 asteroids in the field.\n"
     ]
    }
   ],
   "source": [
    "print(f'There are {len(rocks_in_field)} asteroids in the field.')"
   ]
  },
  {
   "cell_type": "code",
   "execution_count": 6,
   "id": "90cba3e1-0967-4919-a54d-2b3f454c0f75",
   "metadata": {},
   "outputs": [
    {
     "data": {
      "text/plain": [
       "array(['1989 UT2', '1985 YH', '1974 WB', '1978 UF7', '1998 SE132',\n",
       "       '1999 CS59', '2000 JY30', '2001 OA81', '1991 GA2', '2000 EG143',\n",
       "       '1996 XK5', '2003 QO70', '2001 SS339', '2001 UL7', '2000 YF92',\n",
       "       '2004 RP216', '2003 AR22', '2001 VH75', '2004 RA310', '1999 JH42',\n",
       "       '2002 TU169', '2001 AG12', '2001 VD26', '2001 XG108', '2009 SU258',\n",
       "       '2005 MU52', '2005 UF252', '2006 UW346', '2005 YG186', '2002 XZ30',\n",
       "       '2000 SW45', '2006 VW7', '2009 HJ82', '2011 FK132', '2004 HM28',\n",
       "       '2005 SV192', '2010 WM14', '2005 LA39', '2005 VS133', '2011 QH13',\n",
       "       '2005 WQ4', '2005 UA445', '2007 GW19', '2007 AW22', '2001 QX134',\n",
       "       '2006 WX40', '2002 GW2', '2002 WG31', '2005 UU68', '2009 WO101',\n",
       "       '2012 HK40', '2010 XA17', '2014 SV309', '2012 JG11', '2013 SW83',\n",
       "       '2011 AH77', '2005 TG6', '2012 HM6', '2014 DC103', '2005 SV182',\n",
       "       '2014 SC310', '2016 EO29', '2005 WU103', '2012 KP48', '2014 YY10',\n",
       "       '2011 PR3', '2008 AQ100', '2016 WX47', '2015 XB415', '2012 OD1',\n",
       "       '2016 CC282', '2014 VH23', '2014 WU390', '2014 WK406', '2004 HX58',\n",
       "       '2005 UC105', '2006 UF367', '2012 PV45', '2016 CF182', '2016 DW2',\n",
       "       '2017 YD6', '2012 QL3', '2007 RM314', '2011 BL169', '2007 CS24',\n",
       "       '2007 YC66', '2001 XM155', '2005 LG26', '2005 SN178', '2005 UU39',\n",
       "       '2005 UE76', '2005 UE183', '2005 UK536', '2005 UV546', '2006 TS23',\n",
       "       '2006 VQ93', '2006 WR76', '2006 WU145', '2006 WM214', '2007 AO34',\n",
       "       '2008 ST247', '2008 WM165', '2009 UY191', '2009 VD102', '2010 FK',\n",
       "       '2010 GV61', '2011 AH91', '2011 OQ67', '2011 QT80', '2011 SN5',\n",
       "       '2011 UZ394', '2012 TD55', '2013 WK136', '2014 AL25', '2014 AS71',\n",
       "       '2014 LZ40', '2014 QA435', '2014 VD38', '2014 WZ240', '2014 WZ251',\n",
       "       '2014 WN285', '2014 XY23', '2014 YA73', '2015 AA75', '2015 AA215',\n",
       "       '2015 AR236', '2015 BG213', '2015 BH243', '2015 DN176',\n",
       "       '2015 HP172', '2015 HX182', '2015 HE231', '2015 KR47',\n",
       "       '2015 KF252', '2015 MH39', '2015 MG163', '2015 RB108', '2015 XU77',\n",
       "       '2015 YP1', '2016 AU154', '2016 AT310', '2016 AE361', '2016 BO100',\n",
       "       '2016 DQ34', '2016 EH1', '2016 EW186', '2016 EK205', '2016 EL205',\n",
       "       '2016 NX118', '2016 OE9', '2016 PL15', '2016 QE12', '2016 QW104',\n",
       "       '2017 SK62', '2017 UW82', '2017 UY146', '2017 XU70', '2018 AU20',\n",
       "       '2018 VE56', '2018 VL73', '2019 AP65', '2019 YZ12', '2020 AJ22',\n",
       "       '2020 HY40', '2021 GF64', '2021 JY19', '2021 JJ22', '2021 JF48',\n",
       "       '2021 JA56', '2010 NB37', '2017 XA55'], dtype=object)"
      ]
     },
     "execution_count": 6,
     "metadata": {},
     "output_type": "execute_result"
    }
   ],
   "source": [
    "rocks_in_field.name"
   ]
  },
  {
   "cell_type": "code",
   "execution_count": 7,
   "id": "1c487500-0b5b-4adc-93db-40908e46e233",
   "metadata": {},
   "outputs": [
    {
     "name": "stdout",
     "output_type": "stream",
     "text": [
      "[8.83553494e-01 3.62763112e-01 3.59246209e+02 3.59093821e+02\n",
      " 3.61228122e-01 3.59245456e+02 3.59147335e+02 3.59760107e+02\n",
      " 4.07954035e-01 7.12115555e-01 1.52751200e-02 6.36578414e-01\n",
      " 2.11253399e-01 1.89098112e-02 3.59993073e+02 3.59459390e+02\n",
      " 2.60804493e-01 3.10910524e-01 3.59504806e+02 6.38933481e-01\n",
      " 5.30350754e-01 3.59894309e+02 8.00474766e-02 6.37777101e-01\n",
      " 8.19531207e-01 7.02202374e-01 7.04297761e-01 3.59316633e+02\n",
      " 3.59396479e+02 6.02640722e-01 3.75346054e-01 1.71409060e-01\n",
      " 6.61970213e-01 3.59349755e+02 3.59481843e+02 3.59509856e+02\n",
      " 7.27557214e-01 9.24397458e-02 2.76212162e-01 3.59293957e+02\n",
      " 3.59730194e+02 8.94531905e-01 3.59719883e+02 2.34029747e-01\n",
      " 3.59571539e+02 3.59253224e+02 3.51521886e-01 3.59126848e+02\n",
      " 3.59252231e+02 3.59810184e+02 9.44984815e-01 8.95524757e-01\n",
      " 3.59117850e+02 3.59692170e+02 3.59859671e+02 4.36287229e-01\n",
      " 8.56786890e-02 3.59111630e+02 2.48768590e-01 5.40654508e-01\n",
      " 6.51686727e-01 9.71629811e-01 3.59217992e+02 4.66788020e-01\n",
      " 2.78438923e-01 6.28452715e-01 3.59035560e+02 3.59378261e+02\n",
      " 5.15296828e-01 3.59100793e+02 3.59706558e+02 4.75303669e-01\n",
      " 8.97046682e-01 1.05010323e-01 3.59290001e+02 4.59209349e-02\n",
      " 2.71574457e-01 3.59223214e+02 9.61650040e-02 3.59296212e+02\n",
      " 3.59197303e+02 3.59598050e+02 3.59731310e+02 3.59794602e+02\n",
      " 3.59833979e+02 3.59686197e+02 4.00403407e-01 8.34663735e-02\n",
      " 4.33939456e-01 3.59494322e+02 3.59758826e+02 3.59978034e+02\n",
      " 5.48930295e-02 3.59814552e+02 3.59822510e+02 5.62054100e-02\n",
      " 3.59133658e+02 9.11447429e-01 3.59359605e+02 1.63454401e-01\n",
      " 3.42433536e-01 3.59359401e+02 3.59345884e+02 3.59163489e+02\n",
      " 8.55020750e-02 6.31978572e-02 3.59305070e+02 4.37201406e-01\n",
      " 3.59248711e+02 4.04475275e-01 3.59195089e+02 6.06013680e-01\n",
      " 3.59666881e+02 3.59973670e+02 6.15240710e-01 5.49270655e-01\n",
      " 3.59915465e+02 3.59198500e+02 6.59527178e-01 6.13317992e-01\n",
      " 3.59546395e+02 3.59828152e+02 3.59766746e+02 5.57582943e-01\n",
      " 3.59074291e+02 3.59641180e+02 1.55348934e-02 3.23001248e-01\n",
      " 4.02223939e-01 2.64770935e-01 3.59080394e+02 7.13355194e-01\n",
      " 3.59994891e+02 3.16948904e-02 3.59939976e+02 3.59285293e+02\n",
      " 3.65036396e-01 6.38179967e-01 3.59058501e+02 4.23276730e-01\n",
      " 3.31588785e-01 4.92275261e-01 4.80868028e-01 3.59764040e+02\n",
      " 3.68124024e-01 3.59969066e+02 3.59888743e+02 2.09974801e-01\n",
      " 9.29854234e-01 8.13039230e-01 3.59617128e+02 3.59775215e+02\n",
      " 3.59127482e+02 3.59737900e+02 3.71633037e-01 9.96125884e-02\n",
      " 2.15164601e-01 1.95996236e-01 3.59708386e+02 3.42115268e-01\n",
      " 3.59766206e+02 3.69156146e-02 3.59551878e+02 3.59578770e+02\n",
      " 4.39823000e-01 1.31101833e-01 3.32461692e-01 6.22837807e-01\n",
      " 8.86261284e-01 3.71450806e-01 7.77375954e-01] [ 9.79650507 10.58846699 10.15239297  9.5978482   9.2621873   9.7793944\n",
      "  9.68707287 10.87061289  9.44756211 10.61007238 10.89592621 10.62860602\n",
      " 10.05129044 10.45702033  9.1384186   9.25021436  9.41608215  9.732912\n",
      " 10.38064541 10.7004522  10.26411089 10.08170064 10.82900466  9.83379813\n",
      " 10.55669842 10.00914915 10.19350948 10.08814657 10.51761958 10.72920673\n",
      " 10.0908322  10.6655971   9.32044863 10.19371508  9.34367074  9.34952198\n",
      " 10.64534817 10.43123545 10.23454264  9.99203423  9.68100883 10.27160254\n",
      "  9.96574023  9.44901237 10.67887901 10.37303892  9.14253069  9.87812938\n",
      " 10.19476732 10.7105542   9.70069654 10.43210789 10.17427208 10.57731853\n",
      " 10.30894253 10.1895136   9.47892532 10.47113133  9.06163111  9.36020561\n",
      " 10.66958586  9.99131768 10.34830156  9.48971307  9.91940881  9.35558631\n",
      " 10.02023373  9.84200229 10.6964209   9.86268898 10.21410408  9.90872549\n",
      " 10.07013208 10.28108306 10.12082593 10.00795506 10.1578167  10.21182436\n",
      " 10.79948376 10.26535205  9.47293839  9.98253373 10.27819568  9.78540236\n",
      "  9.91259275 10.44921091 10.25110151  9.91008047 10.21697481 10.28255272\n",
      "  9.86946513  9.54530016 10.23096442  9.5057602   9.70420302  9.32048299\n",
      "  9.54403501 10.14713736 10.1159387   9.50657372 10.12679136  9.48555381\n",
      "  9.44210961 10.12450815 10.04238386  9.27701329  9.44941947  9.77714524\n",
      " 10.35110529  9.15225375  9.89680993  9.34524223 10.74155366 10.25858009\n",
      "  9.27232888  9.39049449  9.59186769  9.49722989 10.1338641  10.41436521\n",
      "  9.97404038  9.59326552  9.19136675 10.46739626 10.24329286  9.97974776\n",
      "  9.45901264  9.65628947  9.61903558  9.64782225 10.26022957  9.6356668\n",
      " 10.67249504  9.12844842  9.44134771  9.3166621  10.48834541  9.3065382\n",
      " 10.32270285 10.73126651  9.91157821 10.11052058 10.25896277  9.35179812\n",
      "  9.30783819 10.30931759  9.93463797 10.10012337 10.34151342 10.45649076\n",
      "  9.38631659  9.33015592  9.85373564 10.65775241 10.67174445  9.05405924\n",
      "  9.18427135  9.52090302 10.71238371  9.5867585  10.67038815  9.94773308\n",
      " 10.27293087 10.32289335 10.25298536 10.24105022 10.42462587  9.56470374\n",
      "  9.78144784  9.72551462  9.39771063] [18.20571256 18.51025305 19.74348054 19.37790961 18.29030732 19.42253074\n",
      " 19.67427216 18.91550044 18.70979727 20.91708237 21.00115322 19.874896\n",
      " 20.77179595 20.65773304 20.418946   20.69796678 21.32621216 24.6560618\n",
      " 21.10618588 20.18608069 20.53021266 21.90330706 20.65269074 20.30131849\n",
      " 21.65214501 21.2336291  20.67401106 21.37592308 21.80245333 21.46371951\n",
      " 21.09764838 20.52991597 22.08212199 22.47521283 21.89937012 22.2748296\n",
      " 22.78543303 21.85096546 21.91306569 21.19935338 21.32333417 21.67899376\n",
      " 21.81843766 22.23495491 21.45647283 21.75250324 23.3852859  22.54094742\n",
      " 22.44208411 22.66317154 22.35016076 21.85679288 22.29295613 21.81067035\n",
      " 21.89785757 22.53156496 22.01999436 22.89966798 21.9480067  22.61177264\n",
      " 22.16653755 22.16282585 22.86836536 22.76019926 22.71771028 23.14065013\n",
      " 22.71159129 22.1598265  22.94423749 21.37572003 23.24742956 22.06812891\n",
      " 22.18280793 22.46181792 22.90516042 23.02054322 22.11737513 22.24177279\n",
      " 22.93780701 23.14685542 22.17813043 22.69427541 23.4929471  22.54508041\n",
      " 22.23082363 23.15131693 23.23668105 22.85909421 22.39064064 22.39522217\n",
      " 21.41304763 23.20719179 23.30776474 23.47598598 23.15219606 22.42759165\n",
      " 24.05290799 23.1395901  23.5176305  23.40699556 23.14543069 23.13938547\n",
      " 23.0643829  23.37806177 25.86743173 22.75016358 22.8260762  23.49907752\n",
      " 21.6655774  26.17757746 22.89540344 22.51511047 22.43267551 23.1569827\n",
      " 23.42937658 23.39062771 23.45134988 23.49456873 22.37754837 22.7339623\n",
      " 23.89834173 23.0533597  22.73847202 22.96638798 23.31382707 22.95106125\n",
      " 23.02541009 23.59236535 22.85509455 22.79277768 26.37629411 23.81029987\n",
      " 23.77954197 23.32770362 22.96473918 24.0176279  22.9610781  23.37276037\n",
      " 26.63851148 23.32199581 23.86963818 23.53851302 23.50466525 23.50490073\n",
      " 24.54703437 22.60776854 24.1787068  24.02223001 22.14888995 21.97722162\n",
      " 21.88260583 22.0325912  22.61062353 21.66824982 23.97088421 23.30014241\n",
      " 23.58018916 24.24031599 23.46772372 23.28466975 23.21618814 23.26623904\n",
      " 23.51555054 23.71018719 24.348998   24.01800869 23.3047798  22.84097626\n",
      " 24.33143092 21.90633865 23.39189722]\n"
     ]
    }
   ],
   "source": [
    "print(obs.ra.deg, obs.dec.deg, obs.mag)"
   ]
  },
  {
   "cell_type": "code",
   "execution_count": 8,
   "id": "a608c12b-8474-4e34-b973-8b90a126579d",
   "metadata": {},
   "outputs": [
    {
     "data": {
      "application/vnd.jupyter.widget-view+json": {
       "model_id": "02d456913fd14308a094de27517554a4",
       "version_major": 2,
       "version_minor": 0
      },
      "text/plain": [
       "Output()"
      ]
     },
     "metadata": {},
     "output_type": "display_data"
    },
    {
     "data": {
      "text/html": [
       "<pre style=\"white-space:pre;overflow-x:auto;line-height:normal;font-family:Menlo,'DejaVu Sans Mono',consolas,'Courier New',monospace\"></pre>\n"
      ],
      "text/plain": []
     },
     "metadata": {},
     "output_type": "display_data"
    },
    {
     "data": {
      "text/html": [
       "<pre style=\"white-space:pre;overflow-x:auto;line-height:normal;font-family:Menlo,'DejaVu Sans Mono',consolas,'Courier New',monospace\">\n",
       "</pre>\n"
      ],
      "text/plain": [
       "\n"
      ]
     },
     "metadata": {},
     "output_type": "display_data"
    },
    {
     "name": "stderr",
     "output_type": "stream",
     "text": [
      "/Users/edlin/opt/anaconda3/lib/python3.9/site-packages/spacerocks/mpchecker.py:50: UserWarning: No known object! Return None.\n",
      "  warnings.warn('No known object! Return None.')\n"
     ]
    }
   ],
   "source": [
    "#If there is nothing in the field, checker will return None\n",
    "epoch =Time('2022-05-16.73', scale='utc', format='iso')\n",
    "ra = Angle(0, unit=u.deg)\n",
    "dec = Angle(-30, unit=u.deg)\n",
    "radius = Angle(3, unit=u.arcmin)\n",
    "rocks_in_field, obs = m.checker(ra, dec, radius, epoch, lim_mag = 27, code='566')"
   ]
  },
  {
   "cell_type": "code",
   "execution_count": 9,
   "id": "4d53ee6d-d647-46b7-a76b-ce35009ee3d3",
   "metadata": {},
   "outputs": [
    {
     "name": "stdout",
     "output_type": "stream",
     "text": [
      "None None\n"
     ]
    }
   ],
   "source": [
    "print(rocks_in_field, obs)"
   ]
  },
  {
   "cell_type": "code",
   "execution_count": 10,
   "id": "47bfef89-2609-44a6-982b-476ac1bf8e5b",
   "metadata": {},
   "outputs": [
    {
     "name": "stderr",
     "output_type": "stream",
     "text": [
      "/Users/edlin/opt/anaconda3/lib/python3.9/site-packages/spacerocks/mpchecker.py:33: UserWarning: Exceed maximum search radius, using radius = 3 degrees instead.\n",
      "  warnings.warn('Exceed maximum search radius, using radius = 3 degrees instead.')\n"
     ]
    },
    {
     "data": {
      "application/vnd.jupyter.widget-view+json": {
       "model_id": "5743eb29bca44c4dbb44817d6d5bde76",
       "version_major": 2,
       "version_minor": 0
      },
      "text/plain": [
       "Output()"
      ]
     },
     "metadata": {},
     "output_type": "display_data"
    },
    {
     "data": {
      "text/html": [
       "<pre style=\"white-space:pre;overflow-x:auto;line-height:normal;font-family:Menlo,'DejaVu Sans Mono',consolas,'Courier New',monospace\"></pre>\n"
      ],
      "text/plain": []
     },
     "metadata": {},
     "output_type": "display_data"
    },
    {
     "data": {
      "text/html": [
       "<pre style=\"white-space:pre;overflow-x:auto;line-height:normal;font-family:Menlo,'DejaVu Sans Mono',consolas,'Courier New',monospace\">\n",
       "</pre>\n"
      ],
      "text/plain": [
       "\n"
      ]
     },
     "metadata": {},
     "output_type": "display_data"
    }
   ],
   "source": [
    "#The maximum search radius is 3 degrees\n",
    "epoch =Time('2022-05-16.73', scale='utc', format='iso')\n",
    "ra = Angle(0, unit=u.deg)\n",
    "dec = Angle(-30, unit=u.deg)\n",
    "radius = Angle(5, unit=u.deg) #the radius execced 3 degrees, checker will use 3 degrees radius instead\n",
    "rocks_in_field, obs = m.checker(ra, dec, radius, epoch, lim_mag = 27, code='W84')"
   ]
  },
  {
   "cell_type": "code",
   "execution_count": 11,
   "id": "67e82bf7-1686-4b9e-b4f8-143ccb194b5c",
   "metadata": {},
   "outputs": [
    {
     "name": "stdout",
     "output_type": "stream",
     "text": [
      "There are 197 asteroids in the field.\n"
     ]
    }
   ],
   "source": [
    "print(f'There are {len(rocks_in_field)} asteroids in the field.')"
   ]
  },
  {
   "cell_type": "code",
   "execution_count": null,
   "id": "09cb66e0-fa8f-4f9f-bfc7-9bda93b1c543",
   "metadata": {},
   "outputs": [],
   "source": []
  }
 ],
 "metadata": {
  "kernelspec": {
   "display_name": "Python 3 (ipykernel)",
   "language": "python",
   "name": "python3"
  },
  "language_info": {
   "codemirror_mode": {
    "name": "ipython",
    "version": 3
   },
   "file_extension": ".py",
   "mimetype": "text/x-python",
   "name": "python",
   "nbconvert_exporter": "python",
   "pygments_lexer": "ipython3",
   "version": "3.9.7"
  }
 },
 "nbformat": 4,
 "nbformat_minor": 5
}
