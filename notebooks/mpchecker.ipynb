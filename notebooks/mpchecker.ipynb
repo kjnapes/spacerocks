{
 "cells": [
  {
   "cell_type": "code",
   "execution_count": 1,
   "id": "9559d872-ffe5-4442-bea1-cb14a10a3da7",
   "metadata": {},
   "outputs": [],
   "source": [
    "from spacerocks import SpaceRock, Units\n",
    "from spacerocks.mpchecker import MPChecker\n",
    "\n",
    "import numpy as np\n",
    "\n",
    "from astropy.time import Time\n",
    "from astropy import units as u\n",
    "from astropy.coordinates import Angle"
   ]
  },
  {
   "cell_type": "code",
   "execution_count": 2,
   "id": "43244043-136b-4f6d-9313-c35a122b4796",
   "metadata": {},
   "outputs": [],
   "source": [
    "#loading Million objects in to rocks take long time\n",
    "#Once MPChecker object has been created, everthing should be fast\n",
    "m = MPChecker()"
   ]
  },
  {
   "cell_type": "code",
   "execution_count": 3,
   "id": "3524103b-9962-4a48-b5e7-a22552a7f05e",
   "metadata": {},
   "outputs": [],
   "source": [
    "epoch =Time('2022-05-16.73', scale='utc', format='iso')\n",
    "ra = Angle(280, unit=u.deg)\n",
    "dec = Angle(-3, unit=u.deg)\n",
    "radius = Angle(30, unit=u.arcmin)"
   ]
  },
  {
   "cell_type": "code",
   "execution_count": 4,
   "id": "76d3f52a-7b21-44c1-802a-fe2847447f64",
   "metadata": {},
   "outputs": [
    {
     "name": "stderr",
     "output_type": "stream",
     "text": [
      "/Users/edlin/opt/anaconda3/lib/python3.9/site-packages/erfa/core.py:154: ErfaWarning: ERFA function \"taiutc\" yielded 5 of \"dubious year (Note 4)\"\n",
      "  warnings.warn('ERFA function \"{}\" yielded {}'.format(func_name, wmsg),\n"
     ]
    },
    {
     "data": {
      "application/vnd.jupyter.widget-view+json": {
       "model_id": "491bf876be1b4111940fc5c8f868f85c",
       "version_major": 2,
       "version_minor": 0
      },
      "text/plain": [
       "Output()"
      ]
     },
     "metadata": {},
     "output_type": "display_data"
    },
    {
     "data": {
      "text/html": [
       "<pre style=\"white-space:pre;overflow-x:auto;line-height:normal;font-family:Menlo,'DejaVu Sans Mono',consolas,'Courier New',monospace\"></pre>\n"
      ],
      "text/plain": []
     },
     "metadata": {},
     "output_type": "display_data"
    },
    {
     "data": {
      "text/html": [
       "<pre style=\"white-space:pre;overflow-x:auto;line-height:normal;font-family:Menlo,'DejaVu Sans Mono',consolas,'Courier New',monospace\">\n",
       "</pre>\n"
      ],
      "text/plain": [
       "\n"
      ]
     },
     "metadata": {},
     "output_type": "display_data"
    }
   ],
   "source": [
    "rocks_in_field, obs = m.checker(ra, dec, radius, epoch, lim_mag = 27, code='W84')"
   ]
  },
  {
   "cell_type": "code",
   "execution_count": 5,
   "id": "a5560642-4eb6-4e13-9109-2ad938f96d66",
   "metadata": {},
   "outputs": [
    {
     "name": "stdout",
     "output_type": "stream",
     "text": [
      "There are 9 asteroids in the field.\n"
     ]
    }
   ],
   "source": [
    "print(f'There are {len(rocks_in_field)} asteroids in the field.')"
   ]
  },
  {
   "cell_type": "code",
   "execution_count": 6,
   "id": "90cba3e1-0967-4919-a54d-2b3f454c0f75",
   "metadata": {},
   "outputs": [
    {
     "data": {
      "text/plain": [
       "array(['2001 FF45', '2002 CW47', '2004 QS', '2010 CL40', '2004 RQ18',\n",
       "       '2006 SU193', '2015 HG10', '2016 EU155', '2017 DN141'],\n",
       "      dtype=object)"
      ]
     },
     "execution_count": 6,
     "metadata": {},
     "output_type": "execute_result"
    }
   ],
   "source": [
    "rocks_in_field.name"
   ]
  },
  {
   "cell_type": "code",
   "execution_count": 7,
   "id": "1c487500-0b5b-4adc-93db-40908e46e233",
   "metadata": {},
   "outputs": [
    {
     "name": "stdout",
     "output_type": "stream",
     "text": [
      "[279.75034349 280.28702253 280.18234331 279.8568754  279.77292535\n",
      " 279.77455737 279.76927717 280.00063955 280.0490612 ] [-2.6571019  -3.04632736 -2.79074875 -3.44263077 -2.85361308 -2.57815229\n",
      " -2.84786192 -2.83767565 -2.97021732] [18.69194696 18.55275719 20.39231449 21.23159513 21.69463363 22.68368233\n",
      " 25.38260101 24.90863623 22.42257499]\n"
     ]
    }
   ],
   "source": [
    "print(obs.ra.deg, obs.dec.deg, obs.mag)"
   ]
  },
  {
   "cell_type": "code",
   "execution_count": null,
   "id": "a608c12b-8474-4e34-b973-8b90a126579d",
   "metadata": {},
   "outputs": [],
   "source": []
  }
 ],
 "metadata": {
  "kernelspec": {
   "display_name": "Python 3 (ipykernel)",
   "language": "python",
   "name": "python3"
  },
  "language_info": {
   "codemirror_mode": {
    "name": "ipython",
    "version": 3
   },
   "file_extension": ".py",
   "mimetype": "text/x-python",
   "name": "python",
   "nbconvert_exporter": "python",
   "pygments_lexer": "ipython3",
   "version": "3.9.7"
  }
 },
 "nbformat": 4,
 "nbformat_minor": 5
}
