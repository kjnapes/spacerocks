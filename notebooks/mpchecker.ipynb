{
 "cells": [
  {
   "cell_type": "code",
   "execution_count": 1,
   "id": "9559d872-ffe5-4442-bea1-cb14a10a3da7",
   "metadata": {},
   "outputs": [],
   "source": [
    "from spacerocks import SpaceRock, Units\n",
    "from spacerocks.mpchecker import MPChecker\n",
    "\n",
    "import numpy as np\n",
    "\n",
    "from astropy.time import Time\n",
    "from astropy import units as u\n",
    "from astropy.coordinates import Angle"
   ]
  },
  {
   "cell_type": "code",
   "execution_count": 2,
   "id": "43244043-136b-4f6d-9313-c35a122b4796",
   "metadata": {},
   "outputs": [],
   "source": [
    "#loading Million objects in to rocks take long time\n",
    "#Once MPChecker object has been created, everthing should be fast\n",
    "m = MPChecker()"
   ]
  },
  {
   "cell_type": "code",
   "execution_count": 3,
   "id": "3524103b-9962-4a48-b5e7-a22552a7f05e",
   "metadata": {},
   "outputs": [],
   "source": [
    "epoch =Time('2022-05-16.73', scale='utc', format='iso')\n",
    "ra = Angle(280, unit=u.deg)\n",
    "dec = Angle(-3, unit=u.deg)\n",
    "radius = Angle(30, unit=u.arcmin)"
   ]
  },
  {
   "cell_type": "code",
   "execution_count": null,
   "id": "76d3f52a-7b21-44c1-802a-fe2847447f64",
   "metadata": {},
   "outputs": [
    {
     "name": "stderr",
     "output_type": "stream",
     "text": [
      "/Users/edlin/opt/anaconda3/lib/python3.9/site-packages/erfa/core.py:154: ErfaWarning: ERFA function \"taiutc\" yielded 5 of \"dubious year (Note 4)\"\n",
      "  warnings.warn('ERFA function \"{}\" yielded {}'.format(func_name, wmsg),\n"
     ]
    }
   ],
   "source": [
    "rocks_in_field, obs = m.checker(ra, dec, radius, epoch, lim_mag = 27, code='W84')"
   ]
  },
  {
   "cell_type": "code",
   "execution_count": null,
   "id": "a5560642-4eb6-4e13-9109-2ad938f96d66",
   "metadata": {},
   "outputs": [],
   "source": [
    "print(f'There are {len(rocks_in_field)} asteroids in the field.')"
   ]
  },
  {
   "cell_type": "code",
   "execution_count": null,
   "id": "90cba3e1-0967-4919-a54d-2b3f454c0f75",
   "metadata": {},
   "outputs": [],
   "source": [
    "rocks_in_field.name"
   ]
  },
  {
   "cell_type": "code",
   "execution_count": null,
   "id": "1c487500-0b5b-4adc-93db-40908e46e233",
   "metadata": {},
   "outputs": [],
   "source": [
    "print(obs.ra.deg, obs.dec.deg, obs.mag)"
   ]
  },
  {
   "cell_type": "code",
   "execution_count": null,
   "id": "a608c12b-8474-4e34-b973-8b90a126579d",
   "metadata": {},
   "outputs": [],
   "source": []
  }
 ],
 "metadata": {
  "kernelspec": {
   "display_name": "Python 3 (ipykernel)",
   "language": "python",
   "name": "python3"
  },
  "language_info": {
   "codemirror_mode": {
    "name": "ipython",
    "version": 3
   },
   "file_extension": ".py",
   "mimetype": "text/x-python",
   "name": "python",
   "nbconvert_exporter": "python",
   "pygments_lexer": "ipython3",
   "version": "3.9.7"
  }
 },
 "nbformat": 4,
 "nbformat_minor": 5
}
