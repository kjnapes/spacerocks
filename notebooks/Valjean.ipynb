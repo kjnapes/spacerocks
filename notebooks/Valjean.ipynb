{
 "cells": [
  {
   "cell_type": "code",
   "execution_count": 1,
   "metadata": {},
   "outputs": [
    {
     "name": "stderr",
     "output_type": "stream",
     "text": [
      "WARNING: AstropyDeprecationWarning: The update_default_config function is deprecated and may be removed in a future version. [astroquery._astropy_init]\n"
     ]
    }
   ],
   "source": [
    "from spacerocks import SpaceRock, Units\n",
    "\n",
    "from astroquery.jplhorizons import Horizons\n",
    "\n",
    "from astropy.time import Time\n",
    "from astropy import units as u\n",
    "from astropy.coordinates import SkyCoord\n",
    "\n",
    "import numpy as np\n",
    "\n",
    "import matplotlib.pyplot as plt\n",
    "%matplotlib inline"
   ]
  },
  {
   "cell_type": "code",
   "execution_count": 2,
   "metadata": {},
   "outputs": [
    {
     "name": "stdout",
     "output_type": "stream",
     "text": [
      "Quantity             Unit           \n",
      "---------------------------------------\n",
      "distance             AU             \n",
      "angle                deg            \n",
      "timescale            tdb            \n",
      "timeformat           None           \n",
      "speed                AU / d         \n",
      "size                 km             \n",
      "density              g / cm3        \n",
      "mass                 kg             \n",
      "ra                   deg            \n",
      "dec                  deg            \n",
      "rotation_curves      False          \n"
     ]
    }
   ],
   "source": [
    "units = Units()\n",
    "units.timescale = 'tdb' # JPL gives elements in TDB. This actually matters for precise ephemerides.\n",
    "units.current()"
   ]
  },
  {
   "cell_type": "code",
   "execution_count": 3,
   "metadata": {},
   "outputs": [],
   "source": [
    "rock = SpaceRock.from_horizons(name='Valjean')"
   ]
  },
  {
   "cell_type": "code",
   "execution_count": 4,
   "metadata": {},
   "outputs": [],
   "source": [
    "startdate = Time('2000-01-01', scale='utc', format='iso')\n",
    "testdates = Time(np.arange(startdate.jd, startdate.jd + 50 * 365.25, 30), scale='utc', format='jd')"
   ]
  },
  {
   "cell_type": "code",
   "execution_count": 5,
   "metadata": {},
   "outputs": [],
   "source": [
    "units.timescale = 'utc'"
   ]
  },
  {
   "cell_type": "code",
   "execution_count": null,
   "metadata": {},
   "outputs": [],
   "source": [
    "%%time\n",
    "prop, planets, sim = rock.propagate(epochs=testdates.jd, model=3, units=units, gr=False)"
   ]
  },
  {
   "cell_type": "code",
   "execution_count": null,
   "metadata": {},
   "outputs": [],
   "source": [
    "%%time\n",
    "gr_prop, planets, sim = rock.propagate(epochs=testdates.jd, model=3, units=units, gr=True)"
   ]
  },
  {
   "cell_type": "code",
   "execution_count": null,
   "metadata": {},
   "outputs": [],
   "source": [
    "gr_obs = gr_prop.observe(obscode='W84')\n",
    "obs = prop.observe(obscode='W84')"
   ]
  },
  {
   "cell_type": "code",
   "execution_count": null,
   "metadata": {},
   "outputs": [],
   "source": [
    "rock_id = 'Valjean'\n",
    "ephem_Horizons = Horizons(id=rock_id, location='W84',\n",
    "                          epochs={'start':testdates[0].iso, \n",
    "                                  'stop':testdates[-1].iso, \n",
    "                                  'step':'30d'}).ephemerides()"
   ]
  },
  {
   "cell_type": "code",
   "execution_count": null,
   "metadata": {},
   "outputs": [],
   "source": [
    "pos_Horizons = SkyCoord(ephem_Horizons['RA'], ephem_Horizons['DEC'], frame='icrs', unit=(u.deg, u.deg))\n",
    "pos_pred = SkyCoord(obs.ra.deg, obs.dec.deg, frame='icrs', unit=(u.deg, u.deg))\n",
    "sep = pos_pred.separation(pos_Horizons)\n",
    "gr_pos_pred = SkyCoord(gr_obs.ra.deg, gr_obs.dec.deg, frame='icrs', unit=(u.deg, u.deg))\n",
    "gr_sep = gr_pos_pred.separation(pos_Horizons)"
   ]
  },
  {
   "cell_type": "code",
   "execution_count": null,
   "metadata": {},
   "outputs": [],
   "source": [
    "fig, ax = plt.subplots(figsize=(18, 6))\n",
    "\n",
    "ax.scatter(prop.epoch.decimalyear, sep.arcsec, color='black', s=10, label='Newtonian Gravity')\n",
    "ax.scatter(gr_prop.epoch.decimalyear, gr_sep.arcsec, color='red', s=10, label='General Relativity')\n",
    "\n",
    "ax.tick_params(labelsize=16)\n",
    "ax.set_xlabel('Year', fontsize=24, labelpad=20)\n",
    "ax.set_ylabel('Residuals (arcsec)', fontsize=24, labelpad=30)\n",
    "ax.set_ylim(bottom=0)\n",
    "ax.legend(fontsize=20)\n",
    "fig.tight_layout()\n",
    "#fig.savefig('/home/kevin/Desktop/Valjean.pdf')"
   ]
  }
 ],
 "metadata": {
  "interpreter": {
   "hash": "4c1a9ccb59b65ba99407e5b01f53b77baff6ad89a3908a5988e9be141054a1ff"
  },
  "kernelspec": {
   "display_name": "Python 3",
   "language": "python",
   "name": "python3"
  },
  "language_info": {
   "codemirror_mode": {
    "name": "ipython",
    "version": 3
   },
   "file_extension": ".py",
   "mimetype": "text/x-python",
   "name": "python",
   "nbconvert_exporter": "python",
   "pygments_lexer": "ipython3",
   "version": "3.9.2"
  }
 },
 "nbformat": 4,
 "nbformat_minor": 2
}
