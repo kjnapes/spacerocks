{
 "cells": [
  {
   "cell_type": "code",
   "execution_count": 1,
   "metadata": {},
   "outputs": [],
   "source": [
    "from spacerocks import SpaceRock, Units\n",
    "\n",
    "from astroquery.jplhorizons import Horizons\n",
    "\n",
    "from astropy.time import Time\n",
    "from astropy import units as u\n",
    "from astropy.coordinates import SkyCoord\n",
    "\n",
    "import numpy as np\n",
    "\n",
    "import matplotlib.pyplot as plt\n",
    "%matplotlib inline"
   ]
  },
  {
   "cell_type": "code",
   "execution_count": 2,
   "metadata": {},
   "outputs": [
    {
     "name": "stdout",
     "output_type": "stream",
     "text": [
      "Quantity             Unit           \n",
      "---------------------------------------\n",
      "distance             AU             \n",
      "angle                deg            \n",
      "timescale            tdb            \n",
      "timeformat           None           \n",
      "speed                AU / d         \n",
      "size                 km             \n",
      "density              g / cm3        \n",
      "mass                 kg             \n",
      "ra                   deg            \n",
      "dec                  deg            \n",
      "rotation_curves      False          \n"
     ]
    }
   ],
   "source": [
    "units = Units()\n",
    "units.timescale = 'tdb' # JPL gives elements in TDB. This actually matters for precise ephemerides.\n",
    "units.current()"
   ]
  },
  {
   "cell_type": "code",
   "execution_count": 3,
   "metadata": {},
   "outputs": [],
   "source": [
    "rock = SpaceRock.from_horizons(name='Valjean')"
   ]
  },
  {
   "cell_type": "code",
   "execution_count": 4,
   "metadata": {},
   "outputs": [
    {
     "data": {
      "text/plain": [
       "{'frame': 'eclipJ2000',\n",
       " 'origin': 'sun',\n",
       " 'mu': <Quantity 0.00029591 AU3 rad2 / d2>,\n",
       " '_position': <spacerocks.vector.Vector at 0x7fde9265a6d0>,\n",
       " '_velocity': <spacerocks.vector.Vector at 0x7fde9265a580>,\n",
       " 'epoch': <Time object: scale='tdb' format='datetime' value=[datetime.datetime(2022, 4, 14, 0, 0)]>,\n",
       " 'name': array(['Valjean'], dtype=object),\n",
       " '_H': array([14.98]),\n",
       " 'G': array([0.15])}"
      ]
     },
     "execution_count": 4,
     "metadata": {},
     "output_type": "execute_result"
    }
   ],
   "source": [
    "rock.__dict__"
   ]
  },
  {
   "cell_type": "code",
   "execution_count": 5,
   "metadata": {},
   "outputs": [
    {
     "data": {
      "text/latex": [
       "$[4.6758131 \\times 10^{-310}] \\; \\mathrm{AU}$"
      ],
      "text/plain": [
       "<Distance [4.67581307e-310] AU>"
      ]
     },
     "execution_count": 5,
     "metadata": {},
     "output_type": "execute_result"
    }
   ],
   "source": [
    "rock.a"
   ]
  },
  {
   "cell_type": "code",
   "execution_count": 6,
   "metadata": {},
   "outputs": [
    {
     "data": {
      "text/plain": [
       "array([6.39979683])"
      ]
     },
     "execution_count": 6,
     "metadata": {},
     "output_type": "execute_result"
    }
   ],
   "source": [
    "rock.inc.deg"
   ]
  },
  {
   "cell_type": "code",
   "execution_count": 4,
   "metadata": {},
   "outputs": [],
   "source": [
    "startdate = Time('2000-01-01', scale='utc', format='iso')\n",
    "testdates = Time(np.arange(startdate.jd, startdate.jd + 50 * 365.25, 30), scale='utc', format='jd')"
   ]
  },
  {
   "cell_type": "code",
   "execution_count": 5,
   "metadata": {},
   "outputs": [],
   "source": [
    "units.timescale = 'utc'"
   ]
  },
  {
   "cell_type": "code",
   "execution_count": 6,
   "metadata": {},
   "outputs": [
    {
     "name": "stderr",
     "output_type": "stream",
     "text": [
      "/home/kevin/anaconda3/lib/python3.8/site-packages/erfa/core.py:154: ErfaWarning: ERFA function \"utctai\" yielded 280 of \"dubious year (Note 3)\"\n",
      "  warnings.warn('ERFA function \"{}\" yielded {}'.format(func_name, wmsg),\n",
      "/home/kevin/anaconda3/lib/python3.8/site-packages/erfa/core.py:154: ErfaWarning: ERFA function \"taiutc\" yielded 280 of \"dubious year (Note 4)\"\n",
      "  warnings.warn('ERFA function \"{}\" yielded {}'.format(func_name, wmsg),\n",
      "/home/kevin/anaconda3/lib/python3.8/site-packages/erfa/core.py:154: ErfaWarning: ERFA function \"taiutc\" yielded 7560 of \"dubious year (Note 4)\"\n",
      "  warnings.warn('ERFA function \"{}\" yielded {}'.format(func_name, wmsg),\n"
     ]
    },
    {
     "name": "stdout",
     "output_type": "stream",
     "text": [
      "CPU times: user 11.4 s, sys: 207 ms, total: 11.6 s\n",
      "Wall time: 11.6 s\n"
     ]
    }
   ],
   "source": [
    "%%time\n",
    "prop, planets, sim = rock.propagate(epochs=testdates.jd, model=3, units=units, gr=False)"
   ]
  },
  {
   "cell_type": "code",
   "execution_count": 15,
   "metadata": {},
   "outputs": [
    {
     "data": {
      "text/plain": [
       "array([6.94594930e-310, 2.21910279e+000, 2.21918981e+000, 2.21936042e+000,\n",
       "       2.21962261e+000, 2.21998703e+000, 2.22046585e+000, 2.22107110e+000,\n",
       "       2.22181419e+000, 2.22270375e+000])"
      ]
     },
     "execution_count": 15,
     "metadata": {},
     "output_type": "execute_result"
    }
   ],
   "source": [
    "prop.a.au[:10]"
   ]
  },
  {
   "cell_type": "code",
   "execution_count": 16,
   "metadata": {},
   "outputs": [
    {
     "data": {
      "text/plain": [
       "array([6.94594930e-310, 1.90667106e-001, 1.90543826e-001, 1.90369974e-001,\n",
       "       1.90155527e-001, 1.89914536e-001, 1.89665816e-001, 1.89433743e-001,\n",
       "       1.89248020e-001, 1.89142300e-001, 1.89151009e-001, 1.89303221e-001,\n",
       "       1.89613211e-001, 1.90066584e-001, 1.90605042e-001, 1.91117390e-001,\n",
       "       1.91448390e-001, 1.91436325e-001, 1.90976875e-001, 1.90086785e-001,\n",
       "       1.88925507e-001, 1.87747686e-001, 1.86811298e-001, 1.86294897e-001,\n",
       "       1.86262302e-001, 1.86677936e-001, 1.87446050e-001, 1.88450150e-001,\n",
       "       1.89579272e-001, 1.90740184e-001, 1.91860823e-001, 1.92888819e-001,\n",
       "       1.93787750e-001, 1.94533640e-001, 1.95111749e-001, 1.95513984e-001,\n",
       "       1.95737002e-001, 1.95780906e-001, 1.95648346e-001, 1.95344334e-001,\n",
       "       1.94876478e-001, 1.94255113e-001, 1.93494599e-001, 1.92614671e-001,\n",
       "       1.91641884e-001, 1.90611872e-001, 1.89572012e-001, 1.88584067e-001,\n",
       "       1.87726758e-001, 1.87096907e-001, 1.86806393e-001, 1.86972624e-001,\n",
       "       1.87698447e-001, 1.89038493e-001, 1.90953672e-001, 1.93265499e-001,\n",
       "       1.95635555e-001, 1.97601595e-001, 1.98689921e-001, 1.98579510e-001,\n",
       "       1.97238878e-001, 1.94958363e-001, 1.92245576e-001, 1.89643825e-001,\n",
       "       1.87572718e-001, 1.86253914e-001, 1.85722705e-001, 1.85886801e-001,\n",
       "       1.86590980e-001, 1.87666504e-001, 1.88959795e-001, 1.90344185e-001,\n",
       "       1.91721535e-001, 1.93019020e-001, 1.94184241e-001, 1.95180299e-001,\n",
       "       1.95981928e-001, 1.96572787e-001, 1.96943038e-001, 1.97087579e-001,\n",
       "       1.97005153e-001, 1.96697952e-001, 1.96171411e-001, 1.95434194e-001,\n",
       "       1.94498509e-001, 1.93381644e-001, 1.92108603e-001, 1.90715942e-001,\n",
       "       1.89257367e-001, 1.87810143e-001, 1.86480908e-001, 1.85408290e-001,\n",
       "       1.84757828e-001, 1.84702477e-001, 1.85382930e-001, 1.86848485e-001,\n",
       "       1.88990083e-001, 1.91500581e-001, 1.93906539e-001, 1.95690567e-001,\n",
       "       1.96465736e-001, 1.96113863e-001, 0.00000000e+000, 1.92930196e-001,\n",
       "       1.90899527e-001, 1.89071081e-001, 1.87666264e-001, 1.86774877e-001,\n",
       "       1.86387652e-001, 1.86436382e-001, 1.86827173e-001, 1.87462450e-001,\n",
       "       1.88253113e-001, 1.89123943e-001, 1.90014028e-001, 1.90875095e-001,\n",
       "       1.91669806e-001, 1.92369765e-001, 1.92953630e-001, 1.93405570e-001,\n",
       "       1.93714061e-001, 1.93871009e-001, 1.93871670e-001, 1.93714637e-001,\n",
       "       1.93401915e-001, 1.92939817e-001, 1.92340242e-001, 1.91622358e-001,\n",
       "       1.90814964e-001, 1.89959526e-001, 1.89112501e-001, 1.88346793e-001,\n",
       "       1.87750415e-001, 1.87418558e-001, 1.87436212e-001, 1.87849403e-001,\n",
       "       1.88629230e-001, 1.89643940e-001, 1.90663862e-001, 1.91419029e-001,\n",
       "       1.91698250e-001, 1.91437807e-001, 1.90745439e-001, 1.89842626e-001,\n",
       "       1.88970072e-001, 1.88311695e-001, 1.87963498e-001, 1.87941166e-001,\n",
       "       1.88205384e-001, 1.88688988e-001, 1.89317975e-001, 1.90023127e-001,\n",
       "       1.90745371e-001, 1.91437317e-001, 1.92062494e-001, 1.92593718e-001,\n",
       "       1.93011311e-001, 1.93301472e-001, 1.93454969e-001, 1.93466586e-001,\n",
       "       1.93334551e-001, 1.93060079e-001, 1.92647615e-001, 1.92105463e-001,\n",
       "       1.91447139e-001, 1.90692768e-001, 1.89870558e-001, 1.89018939e-001,\n",
       "       1.88189509e-001, 1.87449242e-001, 1.86881216e-001, 1.86582556e-001,\n",
       "       1.86656455e-001, 1.87194847e-001, 1.88248926e-001, 1.89788909e-001,\n",
       "       1.91663223e-001, 1.93579118e-001, 1.95136964e-001, 1.95932004e-001,\n",
       "       1.95699755e-001, 1.94436045e-001, 1.92413791e-001, 1.90083858e-001,\n",
       "       1.87915980e-001, 1.86262479e-001, 1.85299813e-001, 1.85043362e-001,\n",
       "       1.85400555e-001, 1.86228709e-001, 1.87377299e-001, 1.88711593e-001,\n",
       "       1.90121776e-001, 1.91523213e-001, 1.92852488e-001, 1.94062421e-001,\n",
       "       1.95118025e-001, 1.95993022e-001, 1.96667389e-001, 1.97126358e-001,\n",
       "       1.97359730e-001, 1.97360938e-001, 1.97126702e-001, 1.96657211e-001,\n",
       "       1.95956800e-001, 1.95035696e-001, 1.93912029e-001, 1.92614898e-001,\n",
       "       1.91188866e-001, 1.89699597e-001, 1.88240202e-001, 1.86936977e-001,\n",
       "       1.85951422e-001, 1.85472885e-001, 1.85694846e-001, 1.86766834e-001,\n",
       "       1.88721935e-001, 1.91401206e-001, 1.94415803e-001, 1.97195746e-001,\n",
       "       1.99142016e-001, 1.99829932e-001, 1.99160092e-001, 1.97373118e-001,\n",
       "       1.94929604e-001, 1.92338807e-001, 1.90018968e-001, 1.88231570e-001,\n",
       "       1.87082868e-001, 1.86562225e-001, 1.86588868e-001, 1.87050862e-001,\n",
       "       1.87831230e-001, 1.88822544e-001, 1.89932807e-001, 1.91086793e-001,\n",
       "       1.92224494e-001, 1.93298564e-001, 1.94271858e-001, 1.95115105e-001,\n",
       "       1.95804833e-001, 1.96321790e-001, 1.96650164e-001, 1.96776593e-001,\n",
       "       1.96689710e-001, 1.96380420e-001, 1.95842648e-001, 1.95074777e-001,\n",
       "       1.94081859e-001, 1.92878737e-001, 1.91494699e-001, 1.89980578e-001,\n",
       "       1.88416171e-001, 1.86917138e-001, 1.85638474e-001, 1.84767023e-001,\n",
       "       1.84492848e-001, 1.84952977e-001, 1.86157236e-001, 1.87931631e-001,\n",
       "       1.89926830e-001, 1.91717653e-001, 1.92950969e-001, 1.93458537e-001,\n",
       "       1.93278693e-001, 1.92594596e-001, 1.91641689e-001, 1.90633228e-001,\n",
       "       1.89722973e-001, 1.88999808e-001, 1.88498861e-001, 1.88217475e-001,\n",
       "       1.88131135e-001, 1.88205167e-001, 1.88402168e-001, 1.88686273e-001,\n",
       "       1.89025257e-001, 1.89391262e-001, 1.89760874e-001, 1.90115144e-001,\n",
       "       1.90438821e-001, 1.90719812e-001, 1.90948919e-001, 1.91119540e-001,\n",
       "       1.91227364e-001, 1.91270225e-001, 1.91248356e-001, 1.91164573e-001,\n",
       "       1.91024550e-001, 1.90836799e-001, 1.90612879e-001, 1.90367457e-001,\n",
       "       1.90117766e-001, 1.89882123e-001, 1.89677029e-001, 1.89512589e-001,\n",
       "       1.89386350e-001, 1.89278624e-001, 1.89153853e-001, 1.88971067e-001,\n",
       "       1.88704794e-001, 1.88367187e-001, 1.88015711e-001, 1.87737084e-001,\n",
       "       1.87613502e-001, 1.87693514e-001, 1.87984836e-001, 1.88460551e-001,\n",
       "       1.89073413e-001, 1.89769447e-001, 1.90497222e-001, 1.91212921e-001,\n",
       "       1.91882038e-001, 1.92478975e-001, 1.92985617e-001, 1.93389860e-001,\n",
       "       1.93684414e-001, 1.93865281e-001, 1.93930968e-001, 1.93882044e-001,\n",
       "       1.93720849e-001, 1.93451711e-001, 1.93081291e-001, 1.92618498e-001,\n",
       "       1.92075126e-001, 1.91467055e-001, 1.90815035e-001, 1.90145957e-001,\n",
       "       1.89494335e-001, 1.88903638e-001, 1.88427065e-001, 1.88127000e-001,\n",
       "       1.88071674e-001, 1.88327382e-001, 1.88944755e-001, 1.89936687e-001,\n",
       "       1.91250221e-001, 1.92740575e-001, 1.94162934e-001, 1.95205338e-001,\n",
       "       1.95572610e-001, 1.95098819e-001, 1.93834104e-001, 1.92044780e-001,\n",
       "       1.90119497e-001, 1.88433550e-001, 1.87243001e-001, 1.86649903e-001,\n",
       "       1.86627916e-001, 1.87073643e-001, 1.87854614e-001, 1.88841306e-001,\n",
       "       1.89923280e-001, 1.91013940e-001, 1.92048943e-001, 1.92982751e-001,\n",
       "       1.93784805e-001, 1.94436196e-001, 1.94926487e-001, 1.95251274e-001,\n",
       "       1.95410467e-001, 1.95407085e-001, 1.95246255e-001, 1.94933916e-001,\n",
       "       1.94476470e-001, 1.93881299e-001, 1.93158115e-001, 1.92321112e-001,\n",
       "       1.91391637e-001, 1.90401029e-001, 1.89393852e-001, 1.88430858e-001,\n",
       "       1.87590323e-001, 1.86967431e-001, 1.86668287e-001, 1.86794685e-001,\n",
       "       1.87417122e-001, 1.88537013e-001, 1.90048091e-001, 1.91717984e-001,\n",
       "       1.93217975e-001, 1.94212825e-001, 1.94478929e-001, 1.93990437e-001,\n",
       "       1.92920861e-001, 1.91561896e-001, 1.90212719e-001, 1.89097612e-001,\n",
       "       1.88336033e-001, 1.87954695e-001, 1.87917404e-001, 1.88156258e-001,\n",
       "       1.88594644e-001, 1.89160091e-001, 1.89790349e-001, 1.90435221e-001,\n",
       "       1.91055904e-001, 1.91623277e-001, 1.92116260e-001, 1.92520285e-001,\n",
       "       1.92825573e-001, 1.93026208e-001, 1.93119540e-001, 1.93105776e-001,\n",
       "       1.92987799e-001, 1.92771165e-001, 1.92464165e-001, 1.92078496e-001,\n",
       "       1.91630342e-001, 1.91140845e-001, 1.90636544e-001, 1.90149774e-001,\n",
       "       1.89718259e-001, 1.89383075e-001, 1.89183849e-001, 1.89149937e-001,\n",
       "       1.89287256e-001, 1.89563812e-001, 1.89898948e-001, 1.90168114e-001,\n",
       "       1.90234527e-001, 1.90004510e-001, 1.89480336e-001, 1.88774409e-001,\n",
       "       1.88069363e-001, 1.87547123e-001, 1.87326511e-001, 1.87438843e-001,\n",
       "       1.87844548e-001, 1.88465011e-001, 1.89211122e-001, 1.90001537e-001,\n",
       "       1.90770796e-001, 1.91470628e-001, 1.92067886e-001, 1.92541671e-001,\n",
       "       1.92880226e-001, 1.93078131e-001, 1.93134673e-001, 1.93052686e-001,\n",
       "       1.92837822e-001, 1.92498166e-001, 1.92044093e-001, 1.91488717e-001,\n",
       "       1.90848978e-001, 1.90146147e-001, 1.89406484e-001, 1.88662668e-001,\n",
       "       1.87955207e-001, 1.87333610e-001, 1.86856920e-001, 1.86592843e-001,\n",
       "       1.86614125e-001, 1.86991090e-001, 1.87777983e-001, 1.88991048e-001,\n",
       "       1.90579801e-001, 1.92397155e-001, 1.94182325e-001, 1.95577829e-001,\n",
       "       1.96199417e-001, 1.95760060e-001, 1.94207540e-001, 1.91794439e-001,\n",
       "       1.89023062e-001, 1.86474553e-001, 1.84615528e-001, 1.83682297e-001,\n",
       "       1.83677928e-001, 1.84446136e-001, 1.85762336e-001, 1.87402148e-001,\n",
       "       1.89177187e-001, 1.90944792e-001, 1.92604279e-001, 1.94088439e-001,\n",
       "       1.95354640e-001, 1.96377506e-001, 1.97143646e-001, 1.97648126e-001,\n",
       "       1.97891537e-001, 1.97878426e-001, 1.97616466e-001, 1.97116004e-001,\n",
       "       1.96390540e-001, 1.95457691e-001, 1.94340670e-001, 1.93070405e-001,\n",
       "       1.91688251e-001, 1.90249384e-001, 1.88827208e-001, 1.87517349e-001,\n",
       "       1.86440262e-001, 1.85740466e-001, 1.85578256e-001, 1.86109190e-001,\n",
       "       1.87446352e-001, 1.89604479e-001, 1.92436682e-001, 1.95590577e-001,\n",
       "       1.98525829e-001, 2.00622052e-001, 2.01366097e-001, 2.00546226e-001,\n",
       "       1.98347350e-001, 1.95285127e-001, 1.92014794e-001, 1.89121051e-001,\n",
       "       1.86984520e-001, 1.85753070e-001, 1.85389487e-001, 1.85747930e-001,\n",
       "       1.86641137e-001, 1.87884792e-001, 1.89319999e-001, 1.90819980e-001,\n",
       "       1.92288455e-001, 1.93654911e-001, 1.94869361e-001, 1.95897059e-001,\n",
       "       1.96714103e-001, 1.97304440e-001, 1.97657684e-001, 1.97767656e-001,\n",
       "       1.97631579e-001, 1.97249792e-001, 1.96626071e-001, 1.95768978e-001,\n",
       "       1.94693228e-001, 1.93421780e-001, 1.91989421e-001, 1.90446908e-001,\n",
       "       1.88865484e-001, 1.87342105e-001, 1.86003631e-001, 1.85006162e-001,\n",
       "       1.84524047e-001, 1.84720539e-001, 1.85695160e-001, 1.87416137e-001,\n",
       "       1.89665582e-001, 1.92040581e-001, 1.94042176e-001, 1.95234912e-001,\n",
       "       1.95402006e-001, 1.94608984e-001, 1.93145110e-001, 1.91394362e-001,\n",
       "       1.89708042e-001, 1.88329058e-001, 1.87376688e-001, 1.86870377e-001,\n",
       "       1.86765462e-001, 1.86985397e-001, 1.87444677e-001, 1.88062429e-001,\n",
       "       1.88768288e-001, 1.89504236e-001, 1.90224280e-001, 1.90892935e-001,\n",
       "       1.91483415e-001, 1.91975923e-001, 1.92356124e-001, 1.92613983e-001,\n",
       "       1.92743311e-001, 1.92741376e-001, 1.92608976e-001, 1.92350456e-001,\n",
       "       1.91974190e-001, 1.91493603e-001, 1.90928475e-001, 1.90306376e-001,\n",
       "       1.89664174e-001, 1.89049678e-001, 1.88521493e-001, 1.88146077e-001,\n",
       "       1.87990175e-001, 1.88106256e-001, 1.88510523e-001, 1.89157734e-001,\n",
       "       1.89924923e-001, 1.90622127e-001, 1.91040543e-001, 1.91030499e-001,\n",
       "       1.90572481e-001, 1.89792635e-001, 1.88910179e-001, 1.88151194e-001,\n",
       "       1.87677242e-001, 1.87557124e-001, 1.87778521e-001, 1.88278629e-001,\n",
       "       1.88973869e-001, 1.89780182e-001, 1.90624215e-001, 1.91447160e-001,\n",
       "       1.92204483e-001, 1.92863890e-001, 1.93402834e-001, 1.93806087e-001,\n",
       "       1.94064020e-001, 1.94171926e-001, 1.94128591e-001, 1.93935490e-001,\n",
       "       1.93596918e-001, 1.93120356e-001, 1.92517079e-001, 1.91803093e-001,\n",
       "       1.91000330e-001])"
      ]
     },
     "execution_count": 16,
     "metadata": {},
     "output_type": "execute_result"
    }
   ],
   "source": [
    "prop.e"
   ]
  },
  {
   "cell_type": "code",
   "execution_count": 7,
   "metadata": {},
   "outputs": [
    {
     "name": "stdout",
     "output_type": "stream",
     "text": [
      "CPU times: user 1min 55s, sys: 0 ns, total: 1min 55s\n",
      "Wall time: 1min 55s\n"
     ]
    }
   ],
   "source": [
    "%%time\n",
    "gr_prop, planets, sim = rock.propagate(epochs=testdates.jd, model=3, units=units, gr=True)"
   ]
  },
  {
   "cell_type": "code",
   "execution_count": 7,
   "metadata": {},
   "outputs": [],
   "source": [
    "#gr_obs = gr_prop.observe(obscode='W84')\n",
    "obs = prop.observe(obscode='W84')"
   ]
  },
  {
   "cell_type": "code",
   "execution_count": 8,
   "metadata": {},
   "outputs": [
    {
     "name": "stderr",
     "output_type": "stream",
     "text": [
      "/home/kevin/anaconda3/lib/python3.8/site-packages/erfa/core.py:154: ErfaWarning: ERFA function \"d2dtf\" yielded 1 of \"dubious year (Note 5)\"\n",
      "  warnings.warn('ERFA function \"{}\" yielded {}'.format(func_name, wmsg),\n"
     ]
    }
   ],
   "source": [
    "rock_id = 'Valjean'\n",
    "ephem_Horizons = Horizons(id=rock_id, location='W84',\n",
    "                          epochs={'start':testdates[0].iso, \n",
    "                                  'stop':testdates[-1].iso, \n",
    "                                  'step':'30d'}).ephemerides()"
   ]
  },
  {
   "cell_type": "code",
   "execution_count": 9,
   "metadata": {},
   "outputs": [
    {
     "name": "stderr",
     "output_type": "stream",
     "text": [
      "/home/kevin/anaconda3/lib/python3.8/site-packages/astropy/units/quantity.py:486: RuntimeWarning: divide by zero encountered in true_divide\n",
      "  result = super().__array_ufunc__(function, method, *arrays, **kwargs)\n",
      "/home/kevin/anaconda3/lib/python3.8/site-packages/astropy/units/quantity.py:486: RuntimeWarning: invalid value encountered in arcsin\n",
      "  result = super().__array_ufunc__(function, method, *arrays, **kwargs)\n"
     ]
    }
   ],
   "source": [
    "pos_Horizons = SkyCoord(ephem_Horizons['RA'], ephem_Horizons['DEC'], frame='icrs', unit=(u.deg, u.deg))\n",
    "pos_pred = SkyCoord(obs.ra.deg, obs.dec.deg, frame='icrs', unit=(u.deg, u.deg))\n",
    "sep = pos_pred.separation(pos_Horizons)\n",
    "#gr_pos_pred = SkyCoord(gr_obs.ra.deg, gr_obs.dec.deg, frame='icrs', unit=(u.deg, u.deg))\n",
    "#gr_sep = gr_pos_pred.separation(pos_Horizons)"
   ]
  },
  {
   "cell_type": "code",
   "execution_count": 12,
   "metadata": {},
   "outputs": [
    {
     "data": {
      "image/png": "[encoded data removed]",
      "text/plain": [
       "<Figure size 1296x432 with 1 Axes>"
      ]
     },
     "metadata": {
      "needs_background": "light"
     },
     "output_type": "display_data"
    }
   ],
   "source": [
    "fig, ax = plt.subplots(figsize=(18, 6))\n",
    "\n",
    "ax.scatter(prop.epoch.decimalyear, sep.arcsec, color='black', s=10, label='Newtonian Gravity')\n",
    "#ax.scatter(gr_prop.epoch.decimalyear, gr_sep.arcsec, color='red', s=10, label='General Relativity')\n",
    "\n",
    "ax.tick_params(labelsize=16)\n",
    "ax.set_xlabel('Year', fontsize=24, labelpad=20)\n",
    "ax.set_ylabel('Residuals (arcsec)', fontsize=24, labelpad=30)\n",
    "ax.set_ylim(bottom=0, top=1)\n",
    "ax.legend(fontsize=20)\n",
    "fig.tight_layout()\n",
    "#fig.savefig('/home/kevin/Desktop/Valjean.pdf')"
   ]
  },
  {
   "cell_type": "code",
   "execution_count": null,
   "metadata": {},
   "outputs": [],
   "source": []
  }
 ],
 "metadata": {
  "interpreter": {
   "hash": "4c1a9ccb59b65ba99407e5b01f53b77baff6ad89a3908a5988e9be141054a1ff"
  },
  "kernelspec": {
   "display_name": "Python 3",
   "language": "python",
   "name": "python3"
  },
  "language_info": {
   "codemirror_mode": {
    "name": "ipython",
    "version": 3
   },
   "file_extension": ".py",
   "mimetype": "text/x-python",
   "name": "python",
   "nbconvert_exporter": "python",
   "pygments_lexer": "ipython3",
   "version": "3.8.5"
  }
 },
 "nbformat": 4,
 "nbformat_minor": 2
}
