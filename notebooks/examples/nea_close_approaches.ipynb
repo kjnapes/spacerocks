{
 "cells": [
  {
   "cell_type": "code",
   "execution_count": 1,
   "metadata": {},
   "outputs": [],
   "source": [
    "from spacerocks import MPCHandler\n",
    "from spacerocks.time import Time\n",
    "from spacerocks.nbody import Simulation, Force, Integrator\n",
    "from spacerocks.spice import SpiceKernel\n",
    "from spacerocks import SpaceRock\n",
    "from spacerocks.transforms import calc_true_anomaly_from_mean_anomaly\n",
    "from spacerocks import RockCollection\n",
    "\n",
    "import numpy as np"
   ]
  },
  {
   "cell_type": "code",
   "execution_count": 2,
   "metadata": {},
   "outputs": [
    {
     "name": "stdout",
     "output_type": "stream",
     "text": [
      "\n",
      "Using default configuration:\n",
      "  Kernel paths: [\"/Users/thomasruch/.spacerocks/spice\"]\n",
      "  Download directory: \"/Users/thomasruch/.spacerocks/spice\"\n",
      "  Auto-download: true\n",
      "\n",
      "Processing kernel: latest_leapseconds.tls\n",
      "✓ Found existing kernel at: /Users/thomasruch/.spacerocks/spice/latest_leapseconds.tls\n",
      "Loading kernel: /Users/thomasruch/.spacerocks/spice/latest_leapseconds.tls\n",
      "\n",
      "Processing kernel: de440s.bsp\n",
      "✓ Found existing kernel at: /Users/thomasruch/.spacerocks/spice/de440s.bsp\n",
      "Loading kernel: /Users/thomasruch/.spacerocks/spice/de440s.bsp\n",
      "\n",
      "Processing kernel: earth_1962_240827_2124_combined.bpc\n",
      "✓ Found existing kernel at: /Users/thomasruch/.spacerocks/spice/earth_1962_240827_2124_combined.bpc\n",
      "Loading kernel: /Users/thomasruch/.spacerocks/spice/earth_1962_240827_2124_combined.bpc\n"
     ]
    }
   ],
   "source": [
    "kernel = SpiceKernel.defaults()"
   ]
  },
  {
   "cell_type": "code",
   "execution_count": 3,
   "metadata": {},
   "outputs": [
    {
     "name": "stdout",
     "output_type": "stream",
     "text": [
      "Using existing json file: /Users/thomasruch/.spacerocks/mpc/nea_extended.json.gz\n",
      "Loaded 37398 NEAs\n"
     ]
    }
   ],
   "source": [
    "# Create a rockcollection with the MPC data\n",
    "handler = MPCHandler()\n",
    "nea_collection = handler.fetch_data(\n",
    "    catalog = \"nea_extended\",\n",
    "    output_format = \"dataframe\"\n",
    ")\n",
    "\n",
    "print(f\"Loaded {len(nea_collection)} NEAs\")\n"
   ]
  },
  {
   "cell_type": "code",
   "execution_count": 4,
   "metadata": {},
   "outputs": [
    {
     "data": {
      "text/html": [
       "<div>\n",
       "<style scoped>\n",
       "    .dataframe tbody tr th:only-of-type {\n",
       "        vertical-align: middle;\n",
       "    }\n",
       "\n",
       "    .dataframe tbody tr th {\n",
       "        vertical-align: top;\n",
       "    }\n",
       "\n",
       "    .dataframe thead th {\n",
       "        text-align: right;\n",
       "    }\n",
       "</style>\n",
       "<table border=\"1\" class=\"dataframe\">\n",
       "  <thead>\n",
       "    <tr style=\"text-align: right;\">\n",
       "      <th></th>\n",
       "      <th>H</th>\n",
       "      <th>G</th>\n",
       "      <th>Epoch</th>\n",
       "      <th>M</th>\n",
       "      <th>Peri</th>\n",
       "      <th>Node</th>\n",
       "      <th>i</th>\n",
       "      <th>e</th>\n",
       "      <th>a</th>\n",
       "      <th>Principal_desig</th>\n",
       "      <th>orbit_type</th>\n",
       "    </tr>\n",
       "  </thead>\n",
       "  <tbody>\n",
       "    <tr>\n",
       "      <th>0</th>\n",
       "      <td>10.41</td>\n",
       "      <td>0.15</td>\n",
       "      <td>2460600.5</td>\n",
       "      <td>86.66754</td>\n",
       "      <td>178.91030</td>\n",
       "      <td>304.27434</td>\n",
       "      <td>10.82773</td>\n",
       "      <td>0.222691</td>\n",
       "      <td>1.458181</td>\n",
       "      <td>A898 PA</td>\n",
       "      <td>Amor</td>\n",
       "    </tr>\n",
       "    <tr>\n",
       "      <th>1</th>\n",
       "      <td>15.59</td>\n",
       "      <td>0.15</td>\n",
       "      <td>2460600.5</td>\n",
       "      <td>148.45068</td>\n",
       "      <td>156.21553</td>\n",
       "      <td>183.85715</td>\n",
       "      <td>11.57526</td>\n",
       "      <td>0.546779</td>\n",
       "      <td>2.636157</td>\n",
       "      <td>A911 TB</td>\n",
       "      <td>Amor</td>\n",
       "    </tr>\n",
       "    <tr>\n",
       "      <th>2</th>\n",
       "      <td>13.79</td>\n",
       "      <td>0.15</td>\n",
       "      <td>2460600.5</td>\n",
       "      <td>340.19843</td>\n",
       "      <td>350.47424</td>\n",
       "      <td>110.42302</td>\n",
       "      <td>9.39880</td>\n",
       "      <td>0.571093</td>\n",
       "      <td>2.472525</td>\n",
       "      <td>A918 AA</td>\n",
       "      <td>Amor</td>\n",
       "    </tr>\n",
       "    <tr>\n",
       "      <th>3</th>\n",
       "      <td>9.18</td>\n",
       "      <td>0.15</td>\n",
       "      <td>2460600.5</td>\n",
       "      <td>6.98496</td>\n",
       "      <td>132.49616</td>\n",
       "      <td>215.49497</td>\n",
       "      <td>26.68673</td>\n",
       "      <td>0.532826</td>\n",
       "      <td>2.665299</td>\n",
       "      <td>A924 UB</td>\n",
       "      <td>Amor</td>\n",
       "    </tr>\n",
       "    <tr>\n",
       "      <th>4</th>\n",
       "      <td>17.37</td>\n",
       "      <td>0.15</td>\n",
       "      <td>2460600.5</td>\n",
       "      <td>271.70081</td>\n",
       "      <td>26.71763</td>\n",
       "      <td>171.26079</td>\n",
       "      <td>11.86849</td>\n",
       "      <td>0.434718</td>\n",
       "      <td>1.920154</td>\n",
       "      <td>1932 EA1</td>\n",
       "      <td>Amor</td>\n",
       "    </tr>\n",
       "    <tr>\n",
       "      <th>...</th>\n",
       "      <td>...</td>\n",
       "      <td>...</td>\n",
       "      <td>...</td>\n",
       "      <td>...</td>\n",
       "      <td>...</td>\n",
       "      <td>...</td>\n",
       "      <td>...</td>\n",
       "      <td>...</td>\n",
       "      <td>...</td>\n",
       "      <td>...</td>\n",
       "      <td>...</td>\n",
       "    </tr>\n",
       "    <tr>\n",
       "      <th>37393</th>\n",
       "      <td>19.88</td>\n",
       "      <td>0.15</td>\n",
       "      <td>2460600.5</td>\n",
       "      <td>16.79916</td>\n",
       "      <td>142.73350</td>\n",
       "      <td>155.01613</td>\n",
       "      <td>6.40102</td>\n",
       "      <td>0.397912</td>\n",
       "      <td>2.136127</td>\n",
       "      <td>2021 NF1</td>\n",
       "      <td>Amor</td>\n",
       "    </tr>\n",
       "    <tr>\n",
       "      <th>37394</th>\n",
       "      <td>18.43</td>\n",
       "      <td>0.15</td>\n",
       "      <td>2460600.5</td>\n",
       "      <td>261.16611</td>\n",
       "      <td>336.66141</td>\n",
       "      <td>30.64476</td>\n",
       "      <td>10.57609</td>\n",
       "      <td>0.597588</td>\n",
       "      <td>2.632801</td>\n",
       "      <td>2021 NS5</td>\n",
       "      <td>Amor</td>\n",
       "    </tr>\n",
       "    <tr>\n",
       "      <th>37395</th>\n",
       "      <td>18.93</td>\n",
       "      <td>0.15</td>\n",
       "      <td>2460600.5</td>\n",
       "      <td>220.33161</td>\n",
       "      <td>344.71167</td>\n",
       "      <td>265.00727</td>\n",
       "      <td>25.96643</td>\n",
       "      <td>0.511470</td>\n",
       "      <td>1.686187</td>\n",
       "      <td>2023 PB</td>\n",
       "      <td>Apollo</td>\n",
       "    </tr>\n",
       "    <tr>\n",
       "      <th>37396</th>\n",
       "      <td>18.96</td>\n",
       "      <td>0.15</td>\n",
       "      <td>2460600.5</td>\n",
       "      <td>118.61192</td>\n",
       "      <td>233.96853</td>\n",
       "      <td>153.80370</td>\n",
       "      <td>38.47990</td>\n",
       "      <td>0.368584</td>\n",
       "      <td>1.961853</td>\n",
       "      <td>2023 QN</td>\n",
       "      <td>Amor</td>\n",
       "    </tr>\n",
       "    <tr>\n",
       "      <th>37397</th>\n",
       "      <td>19.50</td>\n",
       "      <td>0.15</td>\n",
       "      <td>2460600.5</td>\n",
       "      <td>33.46248</td>\n",
       "      <td>0.09795</td>\n",
       "      <td>267.15610</td>\n",
       "      <td>4.36852</td>\n",
       "      <td>0.550369</td>\n",
       "      <td>2.354148</td>\n",
       "      <td>2024 CR9</td>\n",
       "      <td>Amor</td>\n",
       "    </tr>\n",
       "  </tbody>\n",
       "</table>\n",
       "<p>37398 rows × 11 columns</p>\n",
       "</div>"
      ],
      "text/plain": [
       "           H     G      Epoch          M       Peri       Node         i  \\\n",
       "0      10.41  0.15  2460600.5   86.66754  178.91030  304.27434  10.82773   \n",
       "1      15.59  0.15  2460600.5  148.45068  156.21553  183.85715  11.57526   \n",
       "2      13.79  0.15  2460600.5  340.19843  350.47424  110.42302   9.39880   \n",
       "3       9.18  0.15  2460600.5    6.98496  132.49616  215.49497  26.68673   \n",
       "4      17.37  0.15  2460600.5  271.70081   26.71763  171.26079  11.86849   \n",
       "...      ...   ...        ...        ...        ...        ...       ...   \n",
       "37393  19.88  0.15  2460600.5   16.79916  142.73350  155.01613   6.40102   \n",
       "37394  18.43  0.15  2460600.5  261.16611  336.66141   30.64476  10.57609   \n",
       "37395  18.93  0.15  2460600.5  220.33161  344.71167  265.00727  25.96643   \n",
       "37396  18.96  0.15  2460600.5  118.61192  233.96853  153.80370  38.47990   \n",
       "37397  19.50  0.15  2460600.5   33.46248    0.09795  267.15610   4.36852   \n",
       "\n",
       "              e         a Principal_desig orbit_type  \n",
       "0      0.222691  1.458181         A898 PA       Amor  \n",
       "1      0.546779  2.636157         A911 TB       Amor  \n",
       "2      0.571093  2.472525         A918 AA       Amor  \n",
       "3      0.532826  2.665299         A924 UB       Amor  \n",
       "4      0.434718  1.920154        1932 EA1       Amor  \n",
       "...         ...       ...             ...        ...  \n",
       "37393  0.397912  2.136127        2021 NF1       Amor  \n",
       "37394  0.597588  2.632801        2021 NS5       Amor  \n",
       "37395  0.511470  1.686187         2023 PB     Apollo  \n",
       "37396  0.368584  1.961853         2023 QN       Amor  \n",
       "37397  0.550369  2.354148        2024 CR9       Amor  \n",
       "\n",
       "[37398 rows x 11 columns]"
      ]
     },
     "execution_count": 4,
     "metadata": {},
     "output_type": "execute_result"
    }
   ],
   "source": [
    "nea_collection"
   ]
  },
  {
   "cell_type": "code",
   "execution_count": 5,
   "metadata": {},
   "outputs": [],
   "source": [
    "collection = RockCollection()\n",
    "# Add all elements in nea_collection to rock_collection one row at a time\n",
    "for i, row in nea_collection.iterrows():\n",
    "    # Create a rock object\n",
    "    rock = SpaceRock.from_kepler(name = row[\"Principal_desig\"],\n",
    "                                 q = row[\"a\"]* (1 - row[\"e\"]),\n",
    "                                 e = row[\"e\"],\n",
    "                                 inc = np.radians(row[\"i\"]),\n",
    "                                 arg = np.radians(row[\"Peri\"]),\n",
    "                                 node = np.radians(row[\"Node\"]),\n",
    "                                 true_anomaly = np.radians(calc_true_anomaly_from_mean_anomaly(row[\"M\"], row[\"e\"])),\n",
    "                                 epoch = Time(row[\"Epoch\"], \"utc\", \"jd\"),\n",
    "                                 reference_plane = \"ECLIPJ2000\",\n",
    "                                 origin = \"Sun\")\n",
    "    # Add the rock object to the rock_collection\n",
    "    collection.add(rock)"
   ]
  },
  {
   "cell_type": "code",
   "execution_count": 6,
   "metadata": {},
   "outputs": [
    {
     "data": {
      "text/plain": [
       "RockCollection: 37398 rocks"
      ]
     },
     "execution_count": 6,
     "metadata": {},
     "output_type": "execute_result"
    }
   ],
   "source": [
    "collection"
   ]
  },
  {
   "cell_type": "code",
   "execution_count": 7,
   "metadata": {},
   "outputs": [],
   "source": [
    "# Create simulation with planets\n",
    "epoch = Time.now()\n",
    "sim = Simulation.planets(epoch=epoch, reference_plane=\"ECLIPJ2000\", origin=\"Sun\")\n",
    "\n",
    "# Add forces for better accuracy\n",
    "sim.add_force(Force.solar_gr())  # General relativity\n",
    "sim.add_force(Force.solar_j2())  # Solar oblateness\n",
    "\n",
    "# Set up integrator\n",
    "sim.set_integrator(Integrator.ias15(timestep = 10)) "
   ]
  },
  {
   "cell_type": "code",
   "execution_count": 8,
   "metadata": {},
   "outputs": [],
   "source": [
    "collection.analytic_propagate(epoch)"
   ]
  },
  {
   "cell_type": "code",
   "execution_count": 9,
   "metadata": {},
   "outputs": [
    {
     "name": "stdout",
     "output_type": "stream",
     "text": [
      "Added NEAs to simulation\n"
     ]
    }
   ],
   "source": [
    "for rock in collection:\n",
    "    sim.add(rock)\n",
    "    \n",
    "\n",
    "print(\"Added NEAs to simulation\")"
   ]
  },
  {
   "cell_type": "code",
   "execution_count": 10,
   "metadata": {},
   "outputs": [],
   "source": [
    "# Get Earth's position at each step and calculate distances\n",
    "earth = sim.get_particle(\"earth barycenter\")\n",
    "initial_positions = np.array([rock.position for rock in collection])"
   ]
  },
  {
   "cell_type": "code",
   "execution_count": null,
   "metadata": {},
   "outputs": [],
   "source": [
    "# Check positions every 10 days\n",
    "check_points = np.arange(0, 3650.25, 10)\n",
    "close_approaches = []\n",
    "\n",
    "sim.set_epoch(epoch)  # Reset to start\n",
    "\n",
    "for days in check_points:\n",
    "    current_epoch = epoch + days\n",
    "    sim.integrate(current_epoch)\n",
    "    \n",
    "    # Get positions\n",
    "    earth_pos = sim.get_particle(\"earth barycenter\").position\n",
    "    asteroid_positions = np.array([rock.position for rock in collection])\n",
    "    \n",
    "    # Calculate distances\n",
    "    distances = np.linalg.norm(asteroid_positions - earth_pos, axis=1)\n",
    "    \n",
    "    # Record close approaches (less than 0.1 AU)\n",
    "    for i, dist in enumerate(distances):\n",
    "        if dist < 0.05:  # 0.1 AU threshold\n",
    "            close_approaches.append({\n",
    "                'asteroid': collection[i].name,\n",
    "                'date': current_epoch.calendar(),\n",
    "                'distance': dist\n",
    "            })\n",
    "\n",
    "# Print results\n",
    "print(\"\\nDetected Close Approaches (<0.1 AU):\")\n",
    "for approach in close_approaches:\n",
    "    print(f\"{approach['asteroid']}: {approach['distance']:.3f} AU on {approach['date']}\")\n",
    "    \n",
    "    \n",
    "    "
   ]
  },
  {
   "cell_type": "code",
   "execution_count": 83,
   "metadata": {},
   "outputs": [
    {
     "data": {
      "text/plain": [
       "15474"
      ]
     },
     "execution_count": 83,
     "metadata": {},
     "output_type": "execute_result"
    }
   ],
   "source": [
    "len(close_approaches)"
   ]
  },
  {
   "cell_type": "markdown",
   "metadata": {},
   "source": []
  }
 ],
 "metadata": {
  "kernelspec": {
   "display_name": ".venv",
   "language": "python",
   "name": "python3"
  },
  "language_info": {
   "codemirror_mode": {
    "name": "ipython",
    "version": 3
   },
   "file_extension": ".py",
   "mimetype": "text/x-python",
   "name": "python",
   "nbconvert_exporter": "python",
   "pygments_lexer": "ipython3",
   "version": "3.12.8"
  }
 },
 "nbformat": 4,
 "nbformat_minor": 2
}
