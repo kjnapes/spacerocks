{
 "cells": [
  {
   "cell_type": "code",
   "execution_count": 1,
   "metadata": {},
   "outputs": [],
   "source": [
    "from spacerocks import SpaceRock\n",
    "from spacerocks.time import Time\n",
    "from spacerocks.observing import Observatory\n",
    "from spacerocks.spice import SpiceKernel\n",
    "from spacerocks.nbody import Simulation, Force\n",
    "\n",
    "from astroquery.jplhorizons import Horizons\n",
    "\n",
    "from astropy.time import Time as AstropyTime\n",
    "from astropy import units as u\n",
    "from astropy.coordinates import SkyCoord\n",
    "\n",
    "import numpy as np\n",
    "\n",
    "\n",
    "import matplotlib.pyplot as plt\n",
    "%matplotlib inline\n",
    "%config InlineBackend.figure_format = 'retina'\n",
    "\n",
    "kernel = SpiceKernel()\n",
    "kernel.load(\"/Users/kjnapier/data/spice/latest_leapseconds.tls\")\n",
    "# kernel.load(\"/Users/kjnapier/data/spice/de440s.bsp\")\n",
    "kernel.load(\"/Users/kjnapier/data/spice/sb441-n16.bsp\")\n",
    "#kernel.load(\"/Users/kjnapier/data/spice/sb441-n373s.bsp\")\n",
    "kernel.load(\"/Users/kjnapier/data/spice/de441_part-1.bsp\")\n",
    "kernel.load(\"/Users/kjnapier/data/spice/de441_part-2.bsp\")\n",
    "kernel.load(\"/Users/kjnapier/data/spice/earth_1962_240827_2124_combined.bpc\")"
   ]
  },
  {
   "cell_type": "code",
   "execution_count": null,
   "metadata": {},
   "outputs": [],
   "source": [
    "kernel"
   ]
  },
  {
   "cell_type": "code",
   "execution_count": 3,
   "metadata": {},
   "outputs": [],
   "source": [
    "obscode = 'F51'\n",
    "name = 'apophis'\n",
    "w84 = Observatory.from_obscode(obscode)"
   ]
  },
  {
   "cell_type": "code",
   "execution_count": 4,
   "metadata": {},
   "outputs": [],
   "source": [
    "epoch = Time.now()\n",
    "t0 = epoch.epoch\n",
    "epochs = np.arange(epoch.epoch - 1.0 * 365.25, epoch.epoch + 10.0 * 365.25, 1)\n",
    "testdates = AstropyTime(epochs, format='jd', scale='utc')"
   ]
  },
  {
   "cell_type": "code",
   "execution_count": null,
   "metadata": {},
   "outputs": [],
   "source": [
    "epoch.tt().jd()"
   ]
  },
  {
   "cell_type": "code",
   "execution_count": 6,
   "metadata": {},
   "outputs": [],
   "source": [
    "rock = SpaceRock.from_horizons(name=name, epoch=epoch, reference_plane='J2000', origin='ssb')\n",
    "o = w84.at(rock.epoch, reference_plane=\"J2000\", origin=\"ssb\")"
   ]
  },
  {
   "cell_type": "code",
   "execution_count": null,
   "metadata": {},
   "outputs": [],
   "source": [
    "epoch.calendar()    "
   ]
  },
  {
   "cell_type": "code",
   "execution_count": 8,
   "metadata": {},
   "outputs": [],
   "source": [
    "# light time could be slightly different"
   ]
  },
  {
   "cell_type": "code",
   "execution_count": 9,
   "metadata": {},
   "outputs": [],
   "source": [
    "obs = rock.observe(o)"
   ]
  },
  {
   "cell_type": "code",
   "execution_count": 10,
   "metadata": {},
   "outputs": [],
   "source": [
    "sim = Simulation.horizons(rock.epoch, reference_plane=\"J2000\", origin=\"ssb\")\n",
    "sim.add_force(Force.solar_gr())\n",
    "sim.add_force(Force.solar_j2())\n",
    "sim.add(rock)"
   ]
  },
  {
   "cell_type": "code",
   "execution_count": null,
   "metadata": {},
   "outputs": [],
   "source": [
    "len(epochs)"
   ]
  },
  {
   "cell_type": "code",
   "execution_count": 13,
   "metadata": {},
   "outputs": [
    {
     "ename": "",
     "evalue": "",
     "output_type": "error",
     "traceback": [
      "\u001b[1;31mCannot execute code, session has been disposed. Please try restarting the Kernel."
     ]
    },
    {
     "ename": "",
     "evalue": "",
     "output_type": "error",
     "traceback": [
      "\u001b[1;31mCannot execute code, session has been disposed. Please try restarting the Kernel. \n",
      "\u001b[1;31mView Jupyter <a href='command:jupyter.viewOutput'>log</a> for further details."
     ]
    }
   ],
   "source": [
    "ds = []\n",
    "for idx in range(10, 1000):\n",
    "    ep = Time(epochs[idx], 'utc', 'jd')\n",
    "    sim.integrate(ep)\n",
    "    ds.append(sim.epoch.utc().jd() - ep.utc().jd())"
   ]
  },
  {
   "cell_type": "code",
   "execution_count": null,
   "metadata": {},
   "outputs": [],
   "source": [
    "ras = []\n",
    "decs = []\n",
    "d_positions = []\n",
    "for epoch in epochs:\n",
    "    \n",
    "    t = Time(epoch, 'utc', 'jd')\n",
    "    sim.integrate(t)\n",
    "    rock = sim.get_particle(name)\n",
    "    observer = w84.at(t, reference_plane=\"J2000\", origin=\"ssb\")\n",
    "    obs = rock.observe(observer)\n",
    "    ras.append(np.degrees(obs.ra))\n",
    "    decs.append(np.degrees(obs.dec))\n",
    "    earth = sim.get_particle(\"earth\")\n",
    "    spice_earth = SpaceRock.from_spice(\"earth\", epoch=earth.epoch, reference_plane='J2000', origin='ssb')\n",
    "    \n",
    "    d_pos = np.array(earth.position) - np.array(spice_earth.position)\n",
    "    d_positions.append(d_pos)\n",
    "\n",
    "ras = np.array(ras)\n",
    "decs = np.array(decs)"
   ]
  },
  {
   "cell_type": "code",
   "execution_count": null,
   "metadata": {},
   "outputs": [],
   "source": [
    "sim.timestep"
   ]
  },
  {
   "cell_type": "code",
   "execution_count": null,
   "metadata": {},
   "outputs": [],
   "source": [
    "sim.epoch"
   ]
  },
  {
   "cell_type": "code",
   "execution_count": null,
   "metadata": {},
   "outputs": [],
   "source": [
    "rock.epoch, observer.epoch"
   ]
  },
  {
   "cell_type": "code",
   "execution_count": null,
   "metadata": {},
   "outputs": [],
   "source": [
    "ras"
   ]
  },
  {
   "cell_type": "code",
   "execution_count": null,
   "metadata": {},
   "outputs": [],
   "source": [
    "earth"
   ]
  },
  {
   "cell_type": "code",
   "execution_count": 36,
   "metadata": {},
   "outputs": [],
   "source": [
    "ephem_Horizons = Horizons(id=name, \n",
    "                          location=obscode,\n",
    "                          epochs={'start': testdates[0].iso, \n",
    "                                  'stop': testdates[-1].iso, \n",
    "                                  'step': '1d'}).ephemerides(extra_precision=True)"
   ]
  },
  {
   "cell_type": "code",
   "execution_count": null,
   "metadata": {},
   "outputs": [],
   "source": [
    "fig, ax = plt.subplots(1, 1, figsize=(12, 6))\n",
    "ra_residuals = (ephem_Horizons['RA'] - ras) * 3600 #* 1e6\n",
    "dec_residuals = (ephem_Horizons['DEC'] - decs) * 3600 #* 1e6\n",
    "residuals = np.sqrt(ra_residuals**2 + dec_residuals**2)\n",
    "\n",
    "t = (epochs - t0) / 365.25\n",
    "ax.plot(t, residuals, label='Residuals', color='black')\n",
    "\n",
    "\n",
    "ax.set_xlabel('Time (years)', fontsize=14, labelpad=10)\n",
    "ax.set_ylabel('Residuals with JPL (arcsec)', fontsize=14, labelpad=20)\n",
    "ax.tick_params(axis='both', which='major', labelsize=12)\n",
    "#ax.set_ylim(bottom=1e-6)\n",
    "ax.set_yscale('log')\n",
    "ax.set_xlim(left=t.min(), right=t.max())\n",
    "ax.grid(ls=':', alpha=0.5)"
   ]
  },
  {
   "cell_type": "code",
   "execution_count": null,
   "metadata": {},
   "outputs": [],
   "source": [
    "_ = plt.hist(ra_residuals, bins=50, histtype='step', color='blue', label='RA')\n",
    "_ = plt.hist(dec_residuals, bins=50, histtype='step', color='red', label='Dec')"
   ]
  },
  {
   "cell_type": "code",
   "execution_count": null,
   "metadata": {},
   "outputs": [],
   "source": [
    "plt.scatter(t, ra_residuals, s=1)\n",
    "plt.scatter(t, dec_residuals, s=1)\n",
    "plt.yscale('log')"
   ]
  },
  {
   "cell_type": "code",
   "execution_count": null,
   "metadata": {},
   "outputs": [],
   "source": []
  }
 ],
 "metadata": {
  "kernelspec": {
   "display_name": "Python 3",
   "language": "python",
   "name": "python3"
  },
  "language_info": {
   "codemirror_mode": {
    "name": "ipython",
    "version": 3
   },
   "file_extension": ".py",
   "mimetype": "text/x-python",
   "name": "python",
   "nbconvert_exporter": "python",
   "pygments_lexer": "ipython3",
   "version": "3.12.1"
  }
 },
 "nbformat": 4,
 "nbformat_minor": 2
}
