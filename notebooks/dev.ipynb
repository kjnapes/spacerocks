{
 "cells": [
  {
   "cell_type": "code",
   "execution_count": 1,
   "metadata": {},
   "outputs": [],
   "source": [
    "from spacerocks import transforms"
   ]
  },
  {
   "cell_type": "code",
   "execution_count": 2,
   "metadata": {},
   "outputs": [],
   "source": [
    "e = 0.5\n",
    "M = 0.5\n",
    "\n",
    "E = transforms.calc_E_from_M(e, M)\n",
    "assert M == transforms.calc_M_from_E(e, E)"
   ]
  },
  {
   "cell_type": "code",
   "execution_count": 1,
   "metadata": {},
   "outputs": [],
   "source": [
    "from spacerocks.spacerock import SpaceRock#, RockCollection"
   ]
  },
  {
   "cell_type": "code",
   "execution_count": 2,
   "metadata": {},
   "outputs": [],
   "source": [
    "rock = SpaceRock(\"Jerry\")"
   ]
  },
  {
   "cell_type": "code",
   "execution_count": 3,
   "metadata": {},
   "outputs": [
    {
     "name": "stdout",
     "output_type": "stream",
     "text": [
      "Help on SpaceRock in module builtins object:\n",
      "\n",
      "class SpaceRock(object)\n",
      " |  Methods defined here:\n",
      " |\n",
      " |  __repr__(self, /)\n",
      " |      Return repr(self).\n",
      " |\n",
      " |  name(...)\n",
      " |\n",
      " |  ----------------------------------------------------------------------\n",
      " |  Class methods defined here:\n",
      " |\n",
      " |  from_state(...) from builtins.type\n",
      " |\n",
      " |  ----------------------------------------------------------------------\n",
      " |  Static methods defined here:\n",
      " |\n",
      " |  __new__(*args, **kwargs) from builtins.type\n",
      " |      Create and return a new object.  See help(type) for accurate signature.\n",
      " |\n",
      " |  ----------------------------------------------------------------------\n",
      " |  Data descriptors defined here:\n",
      " |\n",
      " |  position\n",
      " |\n",
      " |  velocity\n",
      " |\n",
      " |  vx\n",
      " |\n",
      " |  vy\n",
      " |\n",
      " |  vz\n",
      " |\n",
      " |  x\n",
      " |\n",
      " |  y\n",
      " |\n",
      " |  z\n",
      "\n"
     ]
    }
   ],
   "source": [
    "help(rock)"
   ]
  },
  {
   "cell_type": "code",
   "execution_count": 6,
   "metadata": {},
   "outputs": [
    {
     "data": {
      "text/plain": [
       "0.0"
      ]
     },
     "execution_count": 6,
     "metadata": {},
     "output_type": "execute_result"
    }
   ],
   "source": [
    "rock.x"
   ]
  },
  {
   "cell_type": "code",
   "execution_count": 5,
   "metadata": {},
   "outputs": [
    {
     "ename": "AttributeError",
     "evalue": "type object 'builtins.SpaceRock' has no attribute 'from_horizons'",
     "output_type": "error",
     "traceback": [
      "\u001b[0;31m---------------------------------------------------------------------------\u001b[0m",
      "\u001b[0;31mAttributeError\u001b[0m                            Traceback (most recent call last)",
      "Cell \u001b[0;32mIn[5], line 1\u001b[0m\n\u001b[0;32m----> 1\u001b[0m deedee \u001b[38;5;241m=\u001b[39m \u001b[43mSpaceRock\u001b[49m\u001b[38;5;241;43m.\u001b[39;49m\u001b[43mfrom_horizons\u001b[49m(\u001b[38;5;124m\"\u001b[39m\u001b[38;5;124m2014 UZ224\u001b[39m\u001b[38;5;124m\"\u001b[39m)\n\u001b[1;32m      2\u001b[0m arrokoth \u001b[38;5;241m=\u001b[39m SpaceRock\u001b[38;5;241m.\u001b[39mfrom_horizons(\u001b[38;5;124m\"\u001b[39m\u001b[38;5;124m2014 MU69\u001b[39m\u001b[38;5;124m\"\u001b[39m)\n\u001b[1;32m      3\u001b[0m arrokoth_copy \u001b[38;5;241m=\u001b[39m arrokoth\u001b[38;5;241m.\u001b[39mcopy()\n",
      "\u001b[0;31mAttributeError\u001b[0m: type object 'builtins.SpaceRock' has no attribute 'from_horizons'"
     ]
    }
   ],
   "source": [
    "deedee = SpaceRock.from_horizons(\"2014 UZ224\")\n",
    "arrokoth = SpaceRock.from_horizons(\"2014 MU69\")\n",
    "arrokoth_copy = arrokoth.copy()\n",
    "print(deedee)\n",
    "print(arrokoth)"
   ]
  },
  {
   "cell_type": "code",
   "execution_count": null,
   "metadata": {},
   "outputs": [],
   "source": []
  },
  {
   "cell_type": "code",
   "execution_count": 14,
   "metadata": {},
   "outputs": [],
   "source": [
    "arrokoth_copy.position = [p + 1 for p in arrokoth_copy.position]"
   ]
  },
  {
   "cell_type": "code",
   "execution_count": 17,
   "metadata": {},
   "outputs": [],
   "source": [
    "rocks = RockCollection()\n",
    "rocks.add(deedee)  \n",
    "rocks.add(arrokoth)\n",
    "rocks.add(arrokoth_copy)"
   ]
  },
  {
   "cell_type": "code",
   "execution_count": 18,
   "metadata": {},
   "outputs": [
    {
     "data": {
      "text/plain": [
       "┌────────────┬────────┬─────────┬─────────┐\n",
       "│ Name       │ x (au) │ y (au)  │ z (au)  │\n",
       "├────────────┼────────┼─────────┼─────────┤\n",
       "│ 2014 UZ224 │ 56.626 │ 55.342  │ -39.902 │\n",
       "├────────────┼────────┼─────────┼─────────┤\n",
       "│ 2014 MU69  │ 15.830 │ -40.028 │ 1.358   │\n",
       "├────────────┼────────┼─────────┼─────────┤\n",
       "│ 2014 MU69  │ 16.830 │ -39.028 │ 2.358   │\n",
       "└────────────┴────────┴─────────┴─────────┘"
      ]
     },
     "execution_count": 18,
     "metadata": {},
     "output_type": "execute_result"
    }
   ],
   "source": [
    "rocks"
   ]
  },
  {
   "cell_type": "code",
   "execution_count": 8,
   "metadata": {},
   "outputs": [],
   "source": [
    "from spacerocks.time import Time"
   ]
  },
  {
   "cell_type": "code",
   "execution_count": 12,
   "metadata": {},
   "outputs": [
    {
     "name": "stdout",
     "output_type": "stream",
     "text": [
      "Time: 2460347.5025694445 utc jd\n",
      "Time: 2460347.503370196 tdb jd\n"
     ]
    }
   ],
   "source": [
    "t = Time.now()\n",
    "print(t)\n",
    "t.change_timescale('tdb')\n",
    "print(t)"
   ]
  },
  {
   "cell_type": "code",
   "execution_count": 13,
   "metadata": {},
   "outputs": [],
   "source": [
    "from spacerocks import transforms"
   ]
  },
  {
   "cell_type": "code",
   "execution_count": 14,
   "metadata": {},
   "outputs": [],
   "source": [
    "e = 0.5\n",
    "M = 0.5\n",
    "\n",
    "E = transforms.calc_E_from_M(e, M)\n",
    "assert M == transforms.calc_M_from_E(e, E)\n",
    "\n",
    "rock = SpaceRock('Jerry')\n",
    "rock = SpaceRock.from_state(\"Jerry\", (0, 0, 0), (0, 0, 0))"
   ]
  },
  {
   "cell_type": "code",
   "execution_count": null,
   "metadata": {},
   "outputs": [],
   "source": []
  }
 ],
 "metadata": {
  "kernelspec": {
   "display_name": "kev",
   "language": "python",
   "name": "python3"
  },
  "language_info": {
   "codemirror_mode": {
    "name": "ipython",
    "version": 3
   },
   "file_extension": ".py",
   "mimetype": "text/x-python",
   "name": "python",
   "nbconvert_exporter": "python",
   "pygments_lexer": "ipython3",
   "version": "3.12.1"
  }
 },
 "nbformat": 4,
 "nbformat_minor": 2
}
