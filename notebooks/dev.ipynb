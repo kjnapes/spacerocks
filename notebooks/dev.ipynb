{
 "cells": [
  {
   "cell_type": "code",
   "execution_count": 1,
   "metadata": {},
   "outputs": [],
   "source": [
    "from spacerocks import SpaceRock\n",
    "from spacerocks.spice import SpiceKernel\n",
    "from spacerocks.time import Time\n",
    "\n",
    "import matplotlib.pyplot as plt\n",
    "%matplotlib inline\n",
    "%config InlineBackend.figure_format = 'retina'\n",
    "\n",
    "kernel = SpiceKernel()\n",
    "kernel.load(\"/Users/kjnapier/data/spice/latest_leapseconds.tls\")\n",
    "kernel.load(\"/Users/kjnapier/data/spice/de440s.bsp\")"
   ]
  },
  {
   "cell_type": "code",
   "execution_count": 2,
   "metadata": {},
   "outputs": [],
   "source": [
    "import spacerocks"
   ]
  },
  {
   "cell_type": "code",
   "execution_count": 3,
   "metadata": {},
   "outputs": [],
   "source": [
    "epoch = Time.now()"
   ]
  },
  {
   "cell_type": "code",
   "execution_count": 4,
   "metadata": {},
   "outputs": [],
   "source": [
    "rock = SpaceRock.from_horizons(name=\"2015 BP519\", epoch=epoch, origin=\"SSB\", reference_plane=\"ECLIPJ2000\")"
   ]
  },
  {
   "cell_type": "code",
   "execution_count": 5,
   "metadata": {},
   "outputs": [],
   "source": [
    "import numpy as np"
   ]
  },
  {
   "cell_type": "code",
   "execution_count": 6,
   "metadata": {},
   "outputs": [],
   "source": [
    "q = rock.q()\n",
    "e = rock.e()\n",
    "inc = rock.inc()\n",
    "node = rock.node()\n",
    "arg = rock.arg()\n",
    "true_anomaly = rock.true_anomaly()"
   ]
  },
  {
   "cell_type": "code",
   "execution_count": 7,
   "metadata": {},
   "outputs": [],
   "source": [
    "new_rock = SpaceRock.from_kepler(name=\"rock\", \n",
    "                                 q=q,\n",
    "                                 e=e,\n",
    "                                 inc=inc,\n",
    "                                 node=node,\n",
    "                                 arg=arg,\n",
    "                                 true_anomaly=true_anomaly,\n",
    "                                 epoch=epoch,\n",
    "                                 origin=\"SSB\",\n",
    "                                 reference_plane=\"ECLIPJ2000\")"
   ]
  },
  {
   "cell_type": "code",
   "execution_count": 8,
   "metadata": {},
   "outputs": [
    {
     "name": "stdout",
     "output_type": "stream",
     "text": [
      "4.2036275140586214e-14\n",
      "2.770555559967989e-18\n"
     ]
    }
   ],
   "source": [
    "dx = new_rock.x - rock.x\n",
    "dy = new_rock.y - rock.y\n",
    "dz = new_rock.z - rock.z\n",
    "\n",
    "print(np.sqrt(dx**2 + dy**2 + dz**2))\n",
    "\n",
    "dvx = new_rock.vx - rock.vx\n",
    "dvy = new_rock.vy - rock.vy\n",
    "dvz = new_rock.vz - rock.vz\n",
    "\n",
    "print(np.sqrt(dvx**2 + dvy**2 + dvz**2))"
   ]
  },
  {
   "cell_type": "code",
   "execution_count": null,
   "metadata": {},
   "outputs": [],
   "source": []
  }
 ],
 "metadata": {
  "kernelspec": {
   "display_name": "Python 3",
   "language": "python",
   "name": "python3"
  },
  "language_info": {
   "codemirror_mode": {
    "name": "ipython",
    "version": 3
   },
   "file_extension": ".py",
   "mimetype": "text/x-python",
   "name": "python",
   "nbconvert_exporter": "python",
   "pygments_lexer": "ipython3",
   "version": "3.12.1"
  }
 },
 "nbformat": 4,
 "nbformat_minor": 2
}
