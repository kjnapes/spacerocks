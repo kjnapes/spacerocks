{
 "cells": [
  {
   "cell_type": "code",
   "execution_count": 1,
   "metadata": {},
   "outputs": [],
   "source": [
    "from spacerocks.spacerock import SpaceRock, RockCollection\n",
    "from spacerocks.observing import Observatory, DetectionCatalog\n",
    "from spacerocks.spice import SpiceKernel\n",
    "from spacerocks.time import Time\n",
    "\n",
    "import matplotlib.pyplot as plt\n",
    "%matplotlib inline\n",
    "%config InlineBackend.figure_format = 'retina'\n",
    "\n",
    "import pandas as pd\n",
    "\n",
    "import numpy as np\n",
    "\n",
    "kernel = SpiceKernel()\n",
    "kernel.load(\"/Users/kjnapier/data/spice/latest_leapseconds.tls\")\n",
    "kernel.load(\"/Users/kjnapier/data/spice/de440s.bsp\")"
   ]
  },
  {
   "cell_type": "code",
   "execution_count": 2,
   "metadata": {},
   "outputs": [],
   "source": [
    "ds = [72.81, 74.81, 76.81, 82.15]"
   ]
  },
  {
   "cell_type": "code",
   "execution_count": 3,
   "metadata": {},
   "outputs": [],
   "source": [
    "now = Time.now()"
   ]
  },
  {
   "cell_type": "code",
   "execution_count": 4,
   "metadata": {},
   "outputs": [],
   "source": [
    "DEG_TO_RAD = np.pi / 180"
   ]
  },
  {
   "cell_type": "code",
   "execution_count": 5,
   "metadata": {},
   "outputs": [],
   "source": [
    "class Pointing:\n",
    "\n",
    "    def __init__(self, ra: float, dec: float, epoch: Time, fov_radius: float = 0.75 * DEG_TO_RAD):\n",
    "        self.ra = ra\n",
    "        self.dec = dec\n",
    "        self.fov_radius = fov_radius\n",
    "        self.epoch = epoch\n",
    "\n",
    "    def contains(self, obs: DetectionCatalog) -> bool:\n",
    "        ras = obs.ra\n",
    "        decs = obs.dec\n",
    "\n",
    "        # Calculate the angular distance between the pointing and the observations\n",
    "        # This is the distance on the sky in radians\n",
    "        d = np.sqrt((ras - self.ra)**2 + (decs - self.dec)**2)\n",
    "        visible = d < self.fov_radius\n",
    "        return visible"
   ]
  },
  {
   "cell_type": "code",
   "execution_count": 6,
   "metadata": {},
   "outputs": [],
   "source": [
    "o = Observatory.from_obscode(\"T09\")"
   ]
  },
  {
   "cell_type": "code",
   "execution_count": 6,
   "metadata": {},
   "outputs": [],
   "source": [
    "model = pd.read_csv(\"/Users/kjnapier/data/research/model_KB_0.csv\")"
   ]
  },
  {
   "cell_type": "code",
   "execution_count": 74,
   "metadata": {},
   "outputs": [],
   "source": [
    "resonant = model.Comments.apply(lambda x: \"Scattering\" in x)"
   ]
  },
  {
   "cell_type": "code",
   "execution_count": 75,
   "metadata": {},
   "outputs": [],
   "source": [
    "resonant_model = model[resonant]\n",
    "nonresonant_model = model[~resonant]"
   ]
  },
  {
   "cell_type": "code",
   "execution_count": 76,
   "metadata": {},
   "outputs": [
    {
     "data": {
      "text/html": [
       "<div>\n",
       "<style scoped>\n",
       "    .dataframe tbody tr th:only-of-type {\n",
       "        vertical-align: middle;\n",
       "    }\n",
       "\n",
       "    .dataframe tbody tr th {\n",
       "        vertical-align: top;\n",
       "    }\n",
       "\n",
       "    .dataframe thead th {\n",
       "        text-align: right;\n",
       "    }\n",
       "</style>\n",
       "<table border=\"1\" class=\"dataframe\">\n",
       "  <thead>\n",
       "    <tr style=\"text-align: right;\">\n",
       "      <th></th>\n",
       "      <th>a</th>\n",
       "      <th>e</th>\n",
       "      <th>inc</th>\n",
       "      <th>node</th>\n",
       "      <th>peri</th>\n",
       "      <th>Manom</th>\n",
       "      <th>H</th>\n",
       "      <th>Comments</th>\n",
       "      <th>objid</th>\n",
       "    </tr>\n",
       "  </thead>\n",
       "  <tbody>\n",
       "    <tr>\n",
       "      <th>4</th>\n",
       "      <td>822.228</td>\n",
       "      <td>0.958</td>\n",
       "      <td>7.402</td>\n",
       "      <td>252.4</td>\n",
       "      <td>235.5</td>\n",
       "      <td>329.5</td>\n",
       "      <td>12.78</td>\n",
       "      <td>Scattering</td>\n",
       "      <td>fc1db9e9f4e642e197d08f2043980317</td>\n",
       "    </tr>\n",
       "    <tr>\n",
       "      <th>6</th>\n",
       "      <td>603.717</td>\n",
       "      <td>0.942</td>\n",
       "      <td>10.478</td>\n",
       "      <td>357.6</td>\n",
       "      <td>355.9</td>\n",
       "      <td>296.3</td>\n",
       "      <td>13.51</td>\n",
       "      <td>Scattering</td>\n",
       "      <td>c73097522d554222a937a1abe09cb828</td>\n",
       "    </tr>\n",
       "    <tr>\n",
       "      <th>12</th>\n",
       "      <td>396.527</td>\n",
       "      <td>0.893</td>\n",
       "      <td>9.801</td>\n",
       "      <td>10.7</td>\n",
       "      <td>21.7</td>\n",
       "      <td>45.5</td>\n",
       "      <td>10.97</td>\n",
       "      <td>Scattering</td>\n",
       "      <td>af4d96b953634c039f38756d4879e68c</td>\n",
       "    </tr>\n",
       "    <tr>\n",
       "      <th>17</th>\n",
       "      <td>237.678</td>\n",
       "      <td>0.834</td>\n",
       "      <td>15.856</td>\n",
       "      <td>91.9</td>\n",
       "      <td>281.9</td>\n",
       "      <td>144.3</td>\n",
       "      <td>13.86</td>\n",
       "      <td>Scattering</td>\n",
       "      <td>b70834c9d18e4d878527912abec7a4e2</td>\n",
       "    </tr>\n",
       "    <tr>\n",
       "      <th>23</th>\n",
       "      <td>148.313</td>\n",
       "      <td>0.763</td>\n",
       "      <td>19.097</td>\n",
       "      <td>265.2</td>\n",
       "      <td>252.3</td>\n",
       "      <td>201.4</td>\n",
       "      <td>13.79</td>\n",
       "      <td>Scattering</td>\n",
       "      <td>11e1c58438e441608129c9d26964a558</td>\n",
       "    </tr>\n",
       "    <tr>\n",
       "      <th>...</th>\n",
       "      <td>...</td>\n",
       "      <td>...</td>\n",
       "      <td>...</td>\n",
       "      <td>...</td>\n",
       "      <td>...</td>\n",
       "      <td>...</td>\n",
       "      <td>...</td>\n",
       "      <td>...</td>\n",
       "      <td>...</td>\n",
       "    </tr>\n",
       "    <tr>\n",
       "      <th>26499988</th>\n",
       "      <td>267.386</td>\n",
       "      <td>0.877</td>\n",
       "      <td>15.997</td>\n",
       "      <td>233.7</td>\n",
       "      <td>63.3</td>\n",
       "      <td>351.3</td>\n",
       "      <td>13.10</td>\n",
       "      <td>Scattering</td>\n",
       "      <td>84381e698a804affac8cb9127f1cf6cf</td>\n",
       "    </tr>\n",
       "    <tr>\n",
       "      <th>26499991</th>\n",
       "      <td>474.133</td>\n",
       "      <td>0.923</td>\n",
       "      <td>3.728</td>\n",
       "      <td>239.3</td>\n",
       "      <td>79.6</td>\n",
       "      <td>357.4</td>\n",
       "      <td>13.74</td>\n",
       "      <td>Scattering</td>\n",
       "      <td>27165297370042738853ab885c5d1e95</td>\n",
       "    </tr>\n",
       "    <tr>\n",
       "      <th>26499992</th>\n",
       "      <td>967.375</td>\n",
       "      <td>0.950</td>\n",
       "      <td>29.482</td>\n",
       "      <td>334.9</td>\n",
       "      <td>18.5</td>\n",
       "      <td>236.8</td>\n",
       "      <td>12.57</td>\n",
       "      <td>Scattering</td>\n",
       "      <td>ce7aeb6a0927444383563b672f76063a</td>\n",
       "    </tr>\n",
       "    <tr>\n",
       "      <th>26499994</th>\n",
       "      <td>887.284</td>\n",
       "      <td>0.962</td>\n",
       "      <td>15.261</td>\n",
       "      <td>306.5</td>\n",
       "      <td>313.5</td>\n",
       "      <td>60.7</td>\n",
       "      <td>13.18</td>\n",
       "      <td>Scattering</td>\n",
       "      <td>b597e8de0efa447ba90f82c65a6d4b9b</td>\n",
       "    </tr>\n",
       "    <tr>\n",
       "      <th>26499996</th>\n",
       "      <td>565.850</td>\n",
       "      <td>0.943</td>\n",
       "      <td>9.324</td>\n",
       "      <td>345.4</td>\n",
       "      <td>24.5</td>\n",
       "      <td>17.6</td>\n",
       "      <td>13.77</td>\n",
       "      <td>Scattering</td>\n",
       "      <td>79ef7eb49749483b9a72dd17a3f08858</td>\n",
       "    </tr>\n",
       "  </tbody>\n",
       "</table>\n",
       "<p>8861640 rows × 9 columns</p>\n",
       "</div>"
      ],
      "text/plain": [
       "                a      e     inc   node   peri  Manom      H    Comments  \\\n",
       "4         822.228  0.958   7.402  252.4  235.5  329.5  12.78  Scattering   \n",
       "6         603.717  0.942  10.478  357.6  355.9  296.3  13.51  Scattering   \n",
       "12        396.527  0.893   9.801   10.7   21.7   45.5  10.97  Scattering   \n",
       "17        237.678  0.834  15.856   91.9  281.9  144.3  13.86  Scattering   \n",
       "23        148.313  0.763  19.097  265.2  252.3  201.4  13.79  Scattering   \n",
       "...           ...    ...     ...    ...    ...    ...    ...         ...   \n",
       "26499988  267.386  0.877  15.997  233.7   63.3  351.3  13.10  Scattering   \n",
       "26499991  474.133  0.923   3.728  239.3   79.6  357.4  13.74  Scattering   \n",
       "26499992  967.375  0.950  29.482  334.9   18.5  236.8  12.57  Scattering   \n",
       "26499994  887.284  0.962  15.261  306.5  313.5   60.7  13.18  Scattering   \n",
       "26499996  565.850  0.943   9.324  345.4   24.5   17.6  13.77  Scattering   \n",
       "\n",
       "                                     objid  \n",
       "4         fc1db9e9f4e642e197d08f2043980317  \n",
       "6         c73097522d554222a937a1abe09cb828  \n",
       "12        af4d96b953634c039f38756d4879e68c  \n",
       "17        b70834c9d18e4d878527912abec7a4e2  \n",
       "23        11e1c58438e441608129c9d26964a558  \n",
       "...                                    ...  \n",
       "26499988  84381e698a804affac8cb9127f1cf6cf  \n",
       "26499991  27165297370042738853ab885c5d1e95  \n",
       "26499992  ce7aeb6a0927444383563b672f76063a  \n",
       "26499994  b597e8de0efa447ba90f82c65a6d4b9b  \n",
       "26499996  79ef7eb49749483b9a72dd17a3f08858  \n",
       "\n",
       "[8861640 rows x 9 columns]"
      ]
     },
     "execution_count": 76,
     "metadata": {},
     "output_type": "execute_result"
    }
   ],
   "source": [
    "resonant_model"
   ]
  },
  {
   "cell_type": "code",
   "execution_count": 77,
   "metadata": {},
   "outputs": [],
   "source": [
    "model_epoch = Time(2458540.635902778, 'utc', 'jd')"
   ]
  },
  {
   "cell_type": "code",
   "execution_count": 90,
   "metadata": {},
   "outputs": [],
   "source": [
    "rocks = RockCollection()\n",
    "for row in model.itertuples():\n",
    "    rock = SpaceRock.from_kepler(name=row.objid, \n",
    "                                 a=row.a, \n",
    "                                 e=row.e, \n",
    "                                 inc=row.inc * DEG_TO_RAD,\n",
    "                                 arg=row.peri * DEG_TO_RAD,\n",
    "                                 node=row.node * DEG_TO_RAD,\n",
    "                                 M=(row.Manom * DEG_TO_RAD) % (2 * np.pi),\n",
    "                                 epoch=model_epoch)\n",
    "\n",
    "    rock.set_absolute_magnitude(row.H)\n",
    "    rocks.add(rock)"
   ]
  },
  {
   "cell_type": "code",
   "execution_count": 91,
   "metadata": {},
   "outputs": [],
   "source": [
    "neptune = SpaceRock.from_spice(\"Neptune Barycenter\", model_epoch, frame=\"ECLIPJ2000\")"
   ]
  },
  {
   "cell_type": "code",
   "execution_count": 92,
   "metadata": {},
   "outputs": [],
   "source": [
    "obs = rocks.observe(o.at(now))"
   ]
  },
  {
   "cell_type": "code",
   "execution_count": 93,
   "metadata": {},
   "outputs": [],
   "source": [
    "keep = obs.mag < 28"
   ]
  },
  {
   "cell_type": "code",
   "execution_count": 94,
   "metadata": {},
   "outputs": [],
   "source": [
    "# fig, ax = plt.subplots(1, 1, figsize=(10, 10))\n",
    "# ax.scatter(rocks.x[keep], rocks.y[keep], s=1, alpha=0.5, color='grey')\n",
    "# ax.scatter(neptune.x, neptune.y, s=10, color='blue')\n",
    "# # draw a circle with radius 60\n",
    "# circle = plt.Circle((0, 0), 70, color='r', fill=False)\n",
    "# ax.add_artist(circle)\n",
    "\n",
    "# circle = plt.Circle((0, 0), 80, color='r', fill=False)\n",
    "# ax.add_artist(circle)\n",
    "# ax.set_aspect('equal')"
   ]
  },
  {
   "cell_type": "code",
   "execution_count": 95,
   "metadata": {},
   "outputs": [],
   "source": [
    "pointing_0 = Pointing(287.33743 * DEG_TO_RAD, -20.12725 * DEG_TO_RAD, Time(58998.5 + 2400000.5, 'utc', 'jd'))\n",
    "pointing_1 = Pointing(288.71466 * DEG_TO_RAD, -20.37960 * DEG_TO_RAD, Time(58999.5 + 2400000.5, 'utc', 'jd'))\n",
    "pointing_2 = Pointing(288.66147 * DEG_TO_RAD, -20.05024 * DEG_TO_RAD, Time(59020.5 + 2400000.5, 'utc', 'jd'))\n",
    "\n",
    "\n",
    "\n",
    "\n",
    "deep_pointing_1 = Pointing(352.42444 * DEG_TO_RAD, -3.82797 * DEG_TO_RAD, Time(2458755.513, 'utc', 'jd'), fov_radius=1.1 * DEG_TO_RAD)\n",
    "deep_pointing_2 = Pointing(353.12082 * DEG_TO_RAD, -5.50267 * DEG_TO_RAD, Time(2458754.511, 'utc', 'jd'), fov_radius=1.1 * DEG_TO_RAD)\n",
    "\n",
    "pointings = [pointing_0, pointing_1, pointing_2, deep_pointing_1, deep_pointing_2]"
   ]
  },
  {
   "cell_type": "code",
   "execution_count": 96,
   "metadata": {},
   "outputs": [],
   "source": [
    "rocks.change_frame(\"J2000\")"
   ]
  },
  {
   "cell_type": "code",
   "execution_count": 97,
   "metadata": {},
   "outputs": [
    {
     "data": {
      "image/png": "[encoded data removed]",
      "text/plain": [
       "<Figure size 640x480 with 1 Axes>"
      ]
     },
     "metadata": {
      "image/png": {
       "height": 413,
       "width": 543
      }
     },
     "output_type": "display_data"
    },
    {
     "data": {
      "image/png": "[encoded data removed]",
      "text/plain": [
       "<Figure size 640x480 with 1 Axes>"
      ]
     },
     "metadata": {
      "image/png": {
       "height": 413,
       "width": 543
      }
     },
     "output_type": "display_data"
    },
    {
     "data": {
      "image/png": "[encoded data removed]",
      "text/plain": [
       "<Figure size 640x480 with 1 Axes>"
      ]
     },
     "metadata": {
      "image/png": {
       "height": 413,
       "width": 556
      }
     },
     "output_type": "display_data"
    },
    {
     "data": {
      "image/png": "[encoded data removed]",
      "text/plain": [
       "<Figure size 640x480 with 1 Axes>"
      ]
     },
     "metadata": {
      "image/png": {
       "height": 413,
       "width": 543
      }
     },
     "output_type": "display_data"
    },
    {
     "data": {
      "image/png": "[encoded data removed]",
      "text/plain": [
       "<Figure size 640x480 with 1 Axes>"
      ]
     },
     "metadata": {
      "image/png": {
       "height": 413,
       "width": 543
      }
     },
     "output_type": "display_data"
    }
   ],
   "source": [
    "for pointing in pointings:\n",
    "    rocks.analytic_propagate(pointing.epoch)\n",
    "    obs = rocks.observe(o.at(pointing.epoch))\n",
    "    keep = pointing.contains(obs) * (obs.mag < 26.5)\n",
    "    rs = rocks.r[keep]\n",
    "    fig, ax = plt.subplots()\n",
    "    _ = plt.hist(rs)"
   ]
  },
  {
   "cell_type": "code",
   "execution_count": 15,
   "metadata": {},
   "outputs": [
    {
     "name": "stdout",
     "output_type": "stream",
     "text": [
      "6.89 µs ± 17.6 ns per loop (mean ± std. dev. of 7 runs, 100,000 loops each)\n"
     ]
    }
   ],
   "source": [
    "%%timeit\n",
    "rock.observe(o.at(pointing_0.epoch))"
   ]
  },
  {
   "cell_type": "code",
   "execution_count": null,
   "metadata": {},
   "outputs": [
    {
     "data": {
      "image/png": "[encoded data removed]",
      "text/plain": [
       "<Figure size 640x480 with 1 Axes>"
      ]
     },
     "metadata": {
      "image/png": {
       "height": 413,
       "width": 543
      }
     },
     "output_type": "display_data"
    }
   ],
   "source": [
    "for pointing in [deep_pointing]:\n",
    "    rocks.analytic_propagate(pointing.epoch)\n",
    "    obs = rocks.observe(o.at(pointing.epoch))\n",
    "    keep = pointing.contains(obs) * (obs.mag < 26.5)\n",
    "    rs = rocks.r[keep]\n",
    "    fig, ax = plt.subplots()\n",
    "    _ = plt.hist(rs)"
   ]
  },
  {
   "cell_type": "code",
   "execution_count": 20,
   "metadata": {},
   "outputs": [],
   "source": [
    "ns = np.array(rocks.name)[keep]"
   ]
  },
  {
   "cell_type": "code",
   "execution_count": 21,
   "metadata": {},
   "outputs": [
    {
     "data": {
      "text/plain": [
       "119"
      ]
     },
     "execution_count": 21,
     "metadata": {},
     "output_type": "execute_result"
    }
   ],
   "source": [
    "len(ns)"
   ]
  },
  {
   "cell_type": "code",
   "execution_count": 12,
   "metadata": {},
   "outputs": [],
   "source": [
    "rs = rocks.r[keep]"
   ]
  },
  {
   "cell_type": "code",
   "execution_count": 13,
   "metadata": {},
   "outputs": [
    {
     "data": {
      "text/plain": [
       "array([26.32630504450349], dtype=object)"
      ]
     },
     "execution_count": 13,
     "metadata": {},
     "output_type": "execute_result"
    }
   ],
   "source": [
    "obs.mag[keep][rs > 68]"
   ]
  },
  {
   "cell_type": "code",
   "execution_count": 15,
   "metadata": {},
   "outputs": [
    {
     "data": {
      "text/plain": [
       "array(['d6d5b2e2440f4415b700198263ebcdad'], dtype=object)"
      ]
     },
     "execution_count": 15,
     "metadata": {},
     "output_type": "execute_result"
    }
   ],
   "source": [
    "np.array(rocks.name)[keep][rs > 68]"
   ]
  },
  {
   "cell_type": "code",
   "execution_count": 29,
   "metadata": {},
   "outputs": [
    {
     "data": {
      "text/html": [
       "<div>\n",
       "<style scoped>\n",
       "    .dataframe tbody tr th:only-of-type {\n",
       "        vertical-align: middle;\n",
       "    }\n",
       "\n",
       "    .dataframe tbody tr th {\n",
       "        vertical-align: top;\n",
       "    }\n",
       "\n",
       "    .dataframe thead th {\n",
       "        text-align: right;\n",
       "    }\n",
       "</style>\n",
       "<table border=\"1\" class=\"dataframe\">\n",
       "  <thead>\n",
       "    <tr style=\"text-align: right;\">\n",
       "      <th></th>\n",
       "      <th>a</th>\n",
       "      <th>e</th>\n",
       "      <th>inc</th>\n",
       "      <th>node</th>\n",
       "      <th>peri</th>\n",
       "      <th>Manom</th>\n",
       "      <th>H</th>\n",
       "      <th>Comments</th>\n",
       "      <th>objid</th>\n",
       "    </tr>\n",
       "  </thead>\n",
       "  <tbody>\n",
       "    <tr>\n",
       "      <th>8902495</th>\n",
       "      <td>53.561</td>\n",
       "      <td>0.304</td>\n",
       "      <td>21.856</td>\n",
       "      <td>110.7</td>\n",
       "      <td>1.9</td>\n",
       "      <td>168.5</td>\n",
       "      <td>7.82</td>\n",
       "      <td>Classical--Extend--hot_o5c</td>\n",
       "      <td>60e6bc7501a0498eb997f5d1045bd5d6</td>\n",
       "    </tr>\n",
       "  </tbody>\n",
       "</table>\n",
       "</div>"
      ],
      "text/plain": [
       "              a      e     inc   node  peri  Manom     H  \\\n",
       "8902495  53.561  0.304  21.856  110.7   1.9  168.5  7.82   \n",
       "\n",
       "                           Comments                             objid  \n",
       "8902495  Classical--Extend--hot_o5c  60e6bc7501a0498eb997f5d1045bd5d6  "
      ]
     },
     "execution_count": 29,
     "metadata": {},
     "output_type": "execute_result"
    }
   ],
   "source": [
    "model[model.objid == '60e6bc7501a0498eb997f5d1045bd5d6']"
   ]
  },
  {
   "cell_type": "code",
   "execution_count": 30,
   "metadata": {},
   "outputs": [
    {
     "data": {
      "text/html": [
       "<div>\n",
       "<style scoped>\n",
       "    .dataframe tbody tr th:only-of-type {\n",
       "        vertical-align: middle;\n",
       "    }\n",
       "\n",
       "    .dataframe tbody tr th {\n",
       "        vertical-align: top;\n",
       "    }\n",
       "\n",
       "    .dataframe thead th {\n",
       "        text-align: right;\n",
       "    }\n",
       "</style>\n",
       "<table border=\"1\" class=\"dataframe\">\n",
       "  <thead>\n",
       "    <tr style=\"text-align: right;\">\n",
       "      <th></th>\n",
       "      <th>a</th>\n",
       "      <th>e</th>\n",
       "      <th>inc</th>\n",
       "      <th>node</th>\n",
       "      <th>peri</th>\n",
       "      <th>Manom</th>\n",
       "      <th>H</th>\n",
       "      <th>Comments</th>\n",
       "      <th>objid</th>\n",
       "    </tr>\n",
       "  </thead>\n",
       "  <tbody>\n",
       "    <tr>\n",
       "      <th>18089938</th>\n",
       "      <td>55.205</td>\n",
       "      <td>0.321</td>\n",
       "      <td>17.978</td>\n",
       "      <td>114.3</td>\n",
       "      <td>12.7</td>\n",
       "      <td>143.3</td>\n",
       "      <td>7.78</td>\n",
       "      <td>Classical--Extend--hot_o5m</td>\n",
       "      <td>d6d5b2e2440f4415b700198263ebcdad</td>\n",
       "    </tr>\n",
       "  </tbody>\n",
       "</table>\n",
       "</div>"
      ],
      "text/plain": [
       "               a      e     inc   node  peri  Manom     H  \\\n",
       "18089938  55.205  0.321  17.978  114.3  12.7  143.3  7.78   \n",
       "\n",
       "                            Comments                             objid  \n",
       "18089938  Classical--Extend--hot_o5m  d6d5b2e2440f4415b700198263ebcdad  "
      ]
     },
     "execution_count": 30,
     "metadata": {},
     "output_type": "execute_result"
    }
   ],
   "source": [
    "model[model.objid == 'd6d5b2e2440f4415b700198263ebcdad']"
   ]
  },
  {
   "cell_type": "code",
   "execution_count": 23,
   "metadata": {},
   "outputs": [
    {
     "ename": "KeyboardInterrupt",
     "evalue": "",
     "output_type": "error",
     "traceback": [
      "\u001b[0;31m---------------------------------------------------------------------------\u001b[0m",
      "\u001b[0;31mKeyboardInterrupt\u001b[0m                         Traceback (most recent call last)",
      "Cell \u001b[0;32mIn[23], line 1\u001b[0m\n\u001b[0;32m----> 1\u001b[0m m \u001b[38;5;241m=\u001b[39m \u001b[43mmodel\u001b[49m\u001b[38;5;241;43m.\u001b[39;49m\u001b[43mapply\u001b[49m\u001b[43m(\u001b[49m\u001b[38;5;28;43;01mlambda\u001b[39;49;00m\u001b[43m \u001b[49m\u001b[43mrow\u001b[49m\u001b[43m:\u001b[49m\u001b[43m \u001b[49m\u001b[43mrow\u001b[49m\u001b[38;5;241;43m.\u001b[39;49m\u001b[43mobjid\u001b[49m\u001b[43m \u001b[49m\u001b[38;5;129;43;01min\u001b[39;49;00m\u001b[43m \u001b[49m\u001b[43mns\u001b[49m\u001b[43m,\u001b[49m\u001b[43m \u001b[49m\u001b[43maxis\u001b[49m\u001b[38;5;241;43m=\u001b[39;49m\u001b[38;5;241;43m1\u001b[39;49m\u001b[43m)\u001b[49m\n",
      "File \u001b[0;32m~/anaconda3/envs/dev/lib/python3.12/site-packages/pandas/core/frame.py:10361\u001b[0m, in \u001b[0;36mDataFrame.apply\u001b[0;34m(self, func, axis, raw, result_type, args, by_row, engine, engine_kwargs, **kwargs)\u001b[0m\n\u001b[1;32m  10347\u001b[0m \u001b[38;5;28;01mfrom\u001b[39;00m \u001b[38;5;21;01mpandas\u001b[39;00m\u001b[38;5;21;01m.\u001b[39;00m\u001b[38;5;21;01mcore\u001b[39;00m\u001b[38;5;21;01m.\u001b[39;00m\u001b[38;5;21;01mapply\u001b[39;00m \u001b[38;5;28;01mimport\u001b[39;00m frame_apply\n\u001b[1;32m  10349\u001b[0m op \u001b[38;5;241m=\u001b[39m frame_apply(\n\u001b[1;32m  10350\u001b[0m     \u001b[38;5;28mself\u001b[39m,\n\u001b[1;32m  10351\u001b[0m     func\u001b[38;5;241m=\u001b[39mfunc,\n\u001b[0;32m   (...)\u001b[0m\n\u001b[1;32m  10359\u001b[0m     kwargs\u001b[38;5;241m=\u001b[39mkwargs,\n\u001b[1;32m  10360\u001b[0m )\n\u001b[0;32m> 10361\u001b[0m \u001b[38;5;28;01mreturn\u001b[39;00m \u001b[43mop\u001b[49m\u001b[38;5;241;43m.\u001b[39;49m\u001b[43mapply\u001b[49m\u001b[43m(\u001b[49m\u001b[43m)\u001b[49m\u001b[38;5;241m.\u001b[39m__finalize__(\u001b[38;5;28mself\u001b[39m, method\u001b[38;5;241m=\u001b[39m\u001b[38;5;124m\"\u001b[39m\u001b[38;5;124mapply\u001b[39m\u001b[38;5;124m\"\u001b[39m)\n",
      "File \u001b[0;32m~/anaconda3/envs/dev/lib/python3.12/site-packages/pandas/core/apply.py:916\u001b[0m, in \u001b[0;36mFrameApply.apply\u001b[0;34m(self)\u001b[0m\n\u001b[1;32m    913\u001b[0m \u001b[38;5;28;01melif\u001b[39;00m \u001b[38;5;28mself\u001b[39m\u001b[38;5;241m.\u001b[39mraw:\n\u001b[1;32m    914\u001b[0m     \u001b[38;5;28;01mreturn\u001b[39;00m \u001b[38;5;28mself\u001b[39m\u001b[38;5;241m.\u001b[39mapply_raw(engine\u001b[38;5;241m=\u001b[39m\u001b[38;5;28mself\u001b[39m\u001b[38;5;241m.\u001b[39mengine, engine_kwargs\u001b[38;5;241m=\u001b[39m\u001b[38;5;28mself\u001b[39m\u001b[38;5;241m.\u001b[39mengine_kwargs)\n\u001b[0;32m--> 916\u001b[0m \u001b[38;5;28;01mreturn\u001b[39;00m \u001b[38;5;28;43mself\u001b[39;49m\u001b[38;5;241;43m.\u001b[39;49m\u001b[43mapply_standard\u001b[49m\u001b[43m(\u001b[49m\u001b[43m)\u001b[49m\n",
      "File \u001b[0;32m~/anaconda3/envs/dev/lib/python3.12/site-packages/pandas/core/apply.py:1063\u001b[0m, in \u001b[0;36mFrameApply.apply_standard\u001b[0;34m(self)\u001b[0m\n\u001b[1;32m   1061\u001b[0m \u001b[38;5;28;01mdef\u001b[39;00m \u001b[38;5;21mapply_standard\u001b[39m(\u001b[38;5;28mself\u001b[39m):\n\u001b[1;32m   1062\u001b[0m     \u001b[38;5;28;01mif\u001b[39;00m \u001b[38;5;28mself\u001b[39m\u001b[38;5;241m.\u001b[39mengine \u001b[38;5;241m==\u001b[39m \u001b[38;5;124m\"\u001b[39m\u001b[38;5;124mpython\u001b[39m\u001b[38;5;124m\"\u001b[39m:\n\u001b[0;32m-> 1063\u001b[0m         results, res_index \u001b[38;5;241m=\u001b[39m \u001b[38;5;28;43mself\u001b[39;49m\u001b[38;5;241;43m.\u001b[39;49m\u001b[43mapply_series_generator\u001b[49m\u001b[43m(\u001b[49m\u001b[43m)\u001b[49m\n\u001b[1;32m   1064\u001b[0m     \u001b[38;5;28;01melse\u001b[39;00m:\n\u001b[1;32m   1065\u001b[0m         results, res_index \u001b[38;5;241m=\u001b[39m \u001b[38;5;28mself\u001b[39m\u001b[38;5;241m.\u001b[39mapply_series_numba()\n",
      "File \u001b[0;32m~/anaconda3/envs/dev/lib/python3.12/site-packages/pandas/core/apply.py:1082\u001b[0m, in \u001b[0;36mFrameApply.apply_series_generator\u001b[0;34m(self)\u001b[0m\n\u001b[1;32m   1079\u001b[0m     \u001b[38;5;28;01mfor\u001b[39;00m i, v \u001b[38;5;129;01min\u001b[39;00m \u001b[38;5;28menumerate\u001b[39m(series_gen):\n\u001b[1;32m   1080\u001b[0m         \u001b[38;5;66;03m# ignore SettingWithCopy here in case the user mutates\u001b[39;00m\n\u001b[1;32m   1081\u001b[0m         results[i] \u001b[38;5;241m=\u001b[39m \u001b[38;5;28mself\u001b[39m\u001b[38;5;241m.\u001b[39mfunc(v, \u001b[38;5;241m*\u001b[39m\u001b[38;5;28mself\u001b[39m\u001b[38;5;241m.\u001b[39margs, \u001b[38;5;241m*\u001b[39m\u001b[38;5;241m*\u001b[39m\u001b[38;5;28mself\u001b[39m\u001b[38;5;241m.\u001b[39mkwargs)\n\u001b[0;32m-> 1082\u001b[0m         \u001b[38;5;28;01mif\u001b[39;00m \u001b[38;5;28;43misinstance\u001b[39;49m\u001b[43m(\u001b[49m\u001b[43mresults\u001b[49m\u001b[43m[\u001b[49m\u001b[43mi\u001b[49m\u001b[43m]\u001b[49m\u001b[43m,\u001b[49m\u001b[43m \u001b[49m\u001b[43mABCSeries\u001b[49m\u001b[43m)\u001b[49m:\n\u001b[1;32m   1083\u001b[0m             \u001b[38;5;66;03m# If we have a view on v, we need to make a copy because\u001b[39;00m\n\u001b[1;32m   1084\u001b[0m             \u001b[38;5;66;03m#  series_generator will swap out the underlying data\u001b[39;00m\n\u001b[1;32m   1085\u001b[0m             results[i] \u001b[38;5;241m=\u001b[39m results[i]\u001b[38;5;241m.\u001b[39mcopy(deep\u001b[38;5;241m=\u001b[39m\u001b[38;5;28;01mFalse\u001b[39;00m)\n\u001b[1;32m   1087\u001b[0m \u001b[38;5;28;01mreturn\u001b[39;00m results, res_index\n",
      "File \u001b[0;32m~/anaconda3/envs/dev/lib/python3.12/site-packages/pandas/core/dtypes/generic.py:42\u001b[0m, in \u001b[0;36mcreate_pandas_abc_type.<locals>._instancecheck\u001b[0;34m(cls, inst)\u001b[0m\n\u001b[1;32m     38\u001b[0m     \u001b[38;5;28;01mreturn\u001b[39;00m \u001b[38;5;28mgetattr\u001b[39m(inst, attr, \u001b[38;5;124m\"\u001b[39m\u001b[38;5;124m_typ\u001b[39m\u001b[38;5;124m\"\u001b[39m) \u001b[38;5;129;01min\u001b[39;00m comp\n\u001b[1;32m     40\u001b[0m \u001b[38;5;66;03m# https://github.com/python/mypy/issues/1006\u001b[39;00m\n\u001b[1;32m     41\u001b[0m \u001b[38;5;66;03m# error: 'classmethod' used with a non-method\u001b[39;00m\n\u001b[0;32m---> 42\u001b[0m \u001b[38;5;129m@classmethod\u001b[39m  \u001b[38;5;66;03m# type: ignore[misc]\u001b[39;00m\n\u001b[1;32m     43\u001b[0m \u001b[38;5;28;01mdef\u001b[39;00m \u001b[38;5;21m_instancecheck\u001b[39m(\u001b[38;5;28mcls\u001b[39m, inst) \u001b[38;5;241m-\u001b[39m\u001b[38;5;241m>\u001b[39m \u001b[38;5;28mbool\u001b[39m:\n\u001b[1;32m     44\u001b[0m     \u001b[38;5;28;01mreturn\u001b[39;00m _check(inst) \u001b[38;5;129;01mand\u001b[39;00m \u001b[38;5;129;01mnot\u001b[39;00m \u001b[38;5;28misinstance\u001b[39m(inst, \u001b[38;5;28mtype\u001b[39m)\n\u001b[1;32m     46\u001b[0m \u001b[38;5;129m@classmethod\u001b[39m  \u001b[38;5;66;03m# type: ignore[misc]\u001b[39;00m\n\u001b[1;32m     47\u001b[0m \u001b[38;5;28;01mdef\u001b[39;00m \u001b[38;5;21m_subclasscheck\u001b[39m(\u001b[38;5;28mcls\u001b[39m, inst) \u001b[38;5;241m-\u001b[39m\u001b[38;5;241m>\u001b[39m \u001b[38;5;28mbool\u001b[39m:\n\u001b[1;32m     48\u001b[0m     \u001b[38;5;66;03m# Raise instead of returning False\u001b[39;00m\n\u001b[1;32m     49\u001b[0m     \u001b[38;5;66;03m# This is consistent with default __subclasscheck__ behavior\u001b[39;00m\n",
      "\u001b[0;31mKeyboardInterrupt\u001b[0m: "
     ]
    }
   ],
   "source": [
    "m = model.apply(lambda row: row.objid in ns, axis=1)"
   ]
  },
  {
   "cell_type": "code",
   "execution_count": 30,
   "metadata": {},
   "outputs": [
    {
     "data": {
      "text/plain": [
       "array(['2e04d28593b04c0696b604b6978768e1',\n",
       "       'cb6781ba7cd6452fa2ee52ec34156efd',\n",
       "       '154fba08bb374083a02e8aa35ebc2f33', ...,\n",
       "       '0a1753eb6c4e462fb486dcd0eb78992a',\n",
       "       '95e34fffa4f040298d11209d4f71660a',\n",
       "       '14e6a9d42db04ab5a272130b697768e5'], dtype=object)"
      ]
     },
     "execution_count": 30,
     "metadata": {},
     "output_type": "execute_result"
    }
   ],
   "source": [
    "model.objid.values"
   ]
  },
  {
   "cell_type": "code",
   "execution_count": 31,
   "metadata": {},
   "outputs": [
    {
     "ename": "KeyboardInterrupt",
     "evalue": "",
     "output_type": "error",
     "traceback": [
      "\u001b[0;31m---------------------------------------------------------------------------\u001b[0m",
      "\u001b[0;31mKeyboardInterrupt\u001b[0m                         Traceback (most recent call last)",
      "Cell \u001b[0;32mIn[31], line 1\u001b[0m\n\u001b[0;32m----> 1\u001b[0m [n \u001b[38;5;129;01min\u001b[39;00m model\u001b[38;5;241m.\u001b[39mobjid\u001b[38;5;241m.\u001b[39mvalues \u001b[38;5;28;01mfor\u001b[39;00m n \u001b[38;5;129;01min\u001b[39;00m ns]\n",
      "\u001b[0;31mKeyboardInterrupt\u001b[0m: "
     ]
    }
   ],
   "source": [
    "[n in model.objid.values for n in ns]"
   ]
  },
  {
   "cell_type": "code",
   "execution_count": 33,
   "metadata": {},
   "outputs": [],
   "source": [
    "m = model[np.in1d(model.objid.values, ns)]"
   ]
  },
  {
   "cell_type": "code",
   "execution_count": 38,
   "metadata": {},
   "outputs": [
    {
     "data": {
      "text/plain": [
       "{'Classical--Bright--coldh_L4j',\n",
       " 'Classical--Bright--coldh_L4v',\n",
       " 'Classical--Bright--coldh_L5c',\n",
       " 'Classical--Bright--coldh_L5i',\n",
       " 'Classical--Bright--coldh_o3e',\n",
       " 'Classical--Bright--coldh_o3l',\n",
       " 'Classical--Bright--coldh_o4h',\n",
       " 'Classical--Bright--coldh_o5c',\n",
       " 'Classical--Bright--coldh_o5d',\n",
       " 'Classical--Bright--coldh_o5p',\n",
       " 'Classical--Bright--coldl_L3h',\n",
       " 'Classical--Bright--coldl_L3w',\n",
       " 'Classical--Bright--coldl_L4h',\n",
       " 'Classical--Bright--coldl_L4k',\n",
       " 'Classical--Bright--coldl_L4p',\n",
       " 'Classical--Bright--coldl_L5i',\n",
       " 'Classical--Bright--coldl_L7a',\n",
       " 'Classical--Bright--coldl_o3e',\n",
       " 'Classical--Bright--coldl_o3l',\n",
       " 'Classical--Bright--coldl_o5c',\n",
       " 'Classical--Bright--coldl_o5d',\n",
       " 'Classical--Bright--coldl_o5p',\n",
       " 'Classical--Bright--coldl_o5s',\n",
       " 'Classical--Bright--coldl_o5t',\n",
       " 'Classical--Bright--hot_L3y',\n",
       " 'Classical--Bright--hot_L4k',\n",
       " 'Classical--Bright--hot_mah',\n",
       " 'Classical--Bright--hot_o3e',\n",
       " 'Classical--Bright--hot_o3l',\n",
       " 'Classical--Bright--hot_o3o',\n",
       " 'Classical--Bright--hot_o4h',\n",
       " 'Classical--Bright--hot_o5c',\n",
       " 'Classical--Bright--hot_o5m',\n",
       " 'Classical--Bright--hot_o5s',\n",
       " 'Classical--Extend--hot_L4m',\n",
       " 'Classical--Extend--hot_L7a',\n",
       " 'Classical--Extend--hot_mal',\n",
       " 'Classical--Extend--hot_o3e',\n",
       " 'Classical--Extend--hot_o5m',\n",
       " 'Classical--Extend--hot_o5p',\n",
       " 'Classical--Extend--hot_o5t',\n",
       " 'Resonant--2:1--L',\n",
       " 'Resonant--2:1--T',\n",
       " 'Resonant--3:2--',\n",
       " 'Resonant--5:3--',\n",
       " 'Resonant--7:3--',\n",
       " 'Resonant--7:4--',\n",
       " 'Scattering'}"
      ]
     },
     "execution_count": 38,
     "metadata": {},
     "output_type": "execute_result"
    }
   ],
   "source": [
    "set(m.Comments)"
   ]
  },
  {
   "cell_type": "code",
   "execution_count": null,
   "metadata": {},
   "outputs": [],
   "source": []
  }
 ],
 "metadata": {
  "kernelspec": {
   "display_name": "kev",
   "language": "python",
   "name": "python3"
  },
  "language_info": {
   "codemirror_mode": {
    "name": "ipython",
    "version": 3
   },
   "file_extension": ".py",
   "mimetype": "text/x-python",
   "name": "python",
   "nbconvert_exporter": "python",
   "pygments_lexer": "ipython3",
   "version": "3.12.1"
  }
 },
 "nbformat": 4,
 "nbformat_minor": 2
}
