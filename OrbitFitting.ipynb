{
 "cells": [
  {
   "cell_type": "code",
   "execution_count": null,
   "metadata": {},
   "outputs": [
    {
     "name": "stdout",
     "output_type": "stream",
     "text": [
      "Quantity             Unit           \n",
      "---------------------------------------\n",
      "distance             AU             \n",
      "angle                deg            \n",
      "timescale            utc            \n",
      "timeformat           None           \n",
      "speed                AU / d         \n",
      "rotation_period      d              \n"
     ]
    }
   ],
   "source": [
    "from spacerocks import SpaceRock, Units\n",
    "import numpy as np\n",
    "\n",
    "import matplotlib.pyplot as plt\n",
    "%matplotlib inline\n",
    "\n",
    "units = Units()\n",
    "units.current()\n",
    "\n",
    "N = 10\n",
    "rock = SpaceRock(a=np.random.uniform(30, 100, N), \n",
    "                 e=np.random.rand(N), \n",
    "                 inc=np.random.uniform(0, 90, N), \n",
    "                 node=np.random.uniform(0, 360, N), \n",
    "                 arg=np.random.uniform(0, 360, N), \n",
    "                 M=np.random.uniform(0, 360, N), \n",
    "                 epoch=np.repeat(2459305.5, N), \n",
    "                 H0=np.random.uniform(4, 10, N),\n",
    "                 delta_H = np.random.uniform(0.1, 0.5, N),\n",
    "                 rotation_period = np.random.uniform(0.2, 1, N),\n",
    "                 phi0 = np.random.rand(N) * 360,\n",
    "                 frame='barycentric',\n",
    "                 units=units)\n",
    "\n",
    "p = rock.propagate(epochs=np.linspace(2459305.5, 2499955.5, 10000), model=2)\n",
    "o = p.observe(obscode='W84')\n",
    "\n",
    "colors = [float(hash(s) % 256) / 256 for s in o.name]\n",
    "\n",
    "fig, ax = plt.subplots(2, 1, figsize=(18, 12), sharex=True)\n",
    "ax[0].scatter((o.epoch.jd - o.epoch.jd[0]) / 365.25, o.mag, s=1, c=colors, cmap='turbo')\n",
    "ax[0].tick_params(labelsize=16)\n",
    "ax[0].set_xlabel(r'$\\Delta t$ (years)', fontsize=24, labelpad=30)\n",
    "ax[0].set_ylabel('mag', fontsize=24, labelpad=30)\n",
    "\n",
    "ax[1].scatter((o.epoch.jd - o.epoch.jd[0]) / 365.25, o.H, s=1, c=colors, cmap='turbo')\n",
    "ax[1].tick_params(labelsize=16)\n",
    "ax[1].set_xlabel(r'$\\Delta t$ (years)', fontsize=24, labelpad=30)\n",
    "ax[1].set_ylabel('H', fontsize=24, labelpad=30, rotation=0)"
   ]
  },
  {
   "cell_type": "code",
   "execution_count": 5,
   "metadata": {},
   "outputs": [
    {
     "name": "stdout",
     "output_type": "stream",
     "text": [
      "Quantity             Unit           \n",
      "---------------------------------------\n",
      "distance             AU             \n",
      "angle                deg            \n",
      "timescale            utc            \n",
      "timeformat           None           \n",
      "speed                AU / d         \n",
      "rotation_period      d              \n"
     ]
    }
   ],
   "source": []
  },
  {
   "cell_type": "code",
   "execution_count": 6,
   "metadata": {},
   "outputs": [],
   "source": [
    "N = 10\n",
    "rock = SpaceRock(a=np.random.uniform(30, 100, N), \n",
    "                 e=np.random.rand(N), \n",
    "                 inc=np.random.uniform(0, 90, N), \n",
    "                 node=np.random.uniform(0, 360, N), \n",
    "                 arg=np.random.uniform(0, 360, N), \n",
    "                 M=np.random.uniform(0, 360, N), \n",
    "                 epoch=np.repeat(2459305.5, N), \n",
    "                 H0=np.random.uniform(4, 10, N),\n",
    "                 delta_H = np.random.uniform(0.1, 0.5, N), # amplitude\n",
    "                 rotation_period = np.random.uniform(0.2, 1, N), # period in days\n",
    "                 phi0 = np.random.rand(N) * 360, # initial phase in radians\n",
    "                 frame='barycentric',\n",
    "                 units=units)\n",
    "\n",
    "p = rock.propagate(epochs=np.linspace(2459305.5, 2499955.5, 10000), model=2)\n",
    "o = p.observe(obscode='W84')\n",
    "\n",
    "colors = [float(hash(s) % 256) / 256 for s in o.name]\n",
    "\n",
    "fig, ax = plt.subplots(figsize=(18, 6))\n",
    "ax.scatter((o.epoch.jd - o.epoch.jd[0]) / 365.25, o.mag, s=1, c=colors, cmap='turbo')\n",
    "ax.tick_params(labelsize=16)\n",
    "ax.set_xlabel(r'$\\Delta t$ (years)', fontsize=24, labelpad=30)\n",
    "ax.set_ylabel('mag', fontsize=24, labelpad=30)\n",
    "\n",
    "fig, ax = plt.subplots(figsize=(18, 6))\n",
    "ax.scatter((o.epoch.jd - o.epoch.jd[0]) / 365.25, o.H, s=1, c=colors, cmap='turbo')\n",
    "ax.tick_params(labelsize=16)\n",
    "ax.set_xlabel(r'$\\Delta t$ (years)', fontsize=24, labelpad=30)\n",
    "ax.set_ylabel('H', fontsize=24, labelpad=30, rotation=0)"
   ]
  },
  {
   "cell_type": "code",
   "execution_count": null,
   "metadata": {},
   "outputs": [],
   "source": []
  },
  {
   "cell_type": "code",
   "execution_count": null,
   "metadata": {},
   "outputs": [],
   "source": [
    "N = 1\n",
    "rock = SpaceRock(a=30, \n",
    "                 e=0, \n",
    "                 inc=0, \n",
    "                 node=0, \n",
    "                 arg=0, \n",
    "                 M=0, \n",
    "                 H=5,\n",
    "                 delta_H=np.array([0.5]),\n",
    "                 phi0=np.array([0]),\n",
    "                 rotation_period=np.array([0.25]),\n",
    "                 epoch=np.repeat(2459305.5, N), \n",
    "                 frame='barycentric', units=units)"
   ]
  },
  {
   "cell_type": "code",
   "execution_count": null,
   "metadata": {},
   "outputs": [],
   "source": [
    "pr = rock.propagate(epochs=np.linspace(2459305.5, 2459355.5, 50), model=2)"
   ]
  },
  {
   "cell_type": "code",
   "execution_count": null,
   "metadata": {},
   "outputs": [],
   "source": []
  },
  {
   "cell_type": "code",
   "execution_count": null,
   "metadata": {},
   "outputs": [],
   "source": [
    "fig, ax = plt.subplots(figsize=(18, 18))\n",
    "\n",
    "true = []\n",
    "estimated = []\n",
    "elong = []\n",
    "\n",
    "N = 10000000\n",
    "rock = SpaceRock(a=np.random.uniform(30, 500, N), \n",
    "                 e=np.random.rand(N), \n",
    "                 inc=np.random.uniform(0, 90, N), \n",
    "                 node=np.random.uniform(0, 360, N), \n",
    "                 arg=np.random.uniform(0, 360, N), \n",
    "                 M=np.random.uniform(0, 360, N), \n",
    "                 epoch=np.repeat(2459305.5, N), \n",
    "                 frame='barycentric', units=units)\n",
    "\n",
    "\n",
    "t0 = ts.tdb(jd=rock.epoch.tdb.jd)\n",
    "t1 = ts.tdb(jd=rock.epoch.tdb.jd + 4/24)\n",
    "earth = planets['earth']\n",
    "\n",
    "# Only used for the topocentric calculation.\n",
    "#if self.__class__.obscode != 500:\n",
    "#    earth += Topos(latitude_degrees=self.__class__.obslat,\n",
    "#                   longitude_degrees=self.__class__.obslon,\n",
    "#                   elevation_m=self.__class__.obselev) # topocentric calculation\n",
    "\n",
    "e0 = earth.at(t0)\n",
    "e1 = earth.at(t1)\n",
    "x0, y0, z0 = e0.ecliptic_xyz().au\n",
    "x1, y1, z1 = e1.ecliptic_xyz().au\n",
    "\n",
    "d_earth = sqrt((x1 - x0)**2 + (y1 - y0)**2 + (z1 - z0)**2)\n",
    "\n",
    "obs = Observe(rock)\n",
    "\n",
    "rate = sqrt(obs.ra_rate.to(u.arcsec/u.hour)**2 * cos(obs.dec)**2 + obs.dec_rate.to(u.arcsec/u.hour)**2)\n",
    "\n",
    "estimated.append(d_earth / tan(rate * 4 *u.h))\n",
    "true.append(sqrt(obs.xT.au**2 + obs.yT.au**2 + obs.zT.au**2))\n",
    "    \n",
    "true = array(true)\n",
    "estimated = array(estimated)\n",
    "\n",
    "error = abs(true - estimated) / true\n",
    "    \n"
   ]
  },
  {
   "cell_type": "code",
   "execution_count": null,
   "metadata": {},
   "outputs": [],
   "source": [
    "fig, ax = plt.subplots(figsize=(18, 18))\n",
    "\n",
    "sc = ax.scatter(obs.elong.deg, error, alpha=0.01, s=1, color='black')\n",
    "    \n",
    "\n",
    "ax.tick_params(labelsize=14)\n",
    "ax.set_xlabel('elongation', fontsize=24, labelpad=20)\n",
    "ax.set_ylabel('Distance Relative Error', fontsize=24, labelpad=20)\n",
    "ax.set_xlim([0, 180]);\n",
    "ax.set_ylim([0.001, 1])\n",
    "ax.set_yscale('log');"
   ]
  },
  {
   "cell_type": "code",
   "execution_count": null,
   "metadata": {},
   "outputs": [],
   "source": []
  }
 ],
 "metadata": {
  "kernelspec": {
   "display_name": "Python 3",
   "language": "python",
   "name": "python3"
  },
  "language_info": {
   "codemirror_mode": {
    "name": "ipython",
    "version": 3
   },
   "file_extension": ".py",
   "mimetype": "text/x-python",
   "name": "python",
   "nbconvert_exporter": "python",
   "pygments_lexer": "ipython3",
   "version": "3.8.5"
  }
 },
 "nbformat": 4,
 "nbformat_minor": 4
}
