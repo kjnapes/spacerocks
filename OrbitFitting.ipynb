{
 "cells": [
  {
   "cell_type": "code",
   "execution_count": 1,
   "metadata": {
    "scrolled": false
   },
   "outputs": [],
   "source": [
    "from spacerocks import SpaceRock, Units, Orbfit\n",
    "import numpy as np\n",
    "\n",
    "from astropy import units as u\n",
    "\n",
    "import matplotlib.pyplot as plt\n",
    "%matplotlib inline"
   ]
  },
  {
   "cell_type": "code",
   "execution_count": 4,
   "metadata": {},
   "outputs": [],
   "source": [
    "units = Units()\n",
    "units.angle = 'deg'\n",
    "\n",
    "rocks = SpaceRock(a=46, \n",
    "                  e=0.2, \n",
    "                  inc=5, \n",
    "                  node=18, \n",
    "                  arg=23, \n",
    "                  t_peri=2480292.336343085,\n",
    "                  epoch=2459305.5, \n",
    "                  frame='barycentric',\n",
    "                  units=units)\n",
    "\n",
    "p, planets, sim = rocks.propagate(epochs=np.linspace(2459305.5, 2459305.5 + (24/12) * 365.25, 10), model=2)\n",
    "obs = p.observe(obscode='807')"
   ]
  },
  {
   "cell_type": "code",
   "execution_count": 5,
   "metadata": {},
   "outputs": [],
   "source": [
    "units = Units()\n",
    "units.ra = u.deg\n",
    "units.dec = u.deg\n",
    "\n",
    "o = Orbfit(ra=obs.ra.deg, dec=obs.dec.deg, epoch=obs.epoch.jd, obscode=807, units=units)"
   ]
  },
  {
   "cell_type": "code",
   "execution_count": 6,
   "metadata": {},
   "outputs": [],
   "source": [
    "elements, errs = o.get_elements()"
   ]
  },
  {
   "cell_type": "code",
   "execution_count": 7,
   "metadata": {},
   "outputs": [
    {
     "data": {
      "text/plain": [
       "({'a': 45.99530660145926,\n",
       "  'e': 0.19975727229422524,\n",
       "  'i': 4.999971303636641,\n",
       "  'lan': 18.000976350472477,\n",
       "  'aop': 22.996008289761487,\n",
       "  'top': 2480296.8288192656},\n",
       " {'a': 0.019108299557929597,\n",
       "  'e': 0.0009820003067377652,\n",
       "  'i': 0.00040581982383420314,\n",
       "  'lan': 0.00989719654973987,\n",
       "  'aop': 0.020897513658697037,\n",
       "  'top': 18.542212997830873})"
      ]
     },
     "execution_count": 7,
     "metadata": {},
     "output_type": "execute_result"
    }
   ],
   "source": [
    "elements, errs"
   ]
  },
  {
   "cell_type": "code",
   "execution_count": 8,
   "metadata": {},
   "outputs": [],
   "source": [
    "rock = o.spacerock"
   ]
  },
  {
   "cell_type": "code",
   "execution_count": 9,
   "metadata": {},
   "outputs": [],
   "source": [
    "import ephem"
   ]
  },
  {
   "cell_type": "code",
   "execution_count": 10,
   "metadata": {},
   "outputs": [],
   "source": [
    "date_start = ephem.date('2016/08/20')\n",
    "pos_pred = o.predict_pos(date_start)"
   ]
  },
  {
   "cell_type": "code",
   "execution_count": 12,
   "metadata": {},
   "outputs": [
    {
     "name": "stdout",
     "output_type": "stream",
     "text": [
      "{'ra': 5.403981161214716, 'dec': -0.40974930306980906, 'err': {'a': 3.367755466850203, 'b': 0.42363701292311196, 'PA': 72.50321046215467}, 'elong': 158.00184597634043, 'opp': 201.48548195858194}\n"
     ]
    }
   ],
   "source": [
    "print(pos_pred)"
   ]
  },
  {
   "cell_type": "markdown",
   "metadata": {},
   "source": [
    "---"
   ]
  }
 ],
 "metadata": {
  "kernelspec": {
   "display_name": "Python 3",
   "language": "python",
   "name": "python3"
  },
  "language_info": {
   "codemirror_mode": {
    "name": "ipython",
    "version": 3
   },
   "file_extension": ".py",
   "mimetype": "text/x-python",
   "name": "python",
   "nbconvert_exporter": "python",
   "pygments_lexer": "ipython3",
   "version": "3.9.2"
  }
 },
 "nbformat": 4,
 "nbformat_minor": 4
}
