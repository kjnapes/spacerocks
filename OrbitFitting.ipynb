{
 "cells": [
  {
   "cell_type": "code",
   "execution_count": 1,
   "metadata": {
    "scrolled": false
   },
   "outputs": [],
   "source": [
    "from spacerocks import SpaceRock, Units, Orbfit\n",
    "import numpy as np\n",
    "\n",
    "from astropy import units as u\n",
    "\n",
    "import matplotlib.pyplot as plt\n",
    "%matplotlib inline"
   ]
  },
  {
   "cell_type": "code",
   "execution_count": 42,
   "metadata": {},
   "outputs": [],
   "source": [
    "units = Units()\n",
    "units.angle = 'deg'\n",
    "\n",
    "rocks = SpaceRock(a=46, \n",
    "                  e=0.2, \n",
    "                  inc=5, \n",
    "                  node=18, \n",
    "                  arg=23, \n",
    "                  t_peri=2480292.336343085,\n",
    "                  epoch=2459305.5, \n",
    "                  frame='barycentric',\n",
    "                  units=units)\n",
    "\n",
    "p, planets, sim = rocks.propagate(epochs=np.linspace(2459305.5, 2459305.5 + (1/12) * 365.25, 10000), model=2)\n",
    "obs = p.observe(obscode='807')"
   ]
  },
  {
   "cell_type": "code",
   "execution_count": null,
   "metadata": {},
   "outputs": [],
   "source": [
    "units = Units()\n",
    "units.ra = u.deg\n",
    "units.dec = u.deg\n",
    "\n",
    "o = Orbfit(ra=obs.ra.deg, dec=obs.dec.deg, epoch=obs.epoch.jd, obscode=807, units=units)"
   ]
  },
  {
   "cell_type": "code",
   "execution_count": null,
   "metadata": {},
   "outputs": [],
   "source": [
    "elements, errs = o.get_elements()"
   ]
  },
  {
   "cell_type": "code",
   "execution_count": 41,
   "metadata": {},
   "outputs": [
    {
     "data": {
      "text/plain": [
       "({'a': 45.849143168893754,\n",
       "  'e': 0.1899078327129414,\n",
       "  'i': 4.999608612571061,\n",
       "  'lan': 18.01030676951398,\n",
       "  'aop': 22.700827422552635,\n",
       "  'top': 2480459.0256844833},\n",
       " {'a': 2.0338116267335495,\n",
       "  'e': 0.13694715302096197,\n",
       "  'i': 0.0071760448951904724,\n",
       "  'lan': 0.18526138080459648,\n",
       "  'aop': 3.889913854213307,\n",
       "  'top': 2318.3537692210434})"
      ]
     },
     "execution_count": 41,
     "metadata": {},
     "output_type": "execute_result"
    }
   ],
   "source": [
    "elements, errs"
   ]
  },
  {
   "cell_type": "code",
   "execution_count": 33,
   "metadata": {},
   "outputs": [],
   "source": [
    "rock = o.spacerock"
   ]
  },
  {
   "cell_type": "markdown",
   "metadata": {},
   "source": [
    "---"
   ]
  }
 ],
 "metadata": {
  "kernelspec": {
   "display_name": "Python 3",
   "language": "python",
   "name": "python3"
  },
  "language_info": {
   "codemirror_mode": {
    "name": "ipython",
    "version": 3
   },
   "file_extension": ".py",
   "mimetype": "text/x-python",
   "name": "python",
   "nbconvert_exporter": "python",
   "pygments_lexer": "ipython3",
   "version": "3.9.2"
  }
 },
 "nbformat": 4,
 "nbformat_minor": 4
}
