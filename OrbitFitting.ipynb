{
 "cells": [
  {
   "cell_type": "code",
   "execution_count": 17,
   "metadata": {},
   "outputs": [],
   "source": [
    "from spacerocks import SpaceRock, Units\n",
    "import numpy as np\n",
    "\n",
    "from astropy import units as u\n",
    "from astropy.time import Time\n",
    "import matplotlib.pyplot as plt\n",
    "%matplotlib inline\n",
    "\n",
    "units = Units()\n",
    "units.timescale = 'tdb'\n",
    "#units.current()\n",
    "\n",
    "#rock = SpaceRock(a=4.327825657409375E+02, \n",
    "#                 e=9.185882992879753E-01, \n",
    "#                 inc=5.413121974184833E+01, \n",
    "#                 node=1.350508167296842E+02, \n",
    "#                 arg=3.482436748740575E+02, \n",
    "#                 M=3.584598907033508E+02, \n",
    "#                 epoch=24589?82.500000000, \n",
    "#                 H0=4.4,\n",
    "#                 name='2015 BP519',\n",
    "#                 frame='heliocentric',\n",
    "#                 units=units)\n",
    "\n",
    "rock = SpaceRock(a=2.765985763166805E+00, \n",
    "                 e=7.821081922804583E-02, \n",
    "                 inc=1.058793079235974E+01, \n",
    "                 node=8.027114319577151E+01, \n",
    "                 arg=7.373012101495385E+01, \n",
    "                 M=2.108992101403974E+02, \n",
    "                 epoch=2459225.500000000, \n",
    "                 H0=3.53,\n",
    "                 G=0.12,\n",
    "                 name='Ceres',\n",
    "                 frame='heliocentric',\n",
    "                 units=units)\n",
    "\n",
    "#rock = SpaceRock(x=2.899956856761939E+00, \n",
    "#                 y=4.830845049759105E-02, \n",
    "#                 z=-5.340760077627554E-01, \n",
    "#                 vx=-4.466056534856986E-04, \n",
    "#                 vy=9.633109832631537E-03, \n",
    "#                 vz=3.857239030382092E-04, \n",
    "#                 epoch=2459225.500000000, \n",
    "#                 H0=3.53,\n",
    "#                 G=0.12,\n",
    "#                 name='Ceres',\n",
    "#                 frame='barycentric',\n",
    "#                 units=units)\n",
    "\n",
    "\n",
    "units = Units()\n",
    "units.timescale = 'utc'\n",
    "\n",
    "p = rock.propagate([2459225.5, 2459226.5], model=2, units=units)"
   ]
  },
  {
   "cell_type": "code",
   "execution_count": 18,
   "metadata": {},
   "outputs": [],
   "source": [
    "%precision 16\n",
    "o = rock.observe(obscode=500)\n",
    "op = p.observe(obscode=500)"
   ]
  },
  {
   "cell_type": "code",
   "execution_count": 19,
   "metadata": {},
   "outputs": [
    {
     "data": {
      "text/plain": [
       "(hms_tuple(h=array([23.]), m=array([18.]), s=array([41.541927457506915])),\n",
       " dms_tuple(d=array([-14.]), m=array([-14.]), s=array([-14.258486358416036])),\n",
       " <Quantity [3.4125073607222514] AU>,\n",
       " <Quantity [9.42012466072214]>)"
      ]
     },
     "execution_count": 19,
     "metadata": {},
     "output_type": "execute_result"
    }
   ],
   "source": [
    "o.ra.hms, o.dec.dms, o.delta, o.mag"
   ]
  },
  {
   "cell_type": "code",
   "execution_count": 20,
   "metadata": {},
   "outputs": [
    {
     "data": {
      "text/plain": [
       "(hms_tuple(h=array([23., 23.]), m=array([18., 19.]), s=array([41.59835643528538, 52.27028611716861])),\n",
       " dms_tuple(d=array([-14., -14.]), m=array([-14.,  -4.]), s=array([-13.791327334221961, -29.506334694537486])),\n",
       " <Quantity [3.4125162361559487, 3.423550889821151 ] AU>,\n",
       " <Quantity [9.420126481255286, 9.42232009584144 ]>)"
      ]
     },
     "execution_count": 20,
     "metadata": {},
     "output_type": "execute_result"
    }
   ],
   "source": [
    "op.ra.hms, op.dec.dms, op.delta, op.mag"
   ]
  },
  {
   "cell_type": "markdown",
   "metadata": {},
   "source": [
    "## Earth\n",
    "\n",
    "2459225.500000000 = A.D. 2021-Jan-11 00:00:00.0000 TDB \n",
    "\n",
    "X =-3.541466815795880E-01 \n",
    "\n",
    "Y = 9.259818046222517E-01 \n",
    "\n",
    "Z = 6.579327077401820E-05\n",
    "\n",
    "VX=-1.638956931455718E-02 \n",
    "\n",
    "VY=-6.147606423658539E-03 \n",
    "\n",
    "VZ= 1.230618652396049E-06\n"
   ]
  },
  {
   "cell_type": "code",
   "execution_count": null,
   "metadata": {},
   "outputs": [],
   "source": [
    "from skyfield.api import Topos, Loader\n",
    "# Load in planets for ephemeride calculation.\n",
    "load = Loader('./Skyfield-Data', expire=True, verbose=True)\n",
    "ts = load.timescale(builtin=False)\n",
    "planets = load('de441.bsp')"
   ]
  },
  {
   "cell_type": "code",
   "execution_count": null,
   "metadata": {},
   "outputs": [],
   "source": [
    "t = ts.tdb(jd=rock.epoch.tdb.jd)\n",
    "earth = planets['earth']"
   ]
  },
  {
   "cell_type": "code",
   "execution_count": null,
   "metadata": {},
   "outputs": [],
   "source": [
    "t1 = ts.tai(jd=rock.epoch.tdb.jd + 32.184/86400)\n",
    "t2 = ts.tdb(jd=rock.epoch.tdb.jd)"
   ]
  },
  {
   "cell_type": "code",
   "execution_count": null,
   "metadata": {},
   "outputs": [],
   "source": [
    "ts.tdb_jd(t1.whole, t1.tdb_fraction - 0.3)"
   ]
  },
  {
   "cell_type": "code",
   "execution_count": null,
   "metadata": {},
   "outputs": [],
   "source": [
    "help(ts.tdb_jd)"
   ]
  },
  {
   "cell_type": "code",
   "execution_count": null,
   "metadata": {},
   "outputs": [],
   "source": [
    "(JDTDB.jd - JDUTC.jd) * 86400"
   ]
  },
  {
   "cell_type": "code",
   "execution_count": null,
   "metadata": {},
   "outputs": [],
   "source": [
    "t1.tdb - t1.ut1 - t1.dut1/86400"
   ]
  },
  {
   "cell_type": "code",
   "execution_count": null,
   "metadata": {},
   "outputs": [],
   "source": [
    "t1.dut1"
   ]
  },
  {
   "cell_type": "code",
   "execution_count": null,
   "metadata": {},
   "outputs": [],
   "source": [
    "e = earth.at(t)"
   ]
  },
  {
   "cell_type": "code",
   "execution_count": null,
   "metadata": {},
   "outputs": [],
   "source": [
    "from skyfield.framelib import ecliptic_J2000_frame"
   ]
  },
  {
   "cell_type": "code",
   "execution_count": null,
   "metadata": {},
   "outputs": [],
   "source": [
    "x, y, z = e.position.au"
   ]
  },
  {
   "cell_type": "code",
   "execution_count": null,
   "metadata": {},
   "outputs": [],
   "source": [
    "from astropy.coordinates import Angle\n",
    "epsilon = Angle(84381.448, u.arcsec)"
   ]
  },
  {
   "cell_type": "code",
   "execution_count": null,
   "metadata": {},
   "outputs": [],
   "source": [
    "print(x, y * np.cos(epsilon) + z * np.sin(epsilon), y * np.sin(epsilon) - z * np.cos(epsilon))"
   ]
  },
  {
   "cell_type": "code",
   "execution_count": null,
   "metadata": {},
   "outputs": [],
   "source": [
    "%precision 16\n",
    "print(e.ecliptic_xyz().au)\n",
    "print(e.ecliptic_velocity().au_per_d)"
   ]
  },
  {
   "cell_type": "code",
   "execution_count": null,
   "metadata": {},
   "outputs": [],
   "source": [
    "x, y, z = e.position.au"
   ]
  },
  {
   "cell_type": "code",
   "execution_count": null,
   "metadata": {},
   "outputs": [],
   "source": [
    "np.sqrt(x**2 + y**2 + z**2)"
   ]
  },
  {
   "cell_type": "code",
   "execution_count": null,
   "metadata": {
    "scrolled": false
   },
   "outputs": [],
   "source": [
    "from spacerocks import SpaceRock, Units\n",
    "import numpy as np\n",
    "\n",
    "import matplotlib.pyplot as plt\n",
    "%matplotlib inline\n",
    "\n",
    "units = Units()\n",
    "units.current()\n",
    "\n",
    "N = 3\n",
    "rocks = SpaceRock(a=np.random.uniform(30, 100, N), \n",
    "                  e=np.random.rand(N) * 0.5, \n",
    "                  inc=np.random.uniform(0, 90, N), \n",
    "                  node=np.random.uniform(0, 360, N), \n",
    "                  arg=np.random.uniform(0, 360, N), \n",
    "                  M=np.random.uniform(0, 360, N), \n",
    "                  epoch=np.repeat(2459305.5, N), \n",
    "                  H0=np.random.uniform(4, 10, N),\n",
    "                  #delta_H = np.random.uniform(0.1, 0.5, N),\n",
    "                  #rotation_period = np.random.uniform(0.2, 1, N),\n",
    "                  #phi0 = np.random.rand(N) * 360,\n",
    "                  name=[str(x) for x in range(N)],\n",
    "                  frame='barycentric',\n",
    "                  units=units)\n",
    "\n",
    "p = rocks.propagate(epochs=np.linspace(2459305.5, 2459315.5, 100), model=2)\n",
    "o = p.observe(obscode='W84')\n",
    "\n",
    "colors = [float(hash(s) % 256) / 256 for s in o.name]\n",
    "\n",
    "fig, ax = plt.subplots(2, 1, figsize=(18, 12), sharex=True)\n",
    "ax[0].scatter((o.epoch.jd - o.epoch.jd[0]) / 365.25, o.mag, s=1, c=colors, cmap='turbo')\n",
    "ax[0].tick_params(labelsize=16)\n",
    "ax[0].set_ylabel('mag', fontsize=24, labelpad=30)\n",
    "\n",
    "ax[1].scatter((o.epoch.jd - o.epoch.jd[0]) / 365.25, o.H, s=1, c=colors, cmap='turbo')\n",
    "ax[1].tick_params(labelsize=16)\n",
    "ax[1].set_xlabel(r'$\\Delta t$ (years)', fontsize=24, labelpad=30)\n",
    "ax[1].set_ylabel('H', fontsize=24, labelpad=30, rotation=0)\n",
    "\n",
    "fig.tight_layout()"
   ]
  },
  {
   "cell_type": "code",
   "execution_count": null,
   "metadata": {},
   "outputs": [],
   "source": [
    "rocks.to_helio()"
   ]
  },
  {
   "cell_type": "code",
   "execution_count": null,
   "metadata": {},
   "outputs": [],
   "source": [
    "p.H0"
   ]
  },
  {
   "cell_type": "code",
   "execution_count": null,
   "metadata": {},
   "outputs": [],
   "source": [
    "N = 3\n",
    "rocks = SpaceRock(a=np.random.uniform(30, 100, N), \n",
    "                  e=np.random.rand(N) * 0.5, \n",
    "                  inc=np.random.uniform(0, 90, N), \n",
    "                  node=np.random.uniform(0, 360, N), \n",
    "                  arg=np.random.uniform(0, 360, N), \n",
    "                  M=np.random.uniform(0, 360, N), \n",
    "                  epoch=np.repeat(2459305.5, N), \n",
    "                  H0=np.random.uniform(4, 10, N),\n",
    "                  delta_H=np.random.uniform(0.1, 0.5, N),\n",
    "                  rotation_period=np.random.uniform(0.2, 1, N),\n",
    "                  phi0 = np.random.rand(N) * 360,\n",
    "                  name=np.array([str(x) for x in range(N)]),\n",
    "                  frame='barycentric',\n",
    "                  units=units)"
   ]
  },
  {
   "cell_type": "code",
   "execution_count": null,
   "metadata": {},
   "outputs": [],
   "source": [
    "rocks.t_peri\n",
    "rocks.true_anomaly\n",
    "rocks.mean_longitude\n",
    "rocks.true_longitude\n",
    "rocks.p\n",
    "rocks.b\n",
    "rocks.q\n",
    "rocks.Q\n",
    "rocks.n\n",
    "rocks.rrdot\n",
    "rocks.r\n",
    "rocks.TisserandJ\n",
    "rocks.frame\n",
    "rocks.mu"
   ]
  },
  {
   "cell_type": "code",
   "execution_count": null,
   "metadata": {},
   "outputs": [],
   "source": [
    "rocks.__dict__"
   ]
  },
  {
   "cell_type": "code",
   "execution_count": null,
   "metadata": {},
   "outputs": [],
   "source": [
    "np.atleast_1d(np.random.uniform(0.0, 0.6, 10))"
   ]
  },
  {
   "cell_type": "code",
   "execution_count": null,
   "metadata": {},
   "outputs": [],
   "source": [
    "rocks[rocks.a.au > 50].frame"
   ]
  },
  {
   "cell_type": "code",
   "execution_count": null,
   "metadata": {},
   "outputs": [],
   "source": [
    "rocks.__dict__"
   ]
  },
  {
   "cell_type": "code",
   "execution_count": null,
   "metadata": {},
   "outputs": [],
   "source": [
    "np.ones(100) * rocks.epoch.jd"
   ]
  },
  {
   "cell_type": "code",
   "execution_count": null,
   "metadata": {},
   "outputs": [],
   "source": [
    "np.atleast_1d(10)"
   ]
  },
  {
   "cell_type": "code",
   "execution_count": null,
   "metadata": {},
   "outputs": [],
   "source": [
    "len(rocks.epoch.jd)"
   ]
  },
  {
   "cell_type": "code",
   "execution_count": null,
   "metadata": {},
   "outputs": [],
   "source": [
    "from spacerocks import SpaceRock, Units"
   ]
  },
  {
   "cell_type": "code",
   "execution_count": null,
   "metadata": {},
   "outputs": [],
   "source": [
    "spacerocks.__version__"
   ]
  },
  {
   "cell_type": "code",
   "execution_count": null,
   "metadata": {},
   "outputs": [],
   "source": [
    "dict = {'name':rocks.name, \n",
    "        'epoch':rocks.epoch, \n",
    "        'a':rocks.a.au, \n",
    "        'e':rocks.e, \n",
    "        'inc':rocks.inc.deg, \n",
    "        'node':rocks.node.deg, \n",
    "        'arg':rocks.arg.deg,\n",
    "        'M':rocks.M.deg,\n",
    "        'H0':rocks.H0,\n",
    "        'delta_H':rocks.delta_H,\n",
    "        'rotation_period':rocks.rotation_period,\n",
    "        'phi0':rocks.phi0.deg}\n",
    "df = pd.DataFrame.from_dict(dict)"
   ]
  },
  {
   "cell_type": "code",
   "execution_count": null,
   "metadata": {},
   "outputs": [],
   "source": [
    "df"
   ]
  },
  {
   "cell_type": "code",
   "execution_count": null,
   "metadata": {},
   "outputs": [],
   "source": [
    "import spacerocks"
   ]
  },
  {
   "cell_type": "code",
   "execution_count": null,
   "metadata": {},
   "outputs": [],
   "source": [
    "spacerocks.__version__"
   ]
  },
  {
   "cell_type": "code",
   "execution_count": null,
   "metadata": {},
   "outputs": [],
   "source": [
    "from spacerocks import SpaceRock, Units"
   ]
  },
  {
   "cell_type": "code",
   "execution_count": null,
   "metadata": {},
   "outputs": [],
   "source": [
    "units.angle = 'rad'"
   ]
  },
  {
   "cell_type": "code",
   "execution_count": null,
   "metadata": {},
   "outputs": [],
   "source": [
    "units.current()"
   ]
  },
  {
   "cell_type": "code",
   "execution_count": null,
   "metadata": {},
   "outputs": [],
   "source": [
    "import pandas as pd\n",
    "from astropy import units as u\n",
    "dict = {'name':o.name, \n",
    "        'epoch':o.epoch, \n",
    "        'ra':o.ra.deg, \n",
    "        'dec':o.dec.deg, \n",
    "        'ra_rate':o.ra_rate.to(u.deg/u.day), \n",
    "        'dec_rate':o.dec_rate.to(u.deg/u.day), \n",
    "        'mag':o.mag,\n",
    "        'H':o.H}\n",
    "df = pd.DataFrame.from_dict(dict)"
   ]
  },
  {
   "cell_type": "code",
   "execution_count": null,
   "metadata": {},
   "outputs": [],
   "source": [
    "df"
   ]
  },
  {
   "cell_type": "code",
   "execution_count": null,
   "metadata": {},
   "outputs": [],
   "source": [
    "o.dec_rate"
   ]
  },
  {
   "cell_type": "code",
   "execution_count": null,
   "metadata": {},
   "outputs": [],
   "source": []
  },
  {
   "cell_type": "code",
   "execution_count": null,
   "metadata": {},
   "outputs": [],
   "source": [
    "N = 10\n",
    "rock = SpaceRock(a=np.random.uniform(30, 100, N), \n",
    "                 e=np.random.rand(N), \n",
    "                 inc=np.random.uniform(0, 90, N), \n",
    "                 node=np.random.uniform(0, 360, N), \n",
    "                 arg=np.random.uniform(0, 360, N), \n",
    "                 M=np.random.uniform(0, 360, N), \n",
    "                 epoch=np.repeat(2459305.5, N), \n",
    "                 H0=np.random.uniform(4, 10, N),\n",
    "                 delta_H = np.random.uniform(0.1, 0.5, N), # amplitude\n",
    "                 rotation_period = np.random.uniform(0.2, 1, N), # period in days\n",
    "                 phi0 = np.random.rand(N) * 360, # initial phase in radians\n",
    "                 frame='barycentric',\n",
    "                 units=units)\n",
    "\n",
    "p = rock.propagate(epochs=np.linspace(2459305.5, 2499955.5, 10000), model=2)\n",
    "o = p.observe(obscode='W84')\n",
    "\n",
    "colors = [float(hash(s) % 256) / 256 for s in o.name]\n",
    "\n",
    "fig, ax = plt.subplots(figsize=(18, 6))\n",
    "ax.scatter((o.epoch.jd - o.epoch.jd[0]) / 365.25, o.mag, s=1, c=colors, cmap='turbo')\n",
    "ax.tick_params(labelsize=16)\n",
    "ax.set_xlabel(r'$\\Delta t$ (years)', fontsize=24, labelpad=30)\n",
    "ax.set_ylabel('mag', fontsize=24, labelpad=30)\n",
    "\n",
    "fig, ax = plt.subplots(figsize=(18, 6))\n",
    "ax.scatter((o.epoch.jd - o.epoch.jd[0]) / 365.25, o.H, s=1, c=colors, cmap='turbo')\n",
    "ax.tick_params(labelsize=16)\n",
    "ax.set_xlabel(r'$\\Delta t$ (years)', fontsize=24, labelpad=30)\n",
    "ax.set_ylabel('H', fontsize=24, labelpad=30, rotation=0)"
   ]
  },
  {
   "cell_type": "code",
   "execution_count": null,
   "metadata": {},
   "outputs": [],
   "source": []
  },
  {
   "cell_type": "code",
   "execution_count": null,
   "metadata": {},
   "outputs": [],
   "source": [
    "N = 1\n",
    "rock = SpaceRock(a=30, \n",
    "                 e=0, \n",
    "                 inc=0, \n",
    "                 node=0, \n",
    "                 arg=0, \n",
    "                 M=0, \n",
    "                 H=5,\n",
    "                 delta_H=np.array([0.5]),\n",
    "                 phi0=np.array([0]),\n",
    "                 rotation_period=np.array([0.25]),\n",
    "                 epoch=np.repeat(2459305.5, N), \n",
    "                 frame='barycentric', units=units)"
   ]
  },
  {
   "cell_type": "code",
   "execution_count": null,
   "metadata": {},
   "outputs": [],
   "source": [
    "pr = rock.propagate(epochs=np.linspace(2459305.5, 2459355.5, 50), model=2)"
   ]
  },
  {
   "cell_type": "code",
   "execution_count": null,
   "metadata": {},
   "outputs": [],
   "source": []
  },
  {
   "cell_type": "code",
   "execution_count": null,
   "metadata": {},
   "outputs": [],
   "source": [
    "fig, ax = plt.subplots(figsize=(18, 18))\n",
    "\n",
    "true = []\n",
    "estimated = []\n",
    "elong = []\n",
    "\n",
    "N = 10000000\n",
    "rock = SpaceRock(a=np.random.uniform(30, 500, N), \n",
    "                 e=np.random.rand(N), \n",
    "                 inc=np.random.uniform(0, 90, N), \n",
    "                 node=np.random.uniform(0, 360, N), \n",
    "                 arg=np.random.uniform(0, 360, N), \n",
    "                 M=np.random.uniform(0, 360, N), \n",
    "                 epoch=np.repeat(2459305.5, N), \n",
    "                 frame='barycentric', units=units)\n",
    "\n",
    "\n",
    "t0 = ts.tdb(jd=rock.epoch.tdb.jd)\n",
    "t1 = ts.tdb(jd=rock.epoch.tdb.jd + 4/24)\n",
    "earth = planets['earth']\n",
    "\n",
    "# Only used for the topocentric calculation.\n",
    "#if self.__class__.obscode != 500:\n",
    "#    earth += Topos(latitude_degrees=self.__class__.obslat,\n",
    "#                   longitude_degrees=self.__class__.obslon,\n",
    "#                   elevation_m=self.__class__.obselev) # topocentric calculation\n",
    "\n",
    "e0 = earth.at(t0)\n",
    "e1 = earth.at(t1)\n",
    "x0, y0, z0 = e0.ecliptic_xyz().au\n",
    "x1, y1, z1 = e1.ecliptic_xyz().au\n",
    "\n",
    "d_earth = sqrt((x1 - x0)**2 + (y1 - y0)**2 + (z1 - z0)**2)\n",
    "\n",
    "obs = Observe(rock)\n",
    "\n",
    "rate = sqrt(obs.ra_rate.to(u.arcsec/u.hour)**2 * cos(obs.dec)**2 + obs.dec_rate.to(u.arcsec/u.hour)**2)\n",
    "\n",
    "estimated.append(d_earth / tan(rate * 4 *u.h))\n",
    "true.append(sqrt(obs.xT.au**2 + obs.yT.au**2 + obs.zT.au**2))\n",
    "    \n",
    "true = array(true)\n",
    "estimated = array(estimated)\n",
    "\n",
    "error = abs(true - estimated) / true\n",
    "    \n"
   ]
  },
  {
   "cell_type": "code",
   "execution_count": null,
   "metadata": {},
   "outputs": [],
   "source": [
    "fig, ax = plt.subplots(figsize=(18, 18))\n",
    "\n",
    "sc = ax.scatter(obs.elong.deg, error, alpha=0.01, s=1, color='black')\n",
    "    \n",
    "\n",
    "ax.tick_params(labelsize=14)\n",
    "ax.set_xlabel('elongation', fontsize=24, labelpad=20)\n",
    "ax.set_ylabel('Distance Relative Error', fontsize=24, labelpad=20)\n",
    "ax.set_xlim([0, 180]);\n",
    "ax.set_ylim([0.001, 1])\n",
    "ax.set_yscale('log');"
   ]
  },
  {
   "cell_type": "code",
   "execution_count": null,
   "metadata": {},
   "outputs": [],
   "source": []
  }
 ],
 "metadata": {
  "kernelspec": {
   "display_name": "Python 3",
   "language": "python",
   "name": "python3"
  },
  "language_info": {
   "codemirror_mode": {
    "name": "ipython",
    "version": 3
   },
   "file_extension": ".py",
   "mimetype": "text/x-python",
   "name": "python",
   "nbconvert_exporter": "python",
   "pygments_lexer": "ipython3",
   "version": "3.9.2"
  }
 },
 "nbformat": 4,
 "nbformat_minor": 4
}
