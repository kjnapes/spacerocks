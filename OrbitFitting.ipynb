{
 "cells": [
  {
   "cell_type": "code",
   "execution_count": 1,
   "metadata": {
    "scrolled": false
   },
   "outputs": [],
   "source": [
    "from spacerocks import SpaceRock, Units, Orbfit\n",
    "import numpy as np\n",
    "\n",
    "from astropy import units as u\n",
    "\n",
    "import matplotlib.pyplot as plt\n",
    "%matplotlib inline"
   ]
  },
  {
   "cell_type": "code",
   "execution_count": 3,
   "metadata": {},
   "outputs": [],
   "source": [
    "units = Units()\n",
    "units.angle = 'deg'\n",
    "\n",
    "rocks = SpaceRock(a=30, \n",
    "                  e=0.2, \n",
    "                  inc=5, \n",
    "                  node=18, \n",
    "                  arg=23, \n",
    "                  t_peri=2480292.336343085,\n",
    "                  epoch=2459305.5, \n",
    "                  frame='barycentric',\n",
    "                  units=units)\n",
    "\n",
    "p, planets, sim = rocks.propagate(epochs=np.linspace(2459305.5, 2459305.5 + 2 * 365.25, 10), model=2)\n",
    "obs = p.observe(obscode='807')"
   ]
  },
  {
   "cell_type": "code",
   "execution_count": 4,
   "metadata": {},
   "outputs": [],
   "source": [
    "units = Units()\n",
    "units.ra = u.deg\n",
    "units.dec = u.deg\n",
    "\n",
    "o = Orbfit(ra=obs.ra.deg, dec=obs.dec.deg, epoch=obs.epoch.jd, obscode=807, units=units)"
   ]
  },
  {
   "cell_type": "code",
   "execution_count": 5,
   "metadata": {},
   "outputs": [],
   "source": [
    "elements, errs = o.get_elements()"
   ]
  },
  {
   "cell_type": "code",
   "execution_count": 6,
   "metadata": {},
   "outputs": [
    {
     "data": {
      "text/plain": [
       "({'a': 29.999505351417973,\n",
       "  'e': 0.19999965990194232,\n",
       "  'i': 5.000008720221469,\n",
       "  'lan': 17.999905179194148,\n",
       "  'aop': 23.00529164908411,\n",
       "  'top': 2480292.987904245},\n",
       " {'a': 0.0033216534735220865,\n",
       "  'e': 0.0002465900490184061,\n",
       "  'i': 0.0003235969126326204,\n",
       "  'lan': 0.007196824550353988,\n",
       "  'aop': 0.08448307772452943,\n",
       "  'top': 14.872989861610343})"
      ]
     },
     "execution_count": 6,
     "metadata": {},
     "output_type": "execute_result"
    }
   ],
   "source": [
    "elements, errs"
   ]
  },
  {
   "cell_type": "code",
   "execution_count": 8,
   "metadata": {},
   "outputs": [],
   "source": [
    "rock = o.spacerock"
   ]
  },
  {
   "cell_type": "code",
   "execution_count": 13,
   "metadata": {},
   "outputs": [
    {
     "data": {
      "text/plain": [
       "(<Distance [29.99950535] AU>, array([0.19999966]), array([5.00000872]))"
      ]
     },
     "execution_count": 13,
     "metadata": {},
     "output_type": "execute_result"
    }
   ],
   "source": [
    "rock.a, rock.e, rock.inc.deg"
   ]
  },
  {
   "cell_type": "markdown",
   "metadata": {},
   "source": [
    "---"
   ]
  }
 ],
 "metadata": {
  "kernelspec": {
   "display_name": "Python 3",
   "language": "python",
   "name": "python3"
  },
  "language_info": {
   "codemirror_mode": {
    "name": "ipython",
    "version": 3
   },
   "file_extension": ".py",
   "mimetype": "text/x-python",
   "name": "python",
   "nbconvert_exporter": "python",
   "pygments_lexer": "ipython3",
   "version": "3.9.2"
  }
 },
 "nbformat": 4,
 "nbformat_minor": 4
}
