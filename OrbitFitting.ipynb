{
 "cells": [
  {
   "cell_type": "code",
   "execution_count": 3,
   "metadata": {},
   "outputs": [],
   "source": [
    "from spacerocks import SpaceRock, Units\n",
    "from astropy import units as u\n",
    "\n",
    "import matplotlib.pyplot as plt\n",
    "%matplotlib inline\n",
    "\n",
    "units = Units()\n",
    "units.angle = u.deg"
   ]
  },
  {
   "cell_type": "code",
   "execution_count": 4,
   "metadata": {},
   "outputs": [],
   "source": [
    "from numpy import sqrt, cos, tan, linspace, array\n",
    "import numpy as np"
   ]
  },
  {
   "cell_type": "code",
   "execution_count": 5,
   "metadata": {},
   "outputs": [],
   "source": [
    "from skyfield.api import Topos, Loader\n",
    "\n",
    "\n",
    "load = Loader('./Skyfield-Data', expire=False, verbose=False)\n",
    "ts = load.timescale()\n",
    "planets = load('de423.bsp')"
   ]
  },
  {
   "cell_type": "code",
   "execution_count": 6,
   "metadata": {},
   "outputs": [],
   "source": [
    "N = 3\n",
    "rock = SpaceRock(a=[30, 30, 30], \n",
    "                 e=[0.9, 1.0, 1.1], \n",
    "                 inc=[0, 0, 0], \n",
    "                 node=[30, 30, 30], \n",
    "                 arg=[30, 30, 30], \n",
    "                 M=[10, 10, 10], \n",
    "                 epoch=np.repeat(2459305.5, N), \n",
    "                 frame='barycentric', units=units)"
   ]
  },
  {
   "cell_type": "code",
   "execution_count": 7,
   "metadata": {},
   "outputs": [
    {
     "data": {
      "text/plain": [
       "array([30., 30., 30.])"
      ]
     },
     "execution_count": 7,
     "metadata": {},
     "output_type": "execute_result"
    }
   ],
   "source": [
    "rock.node.deg"
   ]
  },
  {
   "cell_type": "code",
   "execution_count": null,
   "metadata": {},
   "outputs": [],
   "source": [
    "fig, ax = plt.subplots(figsize=(18, 18))\n",
    "\n",
    "true = []\n",
    "estimated = []\n",
    "elong = []\n",
    "\n",
    "N = 10000000\n",
    "rock = SpaceRock(a=np.random.uniform(30, 500, N), \n",
    "                 e=np.random.rand(N), \n",
    "                 inc=np.random.uniform(0, 90, N), \n",
    "                 node=np.random.uniform(0, 360, N), \n",
    "                 arg=np.random.uniform(0, 360, N), \n",
    "                 M=np.random.uniform(0, 360, N), \n",
    "                 epoch=np.repeat(2459305.5, N), \n",
    "                 frame='barycentric', units=units)\n",
    "\n",
    "\n",
    "t0 = ts.tdb(jd=rock.epoch.tdb.jd)\n",
    "t1 = ts.tdb(jd=rock.epoch.tdb.jd + 4/24)\n",
    "earth = planets['earth']\n",
    "\n",
    "# Only used for the topocentric calculation.\n",
    "#if self.__class__.obscode != 500:\n",
    "#    earth += Topos(latitude_degrees=self.__class__.obslat,\n",
    "#                   longitude_degrees=self.__class__.obslon,\n",
    "#                   elevation_m=self.__class__.obselev) # topocentric calculation\n",
    "\n",
    "e0 = earth.at(t0)\n",
    "e1 = earth.at(t1)\n",
    "x0, y0, z0 = e0.ecliptic_xyz().au\n",
    "x1, y1, z1 = e1.ecliptic_xyz().au\n",
    "\n",
    "d_earth = sqrt((x1 - x0)**2 + (y1 - y0)**2 + (z1 - z0)**2)\n",
    "\n",
    "obs = Observe(rock)\n",
    "\n",
    "rate = sqrt(obs.ra_rate.to(u.arcsec/u.hour)**2 * cos(obs.dec)**2 + obs.dec_rate.to(u.arcsec/u.hour)**2)\n",
    "\n",
    "estimated.append(d_earth / tan(rate * 4 *u.h))\n",
    "true.append(sqrt(obs.xT.au**2 + obs.yT.au**2 + obs.zT.au**2))\n",
    "    \n",
    "true = array(true)\n",
    "estimated = array(estimated)\n",
    "\n",
    "error = abs(true - estimated) / true\n",
    "    \n"
   ]
  },
  {
   "cell_type": "code",
   "execution_count": null,
   "metadata": {},
   "outputs": [],
   "source": [
    "fig, ax = plt.subplots(figsize=(18, 18))\n",
    "\n",
    "sc = ax.scatter(obs.elong.deg, error, alpha=0.01, s=1, color='black')\n",
    "    \n",
    "\n",
    "ax.tick_params(labelsize=14)\n",
    "ax.set_xlabel('elongation', fontsize=24, labelpad=20)\n",
    "ax.set_ylabel('Distance Relative Error', fontsize=24, labelpad=20)\n",
    "ax.set_xlim([0, 180]);\n",
    "ax.set_ylim([0.001, 1])\n",
    "ax.set_yscale('log');"
   ]
  },
  {
   "cell_type": "code",
   "execution_count": null,
   "metadata": {},
   "outputs": [],
   "source": []
  }
 ],
 "metadata": {
  "kernelspec": {
   "display_name": "Python 3",
   "language": "python",
   "name": "python3"
  },
  "language_info": {
   "codemirror_mode": {
    "name": "ipython",
    "version": 3
   },
   "file_extension": ".py",
   "mimetype": "text/x-python",
   "name": "python",
   "nbconvert_exporter": "python",
   "pygments_lexer": "ipython3",
   "version": "3.8.5"
  }
 },
 "nbformat": 4,
 "nbformat_minor": 4
}
