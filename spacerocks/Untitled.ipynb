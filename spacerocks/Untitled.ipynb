{
 "cells": [
  {
   "cell_type": "code",
   "execution_count": 1,
   "metadata": {},
   "outputs": [],
   "source": [
    "import rebound\n",
    "from spacerocks import SpaceRock\n",
    "import numpy as np"
   ]
  },
  {
   "cell_type": "code",
   "execution_count": 2,
   "metadata": {},
   "outputs": [],
   "source": [
    "rock = SpaceRock(a=1, e=0, inc=0, node=0, arg=0, M=np.pi, epoch=0, name=np.array(['test']))"
   ]
  },
  {
   "cell_type": "code",
   "execution_count": 3,
   "metadata": {},
   "outputs": [],
   "source": [
    "class Simulation(rebound.Simulation):\n",
    "    \n",
    "    def add_planets(self):\n",
    "        pass\n",
    "    \n",
    "    def add_rocks(self, rocks):\n",
    "        for rock in rocks:\n",
    "            sim.add(x=rock.x.au, \n",
    "                    y=rock.y.au, \n",
    "                    z=rock.z.au, \n",
    "                    vx=rock.vx.value, \n",
    "                    vy=rock.vy.value, \n",
    "                    vz=rock.vz.value, \n",
    "                    hash=rock.name)\n",
    "            \n",
    "    def to_spacerocks(self):\n",
    "        x = []\n",
    "        y = []\n",
    "        z = []\n",
    "        vx = []\n",
    "        vy = []\n",
    "        vz = []\n",
    "        mass = []\n",
    "        epoch = []\n",
    "        for p in self.particles:\n",
    "            x.append(p.x)\n",
    "            y.append(p.y)\n",
    "            z.append(p.z)\n",
    "            vx.append(p.vx)\n",
    "            vy.append(p.vy)\n",
    "            vz.append(p.vz)\n",
    "            mass.append(p.m)\n",
    "            epoch.append(self.t)\n",
    "            \n",
    "        return SpaceRock(x=x, y=y, z=z, vx=vx, vy=vy, vz=vz, m=mass, epoch=epoch)"
   ]
  },
  {
   "cell_type": "code",
   "execution_count": 4,
   "metadata": {},
   "outputs": [],
   "source": [
    "sim = Simulation()\n",
    "sim.integrator = 'ias15'\n",
    "sim.add_rocks(rock)\n",
    "sim.add_rocks(rock)"
   ]
  },
  {
   "cell_type": "code",
   "execution_count": 5,
   "metadata": {},
   "outputs": [],
   "source": [
    "rocks2 = sim.to_spacerocks()"
   ]
  },
  {
   "cell_type": "code",
   "execution_count": 10,
   "metadata": {},
   "outputs": [
    {
     "ename": "AttributeError",
     "evalue": "'SpaceRock' object has no attribute '_E'",
     "output_type": "error",
     "traceback": [
      "\u001b[0;31m---------------------------------------------------------------------------\u001b[0m",
      "\u001b[0;31mAttributeError\u001b[0m                            Traceback (most recent call last)",
      "\u001b[0;32m<ipython-input-10-7d369f3876e9>\u001b[0m in \u001b[0;36m<module>\u001b[0;34m\u001b[0m\n\u001b[0;32m----> 1\u001b[0;31m \u001b[0mrocks2\u001b[0m\u001b[0;34m.\u001b[0m\u001b[0mE\u001b[0m\u001b[0;34m\u001b[0m\u001b[0;34m\u001b[0m\u001b[0m\n\u001b[0m",
      "\u001b[0;32m~/research/spacerocks/spacerocks/orbitfuncs.py\u001b[0m in \u001b[0;36mE\u001b[0;34m(self)\u001b[0m\n\u001b[1;32m    345\u001b[0m         \u001b[0;32mdel\u001b[0m \u001b[0mself\u001b[0m\u001b[0;34m.\u001b[0m\u001b[0m_M\u001b[0m\u001b[0;34m\u001b[0m\u001b[0;34m\u001b[0m\u001b[0m\n\u001b[1;32m    346\u001b[0m \u001b[0;34m\u001b[0m\u001b[0m\n\u001b[0;32m--> 347\u001b[0;31m     \u001b[0;34m@\u001b[0m\u001b[0mproperty\u001b[0m\u001b[0;34m\u001b[0m\u001b[0;34m\u001b[0m\u001b[0m\n\u001b[0m\u001b[1;32m    348\u001b[0m     \u001b[0;32mdef\u001b[0m \u001b[0mE\u001b[0m\u001b[0;34m(\u001b[0m\u001b[0mself\u001b[0m\u001b[0;34m)\u001b[0m\u001b[0;34m:\u001b[0m\u001b[0;34m\u001b[0m\u001b[0;34m\u001b[0m\u001b[0m\n\u001b[1;32m    349\u001b[0m         \u001b[0;32mreturn\u001b[0m \u001b[0mself\u001b[0m\u001b[0;34m.\u001b[0m\u001b[0m_E\u001b[0m\u001b[0;34m\u001b[0m\u001b[0;34m\u001b[0m\u001b[0m\n",
      "\u001b[0;31mAttributeError\u001b[0m: 'SpaceRock' object has no attribute '_E'"
     ]
    }
   ],
   "source": [
    "rocks2.E"
   ]
  },
  {
   "cell_type": "code",
   "execution_count": null,
   "metadata": {},
   "outputs": [],
   "source": [
    "sim = Simulation()"
   ]
  },
  {
   "cell_type": "code",
   "execution_count": null,
   "metadata": {},
   "outputs": [],
   "source": [
    "sim.add_rocks(rocks)"
   ]
  },
  {
   "cell_type": "code",
   "execution_count": null,
   "metadata": {},
   "outputs": [],
   "source": [
    "class Planets:\n",
    "    \n",
    "    def mercury(self):\n",
    "        pass\n",
    "    \n",
    "    def venus(self):\n",
    "        pass\n",
    "    \n",
    "    def earth(self):\n",
    "        pass\n",
    "    \n",
    "    def mars(self):\n",
    "        pass\n",
    "    \n",
    "    def jupiter(self):\n",
    "        pass\n",
    "    \n",
    "    def uranus(self):\n",
    "        pass\n",
    "    \n",
    "    def saturn(self):\n",
    "        pass\n",
    "    \n",
    "    def neptune(self):\n",
    "        pass\n",
    "    \n",
    "    def moon(self):\n",
    "        pass"
   ]
  },
  {
   "cell_type": "code",
   "execution_count": null,
   "metadata": {},
   "outputs": [],
   "source": [
    "class ExtendedBody:\n",
    "    \n",
    "    def __init__(self):\n",
    "    \n",
    "        self.radius = radius\n",
    "        self.mass = mass\n",
    "        self.H = H\n",
    "        self.density = density\n",
    "    \n",
    "    @property\n",
    "    def hill_radius(self):\n",
    "        return "
   ]
  }
 ],
 "metadata": {
  "kernelspec": {
   "display_name": "Python 3",
   "language": "python",
   "name": "python3"
  },
  "language_info": {
   "codemirror_mode": {
    "name": "ipython",
    "version": 3
   },
   "file_extension": ".py",
   "mimetype": "text/x-python",
   "name": "python",
   "nbconvert_exporter": "python",
   "pygments_lexer": "ipython3",
   "version": "3.9.2"
  }
 },
 "nbformat": 4,
 "nbformat_minor": 2
}
